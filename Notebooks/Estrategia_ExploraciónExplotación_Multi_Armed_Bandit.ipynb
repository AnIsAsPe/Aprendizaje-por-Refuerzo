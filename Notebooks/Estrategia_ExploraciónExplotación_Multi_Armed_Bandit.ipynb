{
  "nbformat": 4,
  "nbformat_minor": 0,
  "metadata": {
    "colab": {
      "name": "Estrategia Exploración-Explotación_Multi_Armed_Bandit.ipynb",
      "provenance": [],
      "toc_visible": true,
      "authorship_tag": "ABX9TyOMEpoYgQKAQgaoOGprr/76",
      "include_colab_link": true
    },
    "kernelspec": {
      "name": "python3",
      "display_name": "Python 3"
    },
    "language_info": {
      "name": "python"
    }
  },
  "cells": [
    {
      "cell_type": "markdown",
      "metadata": {
        "id": "view-in-github",
        "colab_type": "text"
      },
      "source": [
        "<a href=\"https://colab.research.google.com/github/AnIsAsPe/Aprendizaje-por-Refuerzo/blob/main/Notebooks/Estrategia_Exploraci%C3%B3nExplotaci%C3%B3n_Multi_Armed_Bandit.ipynb\" target=\"_parent\"><img src=\"https://colab.research.google.com/assets/colab-badge.svg\" alt=\"Open In Colab\"/></a>"
      ]
    },
    {
      "cell_type": "markdown",
      "metadata": {
        "id": "k9ADAbH73rfS"
      },
      "source": [
        "#Bibliotecas y Funciones\n"
      ]
    },
    {
      "cell_type": "code",
      "metadata": {
        "id": "TJ0Ts9FIHEmu"
      },
      "source": [
        "import numpy as np\n",
        "import matplotlib.pyplot as plt"
      ],
      "execution_count": 107,
      "outputs": []
    },
    {
      "cell_type": "code",
      "metadata": {
        "id": "wTvgN0tvHi3A"
      },
      "source": [
        "def entorno_multi_armed_bandit(maquinas):\n",
        "    '''\n",
        "    Creamos el entorno para el problema \"multi_armed_bandit\" generando aleatoriamente\n",
        "    la distribución de probabilidad de los premios que otorga cada máquina\n",
        "    '''\n",
        "    premio_medio = np.random.uniform(-10, 5, size=maquinas)\n",
        "    desv_estandar = np.random.uniform(0, 5, size=maquinas)\n",
        "    return premio_medio, desv_estandar"
      ],
      "execution_count": 108,
      "outputs": []
    },
    {
      "cell_type": "code",
      "metadata": {
        "id": "srAAbKjhKM_E"
      },
      "source": [
        "def init_Q(maquinas):\n",
        "  '''Inicializa el vector Q en ceros, el vector Q representa el valor esperado\n",
        "   de recompensa de cada máquina'''\n",
        "  Q =np.zeros(shape =(1, maquinas))\n",
        "  return Q"
      ],
      "execution_count": 109,
      "outputs": []
    },
    {
      "cell_type": "code",
      "metadata": {
        "id": "N2yLnkZKLUlp"
      },
      "source": [
        "def selecciona_maquina(maquinas):\n",
        "    '''selecciona una máquina aleatoriamente con distribución unifome'''\n",
        "    selec = np.random.choice(range(maquinas))\n",
        "    return selec"
      ],
      "execution_count": 110,
      "outputs": []
    },
    {
      "cell_type": "code",
      "metadata": {
        "id": "QoF4BrM1gfA-"
      },
      "source": [
        "def selecciona_maquina_expl(maquinas):\n",
        "    '''selecciona la maquina con el maximo valor de la ganancia esperada'''\n",
        "    select = np.argmax(Q[0])\n",
        "    return selec"
      ],
      "execution_count": 111,
      "outputs": []
    },
    {
      "cell_type": "code",
      "metadata": {
        "id": "Y9atc3BHgU2d"
      },
      "source": [
        "def selecciona_maquina_egd(maquinas, ε):\n",
        "    '''selecciona una con la estrategia epsilon decreasing greedy'''\n",
        "    p = np.random.uniform(0,1)\n",
        "\n",
        "    # cuándo epsilon es pequeño, generalmente se escoge la maquina con mayor ganancia\n",
        "    if p < (1 - ε):\n",
        "        selec = np.argmax(Q[0])\n",
        "        return selec\n",
        "\n",
        "    # cuando epsilon es grande, generalmente se escoge una al azar\n",
        "    else:\n",
        "        selec = np.random.choice(range(maquinas))\n",
        "        return selec"
      ],
      "execution_count": 112,
      "outputs": []
    },
    {
      "cell_type": "code",
      "metadata": {
        "id": "HUv7oB7VId1t"
      },
      "source": [
        "def calcula_recompensa(selec):\n",
        "  '''calcula la recompensa de jugar en una determinada máquina'''\n",
        "  r = int(np.random.normal(premio_medio[selec], desv_estandar[selec], 1))\n",
        "  return r"
      ],
      "execution_count": 113,
      "outputs": []
    },
    {
      "cell_type": "code",
      "metadata": {
        "id": "QHfwiInqOkBX"
      },
      "source": [
        "def actualiza_Q (Q, selec, r, veces_maq):\n",
        "    '''actualiza el valor esperados de recompensa de la máquina seleccionada'''\n",
        "    Q[0, selec] = Q[0, selec] + 1/(veces_maq[selec])*(r - Q[0, selec])\n",
        "    return Q"
      ],
      "execution_count": 114,
      "outputs": []
    },
    {
      "cell_type": "markdown",
      "metadata": {
        "id": "VzVeNtKjpHrT"
      },
      "source": [
        "# Introducción"
      ]
    },
    {
      "cell_type": "markdown",
      "metadata": {
        "id": "TKA6ZoIgr9wq"
      },
      "source": [
        "## Definimos nuestro entorno"
      ]
    },
    {
      "cell_type": "code",
      "metadata": {
        "id": "8FJ8WPRopBiH"
      },
      "source": [
        "### Creamos el entorno definiendo el comportamiento de cada máquina\n",
        "\n",
        "premio_medio  = np.array([1,  2,  3, -10])\n",
        "desv_estandar = np.array([1, 4, 5,  1])"
      ],
      "execution_count": 115,
      "outputs": []
    },
    {
      "cell_type": "code",
      "source": [
        "maquina = 2\n",
        "\n",
        "#  r es el premio aleatorio que va a dar una máquina (dada su distribución)\n",
        "r = np.random.normal(premio_medio[maquina], desv_estandar[maquina],10000)\n",
        "plt.hist( r, bins=30,  density=True)\n",
        "plt.show()\n",
        "print('\\nLa máquina arrojo durante los primeras 10 jugadas los siguientes premios: \\n')\n",
        "print (r[0:10])"
      ],
      "metadata": {
        "id": "JEnrsD3ZyZI0",
        "outputId": "7e6813ff-8799-48dc-e636-ac48e0a35323",
        "colab": {
          "base_uri": "https://localhost:8080/",
          "height": 517
        }
      },
      "execution_count": 116,
      "outputs": [
        {
          "output_type": "display_data",
          "data": {
            "text/plain": [
              "<Figure size 640x480 with 1 Axes>"
            ],
            "image/png": "[encoded data removed]"
          },
          "metadata": {}
        },
        {
          "output_type": "stream",
          "name": "stdout",
          "text": [
            "\n",
            "La máquina arrojo durante los primeras 10 jugadas los siguientes premios: \n",
            "\n",
            "[ 2.21611998  3.03243955  3.90128611  5.07921169 12.75954077  2.48142572\n",
            "  7.73990087  1.9058096   4.86859392 12.71287384]\n"
          ]
        }
      ]
    },
    {
      "cell_type": "markdown",
      "source": [
        "## ¿Que hace un jugador en el casino?"
      ],
      "metadata": {
        "id": "b-FpFTSl1UF0"
      }
    },
    {
      "cell_type": "markdown",
      "metadata": {
        "id": "djXUF3Prrubk"
      },
      "source": [
        "* inicializamos en cero la variable que guardará los premios o perdidas acumuladas"
      ]
    },
    {
      "cell_type": "code",
      "metadata": {
        "id": "A5Zlrmeum_3q"
      },
      "source": [
        "premio_acumulado = 0"
      ],
      "execution_count": 117,
      "outputs": []
    },
    {
      "cell_type": "markdown",
      "metadata": {
        "id": "nMOjxNywtLLw"
      },
      "source": [
        "* seleccionamos una de las maquinas,\n",
        "* jugamos en ella y obtenemos la recompensa (o pérdida)\n",
        "* se suma la recompensa o perdida al total acumulado"
      ]
    },
    {
      "cell_type": "code",
      "metadata": {
        "colab": {
          "base_uri": "https://localhost:8080/"
        },
        "id": "dGjez-pgtLLz",
        "outputId": "5760062c-5cd4-4d29-f60f-1168f4d98fb1"
      },
      "source": [
        "# 1) se selecciona una máquina\n",
        "selec = 2\n",
        "\n",
        "# 2) jugamos en la máquina seleccionada y  se obtiene una recompensa o pérdida\n",
        "r = int(np.random.normal(premio_medio[selec], desv_estandar[selec], 1))\n",
        "\n",
        "# 3) se suma al premio acumulado\n",
        "premio_acumulado += r\n",
        "print('recompensa (r):', r)\n",
        "print('Premio acumulado:', premio_acumulado)"
      ],
      "execution_count": 118,
      "outputs": [
        {
          "output_type": "stream",
          "name": "stdout",
          "text": [
            "recompensa (r): 14\n",
            "Premio acumulado: 14\n"
          ]
        }
      ]
    },
    {
      "cell_type": "markdown",
      "metadata": {
        "id": "3fOSdzrXvkOE"
      },
      "source": [
        "##  ¿Cómo guardamos la información de los premios obtenidos de cada máquina?"
      ]
    },
    {
      "cell_type": "markdown",
      "source": [
        "Promedio Incremental\n",
        "\n",
        "$Q =  Q_{n-1}+\\frac{1}{n} (r_n - Q_{n-1})$"
      ],
      "metadata": {
        "id": "HVASmSMgzEe8"
      }
    },
    {
      "cell_type": "code",
      "metadata": {
        "colab": {
          "base_uri": "https://localhost:8080/"
        },
        "id": "dnPBUn3qnYn2",
        "outputId": "92a64b06-c721-42a4-fae7-cb9bb5c6de98"
      },
      "source": [
        "# Inicializa el vector Q en ceros, donde guardaremos la información\n",
        "n_maquinas = 4\n",
        "Q = np.zeros(shape =(1, n_maquinas))\n",
        "Q"
      ],
      "execution_count": 119,
      "outputs": [
        {
          "output_type": "execute_result",
          "data": {
            "text/plain": [
              "array([[0., 0., 0., 0.]])"
            ]
          },
          "metadata": {},
          "execution_count": 119
        }
      ]
    },
    {
      "cell_type": "code",
      "metadata": {
        "colab": {
          "base_uri": "https://localhost:8080/"
        },
        "outputId": "e43e4580-63fc-40b6-c483-960986712c21",
        "id": "PCwiS-nR0_7D"
      },
      "source": [
        "# Vamos a jugar cierto número de veces (episodios)\n",
        "episodios = 200\n",
        "n_maquinas = 4\n",
        "Q =np.zeros(shape =(1, n_maquinas))\n",
        "premio_acumulado = 0\n",
        "\n",
        "veces_maq = np.zeros(n_maquinas)      # guardaremos las veces que se va jugando en cada máquina\n",
        "\n",
        "\n",
        "for ep in range(1, episodios+1):\n",
        "      # 1) se selecciona una máquina\n",
        "      selec = np.random.choice([0,1,2,3]) # selección aleatoria -> exploración\n",
        "      veces_maq[selec] += 1               # actualizamos las veces que se ha jugado x máquina\n",
        "\n",
        "      # 2) jugamos en la máquina seleccionada y  se obtiene una recompensa o pérdida\n",
        "      r = int(np.random.normal(premio_medio[selec], desv_estandar[selec], 1))\n",
        "\n",
        "      # 3) se suma al premio acumulado\n",
        "      premio_acumulado += r\n",
        "\n",
        "      # 4) actualizamos la información con lo que aprendimos de la maquina en la que jugamos\n",
        "\n",
        "      Q[0, selec] = Q[0, selec] + 1/(veces_maq[selec])*(r - Q[0, selec])   # Promedio incremental\n",
        "\n",
        "      # 5) reportamos el progreso del aprendizaje\n",
        "      # print('Episodio_{}, Máquina {}, Premio = {}, Premio_acum = {}, Q:{} \\n'.format(ep,\n",
        "      #                                                                                selec,\n",
        "      #                                                                                r,\n",
        "      #                                                                                premio_acumulado,\n",
        "      #                                                                                Q.round(2)))\n",
        "Q, premio_acumulado"
      ],
      "execution_count": 120,
      "outputs": [
        {
          "output_type": "execute_result",
          "data": {
            "text/plain": [
              "(array([[ 0.58181818,  1.82692308,  3.        , -9.34090909]]), -137)"
            ]
          },
          "metadata": {},
          "execution_count": 120
        }
      ]
    },
    {
      "cell_type": "markdown",
      "metadata": {
        "id": "mVXPXUUw38V5"
      },
      "source": [
        "¿Sería correcto si, en lugar de escojer la máquina de forma aleatoria, escojemos la que más rendimientos ha dado?"
      ]
    },
    {
      "cell_type": "code",
      "metadata": {
        "colab": {
          "base_uri": "https://localhost:8080/"
        },
        "id": "ulLG8yCP0xLy",
        "outputId": "916d4120-f4e0-4e3f-9813-19e0e9cfcda1"
      },
      "source": [
        "selec = np.argmax(Q[0])  # selección usando la estrategia de explotación\n",
        "selec"
      ],
      "execution_count": 121,
      "outputs": [
        {
          "output_type": "execute_result",
          "data": {
            "text/plain": [
              "2"
            ]
          },
          "metadata": {},
          "execution_count": 121
        }
      ]
    },
    {
      "cell_type": "markdown",
      "metadata": {
        "id": "xX6_4S3c8JWN"
      },
      "source": [
        "¿Podemos pensar en una estrategia combinada?"
      ]
    },
    {
      "cell_type": "code",
      "metadata": {
        "id": "2R-1PKtw8lMb",
        "colab": {
          "base_uri": "https://localhost:8080/"
        },
        "outputId": "6c191fe4-c199-4e3b-8a39-23cd46a91900"
      },
      "source": [
        "p = np.random.uniform(0, 1 )  # escojemos un valor entre 0 y 1\n",
        "ε = .99 # valor que disminuye desde 1 hasta 0 según avance el aprendizaje\n",
        "print('p = {}, ε = {}'.format(p,ε))\n",
        "print('¿p es menor que 1 - ε?', p < (1 - ε))\n",
        "if p < (1 - ε):\n",
        "    # Explotación\n",
        "    print('explotación')\n",
        "    selec = np.argmax(Q[0])\n",
        "else:\n",
        "    # Exploración\n",
        "    print('exploración')\n",
        "    selec = np.random.choice(range(n_maquinas))\n",
        "print('Máquina seleccionada: ',selec)"
      ],
      "execution_count": 122,
      "outputs": [
        {
          "output_type": "stream",
          "name": "stdout",
          "text": [
            "p = 0.3677332139302071, ε = 0.99\n",
            "¿p es menor que 1 - ε? False\n",
            "exploración\n",
            "Máquina seleccionada:  0\n"
          ]
        }
      ]
    },
    {
      "cell_type": "code",
      "metadata": {
        "colab": {
          "base_uri": "https://localhost:8080/"
        },
        "outputId": "541104c3-61ac-4c39-f2d8-1c61e8a7bbb7",
        "id": "XErqtazR1t_I"
      },
      "source": [
        "p = np.random.uniform(0, 1 )  # escojemos un valor entre 0 y 1\n",
        "ε = 0.5 # valor que disminuye desde 1 hasta 0 según avance el aprendizaje\n",
        "print('p = {}, ε = {}'.format(p,ε))\n",
        "print('¿p es menor que 1 - ε?', p < (1 - ε))\n",
        "if p < (1 - ε):\n",
        "    # Explotación\n",
        "    print('explotación')\n",
        "    selec = np.argmax(Q[0])\n",
        "else:\n",
        "    # Exploración\n",
        "    print('exploración')\n",
        "    selec = np.random.choice(range(n_maquinas))\n",
        "print('Máquina seleccionada: ',selec)"
      ],
      "execution_count": 123,
      "outputs": [
        {
          "output_type": "stream",
          "name": "stdout",
          "text": [
            "p = 0.08933087631411829, ε = 0.5\n",
            "¿p es menor que 1 - ε? True\n",
            "explotación\n",
            "Máquina seleccionada:  2\n"
          ]
        }
      ]
    },
    {
      "cell_type": "markdown",
      "metadata": {
        "id": "Gmve4Vj7CJAf"
      },
      "source": [
        "Vamos a calcular  ε en función de los episodios, de manera decreciente\n"
      ]
    },
    {
      "cell_type": "code",
      "metadata": {
        "colab": {
          "base_uri": "https://localhost:8080/"
        },
        "id": "9V2gOQ1xCHLx",
        "outputId": "da0249f4-4374-4355-ed8c-513b61ec4dca"
      },
      "source": [
        "episodios = 200\n",
        "epsilon_vec = np.exp(-5 * np.linspace(0, 1, episodios))\n",
        "epsilon_vec"
      ],
      "execution_count": 124,
      "outputs": [
        {
          "output_type": "execute_result",
          "data": {
            "text/plain": [
              "array([1.        , 0.97518739, 0.95099045, 0.9273939 , 0.90438284,\n",
              "       0.88194274, 0.86005945, 0.83871913, 0.81790832, 0.79761388,\n",
              "       0.777823  , 0.75852319, 0.73970225, 0.72134831, 0.70344978,\n",
              "       0.68599536, 0.66897402, 0.65237503, 0.63618791, 0.62040243,\n",
              "       0.60500863, 0.58999679, 0.57535743, 0.56108131, 0.54715942,\n",
              "       0.53358297, 0.52034338, 0.50743231, 0.49484159, 0.48256328,\n",
              "       0.47058963, 0.45891307, 0.44752624, 0.43642195, 0.42559318,\n",
              "       0.41503311, 0.40473505, 0.39469252, 0.38489917, 0.37534882,\n",
              "       0.36603544, 0.35695314, 0.34809621, 0.33945903, 0.33103617,\n",
              "       0.3228223 , 0.31481224, 0.30700092, 0.29938343, 0.29195495,\n",
              "       0.28471078, 0.27764637, 0.27075724, 0.26403904, 0.25748755,\n",
              "       0.25109861, 0.2448682 , 0.23879238, 0.23286732, 0.22708927,\n",
              "       0.2214546 , 0.21595973, 0.21060121, 0.20537564, 0.20027974,\n",
              "       0.19531028, 0.19046412, 0.18573821, 0.18112956, 0.17663526,\n",
              "       0.17225248, 0.16797845, 0.16381046, 0.1597459 , 0.15578219,\n",
              "       0.15191683, 0.14814737, 0.14447145, 0.14088674, 0.13739097,\n",
              "       0.13398194, 0.1306575 , 0.12741555, 0.12425404, 0.12117097,\n",
              "       0.1181644 , 0.11523243, 0.11237322, 0.10958495, 0.10686586,\n",
              "       0.10421424, 0.10162841, 0.09910674, 0.09664765, 0.09424957,\n",
              "       0.09191099, 0.08963044, 0.08740647, 0.08523769, 0.08312272,\n",
              "       0.08106023, 0.07904891, 0.07708751, 0.07517476, 0.07330948,\n",
              "       0.07149048, 0.06971662, 0.06798677, 0.06629984, 0.06465477,\n",
              "       0.06305051, 0.06148606, 0.05996043, 0.05847266, 0.0570218 ,\n",
              "       0.05560694, 0.05422719, 0.05288167, 0.05156954, 0.05028996,\n",
              "       0.04904214, 0.04782528, 0.04663861, 0.04548138, 0.04435287,\n",
              "       0.04325236, 0.04217915, 0.04113258, 0.04011197, 0.03911669,\n",
              "       0.0381461 , 0.0371996 , 0.03627658, 0.03537646, 0.03449868,\n",
              "       0.03364268, 0.03280792, 0.03199387, 0.03120002, 0.03042586,\n",
              "       0.02967092, 0.0289347 , 0.02821676, 0.02751663, 0.02683387,\n",
              "       0.02616805, 0.02551875, 0.02488557, 0.02426809, 0.02366594,\n",
              "       0.02307872, 0.02250608, 0.02194764, 0.02140307, 0.020872  ,\n",
              "       0.02035411, 0.01984907, 0.01935657, 0.01887628, 0.01840791,\n",
              "       0.01795116, 0.01750575, 0.01707138, 0.0166478 , 0.01623472,\n",
              "       0.0158319 , 0.01543907, 0.01505598, 0.0146824 , 0.0143181 ,\n",
              "       0.01396283, 0.01361637, 0.01327851, 0.01294904, 0.01262774,\n",
              "       0.01231441, 0.01200886, 0.01171089, 0.01142031, 0.01113694,\n",
              "       0.01086061, 0.01059113, 0.01032833, 0.01007206, 0.00982215,\n",
              "       0.00957843, 0.00934077, 0.009109  , 0.00888298, 0.00866257,\n",
              "       0.00844763, 0.00823802, 0.00803362, 0.00783428, 0.00763989,\n",
              "       0.00745033, 0.00726546, 0.00708519, 0.00690939, 0.00673795])"
            ]
          },
          "metadata": {},
          "execution_count": 124
        }
      ]
    },
    {
      "cell_type": "code",
      "metadata": {
        "colab": {
          "base_uri": "https://localhost:8080/",
          "height": 503
        },
        "id": "UuxbAT2X-ian",
        "outputId": "b254e459-6fd4-4926-af94-8acb60aac0b6"
      },
      "source": [
        "fig =plt.figure()\n",
        "plt.plot(epsilon_vec)\n",
        "plt.xlabel('episodio', fontsize=16)\n",
        "plt.ylabel('ε', fontsize=16)\n",
        "fig.suptitle('ε decreciente con el numero de episodios', fontsize=18)\n",
        "\n",
        "plt.show()"
      ],
      "execution_count": 125,
      "outputs": [
        {
          "output_type": "display_data",
          "data": {
            "text/plain": [
              "<Figure size 640x480 with 1 Axes>"
            ],
            "image/png": "[encoded data removed]"
          },
          "metadata": {}
        }
      ]
    },
    {
      "cell_type": "markdown",
      "metadata": {
        "id": "lHGYfGfVtZhW"
      },
      "source": [
        "# Aprendizaje con distintas estrategias"
      ]
    },
    {
      "cell_type": "code",
      "metadata": {
        "id": "0QF9KYgctZ9P"
      },
      "source": [
        "# ### Definimos el número de máquinas o brazos del problema\n",
        "# n_maquinas = 3\n",
        "\n",
        "# ### Creamos el entorno\n",
        "# np.random.seed(28)\n",
        "# premio_medio, desv_estandar = entorno_multi_armed_bandit(n_maquinas)  # inicializa la distribución de probabilidad de cada máquina\n",
        "### Definimos el número de episodios (juegos)\n",
        "episodios = 10000"
      ],
      "execution_count": 126,
      "outputs": []
    },
    {
      "cell_type": "markdown",
      "metadata": {
        "id": "SBOk8P63f7Hn"
      },
      "source": [
        "## Exploración"
      ]
    },
    {
      "cell_type": "code",
      "metadata": {
        "id": "XGdvub9qSwmJ",
        "colab": {
          "base_uri": "https://localhost:8080/"
        },
        "outputId": "e94c804d-31b3-4a50-a5e8-ca0514ed093e"
      },
      "source": [
        "### Inicializamos el vector Q\n",
        "Q = init_Q(n_maquinas)\n",
        "premio_acumulado = 0\n",
        "veces_maq = np.zeros(n_maquinas)      # guardaremos las veces que se ha jugado por máquina\n",
        "for episodio in range(1,episodios+1):\n",
        "    selec = selecciona_maquina(n_maquinas)\n",
        "    veces_maq[selec] += 1               # actualizamos las veces que se ha jugado x máquina\n",
        "    # Calcula el premio de esa acción\n",
        "    r = calcula_recompensa(selec)\n",
        "    # Actualiza la información de los premios acumulados por cada máquina\n",
        "    Q = actualiza_Q(Q, selec, r, veces_maq)\n",
        "\n",
        "    premio_acumulado += r\n",
        "\n",
        "print(\"La ganancia total es de: \", premio_acumulado)"
      ],
      "execution_count": 127,
      "outputs": [
        {
          "output_type": "stream",
          "name": "stdout",
          "text": [
            "La ganancia total es de:  -10834\n"
          ]
        }
      ]
    },
    {
      "cell_type": "code",
      "source": [
        "Q"
      ],
      "metadata": {
        "id": "5UnvLZXG82uj",
        "outputId": "081e81ef-0dad-4c21-e88f-dadeef1f4cb2",
        "colab": {
          "base_uri": "https://localhost:8080/"
        }
      },
      "execution_count": 128,
      "outputs": [
        {
          "output_type": "execute_result",
          "data": {
            "text/plain": [
              "array([[ 0.65815486,  1.81974922,  2.79365717, -9.50375643]])"
            ]
          },
          "metadata": {},
          "execution_count": 128
        }
      ]
    },
    {
      "cell_type": "markdown",
      "metadata": {
        "id": "OIDUtGQYnZCL"
      },
      "source": [
        "## Explotación"
      ]
    },
    {
      "cell_type": "code",
      "metadata": {
        "id": "SMTfsHDUnfH4",
        "colab": {
          "base_uri": "https://localhost:8080/"
        },
        "outputId": "cc829bfd-2206-437d-c828-f1f919052e12"
      },
      "source": [
        "### Inicializamos el vector Q\n",
        "Q = init_Q(n_maquinas)\n",
        "premio_acumulado = 0\n",
        "veces_maq = np.zeros(n_maquinas)      # guardaremos las veces que se ha jugado por máquina\n",
        "for i in range(n_maquinas):  # creamos un ciclo para jugar en cada máquina\n",
        "    veces_maq[i] += 1               # actualizamos las veces que se ha jugado x máquina\n",
        "    r = calcula_recompensa(i)\n",
        "    Q = actualiza_Q(Q, i, r, veces_maq)\n",
        "    premio_acumulado += r\n",
        "for episodio in range(n_maquinas+1 ,episodios+1): # el resto de los episodios los jugamos con una estrategia codiciosa\n",
        "    selec = selecciona_maquina_expl(n_maquinas)\n",
        "    veces_maq[selec] += 1               # actualizamos las veces que se ha jugado x máquina\n",
        "    r = calcula_recompensa(selec)\n",
        "    Q = actualiza_Q(Q, selec, r, veces_maq)\n",
        "    premio_acumulado += r\n",
        "print(\"El premio acumulado es de: \", premio_acumulado)"
      ],
      "execution_count": 129,
      "outputs": [
        {
          "output_type": "stream",
          "name": "stdout",
          "text": [
            "El premio acumulado es de:  6596\n"
          ]
        }
      ]
    },
    {
      "cell_type": "code",
      "source": [
        "Q"
      ],
      "metadata": {
        "id": "vTw3zB6e8xwd",
        "outputId": "eb0555ce-3955-4ae2-d58d-8918471d87be",
        "colab": {
          "base_uri": "https://localhost:8080/"
        }
      },
      "execution_count": 130,
      "outputs": [
        {
          "output_type": "execute_result",
          "data": {
            "text/plain": [
              "array([[ 0.66059818, -1.        ,  1.        , -8.        ]])"
            ]
          },
          "metadata": {},
          "execution_count": 130
        }
      ]
    },
    {
      "cell_type": "markdown",
      "metadata": {
        "id": "7gXk8RpAf_S5"
      },
      "source": [
        "## Epsilon decreasing greedy"
      ]
    },
    {
      "cell_type": "code",
      "metadata": {
        "id": "Wwluzms4f_S7",
        "colab": {
          "base_uri": "https://localhost:8080/"
        },
        "outputId": "2fcb66ee-9f0b-4071-a170-a53ee712bb38"
      },
      "source": [
        "### Inicializamos el vector Q\n",
        "Q = init_Q(n_maquinas)\n",
        "epsilon_vec = np.exp(-5 * np.linspace(0, 1, episodios))  # creamos el vector con un epsilon para cada episodio\n",
        "premio_acumulado = 0\n",
        "veces_maq = np.zeros(n_maquinas)      # guardaremos las veces que se ha jugado por máquina\n",
        "for episodio in range(1 ,episodios+1):\n",
        "    ε = epsilon_vec[episodio-1]  #epsilon decreciente\n",
        "    selec = selecciona_maquina_egd(n_maquinas, ε)\n",
        "    veces_maq[selec] += 1               # actualizamos las veces que se ha jugado x máquina\n",
        "    r = calcula_recompensa(selec)\n",
        "    Q = actualiza_Q(Q, selec, r, veces_maq)\n",
        "    premio_acumulado += r\n",
        "\n",
        "print(\"El premio acumulado es de: \", premio_acumulado)"
      ],
      "execution_count": 131,
      "outputs": [
        {
          "output_type": "stream",
          "name": "stdout",
          "text": [
            "El premio acumulado es de:  20490\n"
          ]
        }
      ]
    },
    {
      "cell_type": "code",
      "source": [
        "Q"
      ],
      "metadata": {
        "id": "bkgKQA26TcUE",
        "outputId": "6823991f-f993-48dd-afc5-d889bd87ba80",
        "colab": {
          "base_uri": "https://localhost:8080/"
        }
      },
      "execution_count": 132,
      "outputs": [
        {
          "output_type": "execute_result",
          "data": {
            "text/plain": [
              "array([[ 0.67280164,  1.81140351,  2.77196458, -9.41649049]])"
            ]
          },
          "metadata": {},
          "execution_count": 132
        }
      ]
    },
    {
      "cell_type": "markdown",
      "source": [],
      "metadata": {
        "id": "b1mRLhOgTc36"
      }
    },
    {
      "cell_type": "markdown",
      "metadata": {
        "id": "U9EM0mu3mB99"
      },
      "source": [
        "# Referencias:\n",
        "\n",
        "[1]A. Aristizabal, «Understanding Reinforcement Learning Hands-On: Multi-Armed Bandits», Medium, oct. 19, 2020. https://towardsdatascience.com/understanding-reinforcement-learning-hands-on-part-2-multi-armed-bandits-526592072bdc (accedido jul. 30, 2021).\n",
        "\n"
      ]
    }
  ]
}