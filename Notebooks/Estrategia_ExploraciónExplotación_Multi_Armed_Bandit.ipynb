{
  "nbformat": 4,
  "nbformat_minor": 0,
  "metadata": {
    "colab": {
      "name": "Estrategia Exploración-Explotación_Multi_Armed_Bandit.ipynb",
      "provenance": [],
      "toc_visible": true,
      "authorship_tag": "ABX9TyOfQLDM6AKAqh5tCqkYW6AF",
      "include_colab_link": true
    },
    "kernelspec": {
      "name": "python3",
      "display_name": "Python 3"
    },
    "language_info": {
      "name": "python"
    }
  },
  "cells": [
    {
      "cell_type": "markdown",
      "metadata": {
        "id": "view-in-github",
        "colab_type": "text"
      },
      "source": [
        "<a href=\"https://colab.research.google.com/github/AnIsAsPe/Aprendizaje-por-Refuerzo/blob/main/Notebooks/Estrategia_Exploraci%C3%B3nExplotaci%C3%B3n_Multi_Armed_Bandit.ipynb\" target=\"_parent\"><img src=\"https://colab.research.google.com/assets/colab-badge.svg\" alt=\"Open In Colab\"/></a>"
      ]
    },
    {
      "cell_type": "markdown",
      "metadata": {
        "id": "k9ADAbH73rfS"
      },
      "source": [
        "#Bibliotecas y Funciones\n"
      ]
    },
    {
      "cell_type": "code",
      "metadata": {
        "id": "TJ0Ts9FIHEmu"
      },
      "source": [
        "import numpy as np\n",
        "import matplotlib.pyplot as plt"
      ],
      "execution_count": 46,
      "outputs": []
    },
    {
      "cell_type": "code",
      "metadata": {
        "id": "wTvgN0tvHi3A"
      },
      "source": [
        "def entorno_multi_armed_bandit(maquinas):\n",
        "    '''\n",
        "    Creamos el entorno para el problema \"multi_armed_bandit\" generando aleatoriamente\n",
        "    la distribución de probabilidad de los premios que otorga cada máquina\n",
        "    '''\n",
        "    premio_medio = np.random.uniform(-10, 5, size=maquinas)\n",
        "    desv_estandar = np.random.uniform(0, 5, size=maquinas)\n",
        "    return premio_medio, desv_estandar"
      ],
      "execution_count": 47,
      "outputs": []
    },
    {
      "cell_type": "code",
      "metadata": {
        "id": "srAAbKjhKM_E"
      },
      "source": [
        "def init_Q(maquinas):\n",
        "  '''Inicializa el vector Q en ceros, el vector Q representa el valor esperado\n",
        "   de recompensa de cada máquina'''\n",
        "  Q =np.zeros(shape=(1, maquinas))\n",
        "  return Q"
      ],
      "execution_count": 48,
      "outputs": []
    },
    {
      "cell_type": "code",
      "metadata": {
        "id": "N2yLnkZKLUlp"
      },
      "source": [
        "def selecciona_maquina_exploracion(maquinas):\n",
        "    '''Selecciona una máquina aleatoriamente con distribución unifome'''\n",
        "    selec = np.random.choice(range(maquinas))\n",
        "    return selec"
      ],
      "execution_count": 49,
      "outputs": []
    },
    {
      "cell_type": "code",
      "source": [
        "def selecciona_maquina_epsilon_greedy (maquinas):\n",
        "    '''Selecciona la máquina con el máximo valor de la ganancia esperada'''\n",
        "    p = np.random.uniform(0,1)\n",
        "    ε = 0.02\n",
        "\n",
        "    if p < (1 - ε):\n",
        "        selec = np.argmax(Q[0])\n",
        "        return selec\n",
        "\n",
        "\n",
        "    else:\n",
        "        selec = np.random.choice(range(maquinas))\n",
        "        return selec\n",
        "    return selec"
      ],
      "metadata": {
        "id": "gjjSB5uLS4RW"
      },
      "execution_count": 60,
      "outputs": []
    },
    {
      "cell_type": "code",
      "metadata": {
        "id": "Y9atc3BHgU2d"
      },
      "source": [
        "def selecciona_maquina_egd(maquinas, ε):\n",
        "    '''Selecciona una máquina con la estrategia epsilon decreasing greedy'''\n",
        "    p = np.random.uniform(0,1)\n",
        "\n",
        "    # cuándo epsilon es pequeño, generalmente se escoge la máquina con mayor ganancia\n",
        "    if p < (1 - ε):\n",
        "        selec = np.argmax(Q[0])\n",
        "        return selec\n",
        "\n",
        "    # cuando epsilon es grande, generalmente se escoge una al azar\n",
        "    else:\n",
        "        selec = np.random.choice(range(maquinas))\n",
        "        return selec"
      ],
      "execution_count": 51,
      "outputs": []
    },
    {
      "cell_type": "code",
      "metadata": {
        "id": "HUv7oB7VId1t"
      },
      "source": [
        "def calcula_recompensa(selec):\n",
        "  '''Calcula la recompensa de jugar en una determinada máquina'''\n",
        "  r = int(np.random.normal(premio_medio[selec], desv_estandar[selec], 1)[0])\n",
        "  return r"
      ],
      "execution_count": 52,
      "outputs": []
    },
    {
      "cell_type": "code",
      "metadata": {
        "id": "QHfwiInqOkBX"
      },
      "source": [
        "def actualiza_Q (Q, selec, r, veces_maq):\n",
        "    '''Actualiza el valor esperados de recompensa de la máquina seleccionada'''\n",
        "    Q[0, selec] = Q[0, selec] + 1/(veces_maq[selec])*(r - Q[0, selec])\n",
        "    return Q"
      ],
      "execution_count": 53,
      "outputs": []
    },
    {
      "cell_type": "markdown",
      "metadata": {
        "id": "VzVeNtKjpHrT"
      },
      "source": [
        "# Introducción"
      ]
    },
    {
      "cell_type": "markdown",
      "metadata": {
        "id": "TKA6ZoIgr9wq"
      },
      "source": [
        "## Definimos nuestro entorno"
      ]
    },
    {
      "cell_type": "code",
      "metadata": {
        "id": "8FJ8WPRopBiH"
      },
      "source": [
        "### Creamos el entorno definiendo el comportamiento de cada máquina\n",
        "\n",
        "premio_medio  = np.array([1,  2,  3, -10])\n",
        "desv_estandar = np.array([1, 4, 5,  1])"
      ],
      "execution_count": 13,
      "outputs": []
    },
    {
      "cell_type": "code",
      "source": [
        "maquina = 1\n",
        "n = 10000\n",
        "#  r es el premio aleatorio que va a dar una máquina (dada su distribución)\n",
        "r = np.random.normal(premio_medio[maquina], desv_estandar[maquina],n)\n",
        "plt.hist(r, bins=30, density=True)\n",
        "plt.show()\n",
        "print('\\nLa máquina arrojo durante los primeras 10 jugadas los siguientes premios: \\n')\n",
        "print (r[0:10])"
      ],
      "metadata": {
        "id": "JEnrsD3ZyZI0",
        "outputId": "5047d4d3-b8b2-489b-c760-8e70ae742020",
        "colab": {
          "base_uri": "https://localhost:8080/",
          "height": 0
        }
      },
      "execution_count": 14,
      "outputs": [
        {
          "output_type": "display_data",
          "data": {
            "text/plain": [
              "<Figure size 640x480 with 1 Axes>"
            ],
            "image/png": "[encoded data removed]"
          },
          "metadata": {}
        },
        {
          "output_type": "stream",
          "name": "stdout",
          "text": [
            "\n",
            "La máquina arrojo durante los primeras 10 jugadas los siguientes premios: \n",
            "\n",
            "[ 0.72436394  3.30692869  3.69855323 -8.4039401   2.00803673  7.88715973\n",
            "  4.07893134  4.81108137  1.34435041  6.91848006]\n"
          ]
        }
      ]
    },
    {
      "cell_type": "markdown",
      "source": [
        "## ¿Que hace un jugador en el casino?"
      ],
      "metadata": {
        "id": "b-FpFTSl1UF0"
      }
    },
    {
      "cell_type": "markdown",
      "metadata": {
        "id": "djXUF3Prrubk"
      },
      "source": [
        "* inicializamos en cero la variable que guardará los premios o perdidas acumuladas"
      ]
    },
    {
      "cell_type": "code",
      "metadata": {
        "id": "A5Zlrmeum_3q"
      },
      "source": [
        "premio_acumulado = 0"
      ],
      "execution_count": 15,
      "outputs": []
    },
    {
      "cell_type": "markdown",
      "metadata": {
        "id": "nMOjxNywtLLw"
      },
      "source": [
        "* seleccionamos una de las maquinas,\n",
        "* jugamos en ella y obtenemos la recompensa (o pérdida)\n",
        "* se suma la recompensa o perdida al total acumulado"
      ]
    },
    {
      "cell_type": "code",
      "metadata": {
        "colab": {
          "base_uri": "https://localhost:8080/"
        },
        "id": "dGjez-pgtLLz",
        "outputId": "df772ebb-9177-4c3c-a230-aa59f4619e66"
      },
      "source": [
        "# 1) Se selecciona una máquina.\n",
        "selec = 1\n",
        "\n",
        "# 2) Jugamos en la máquina seleccionada y se obtiene una recompensa o pérdida.\n",
        "r = int(np.random.normal(premio_medio[selec], desv_estandar[selec], 1)[0])\n",
        "\n",
        "# 3) Se suma al premio acumulado.\n",
        "premio_acumulado += r\n",
        "print('recompensa (r):', r)\n",
        "print('Premio acumulado:', premio_acumulado)"
      ],
      "execution_count": 16,
      "outputs": [
        {
          "output_type": "stream",
          "name": "stdout",
          "text": [
            "recompensa (r): 10\n",
            "Premio acumulado: 10\n"
          ]
        }
      ]
    },
    {
      "cell_type": "markdown",
      "metadata": {
        "id": "3fOSdzrXvkOE"
      },
      "source": [
        "##  ¿Cómo guardamos la información de los premios obtenidos de cada máquina?"
      ]
    },
    {
      "cell_type": "markdown",
      "source": [
        "<center>Promedio Incremental\n",
        "\n",
        "$$Q =  Q_{n-1}+\\frac{1}{n} (r_n - Q_{n-1})$$"
      ],
      "metadata": {
        "id": "HVASmSMgzEe8"
      }
    },
    {
      "cell_type": "code",
      "metadata": {
        "colab": {
          "base_uri": "https://localhost:8080/"
        },
        "id": "dnPBUn3qnYn2",
        "outputId": "98049e7d-5847-4644-9a7c-19378e6f694b"
      },
      "source": [
        "# Inicializa el vector Q en ceros, donde guardaremos la información de cada máquina.\n",
        "n_maquinas = 4\n",
        "Q = np.zeros(shape=(1, n_maquinas))\n",
        "Q"
      ],
      "execution_count": 17,
      "outputs": [
        {
          "output_type": "execute_result",
          "data": {
            "text/plain": [
              "array([[0., 0., 0., 0.]])"
            ]
          },
          "metadata": {},
          "execution_count": 17
        }
      ]
    },
    {
      "cell_type": "code",
      "metadata": {
        "colab": {
          "base_uri": "https://localhost:8080/"
        },
        "outputId": "5d42dd1b-b32a-44a5-fc61-2658f4a445b2",
        "id": "PCwiS-nR0_7D"
      },
      "source": [
        "# Vamos a jugar cierto número de veces (episodios).\n",
        "episodios = 200\n",
        "\n",
        "# Inicializamos el vector Q y la variable \"premio acumulado\".\n",
        "Q = np.zeros(shape =(1, n_maquinas))\n",
        "premio_acumulado = 0\n",
        "\n",
        "# Inicializamos un vector que guardará las veces que se va jugando en cada máquina.\n",
        "n_maquinas = 4\n",
        "veces_maq = np.zeros(n_maquinas)\n",
        "\n",
        "# Creamos un ciclo de juego y aprendizaje.\n",
        "for ep in range(1, episodios+1):\n",
        "      # 1) Se selecciona una máquina, de manera aleatoria, distribución uniforme.\n",
        "      selec = np.random.choice([0, 1, 2, 3])\n",
        "\n",
        "      # 2) Jugamos en la máquina seleccionada y se obtiene una recompensa o pérdida\n",
        "      r = int(np.random.normal(premio_medio[selec], desv_estandar[selec], 1)[0])\n",
        "\n",
        "      # 3) Se suma la recompensa o pérdida obtenida al premio acumulado\n",
        "      premio_acumulado += r\n",
        "\n",
        "      # 5) Actualizamos la información con el premio o castigo obtenido en la máquina seleccionada\n",
        "      veces_maq[selec] += 1 # Actualizamos las veces que se ha jugado en la máquina seleccionada\n",
        "      Q[0, selec] = Q[0, selec] + 1/(veces_maq[selec])*(r - Q[0, selec])\n",
        "\n",
        "#       # 6) Reportamos el progreso del aprendizaje.\n",
        "#       print(f'Episodio {ep},   Máquina {selec},   Premio = {r},   \\\n",
        "# Premio_acumulado = {premio_acumulado},    Q = {Q.round(2)} \\n')\n",
        "\n",
        "print(f'Premio_acumulado = {premio_acumulado},   Q = {Q.round(2)}')"
      ],
      "execution_count": 18,
      "outputs": [
        {
          "output_type": "stream",
          "name": "stdout",
          "text": [
            "Premio_acumulado = -151,   Q = [[ 0.88  2.39  3.76 -9.48]]\n"
          ]
        }
      ]
    },
    {
      "cell_type": "markdown",
      "metadata": {
        "id": "mVXPXUUw38V5"
      },
      "source": [
        "¿Sería correcto si, en lugar de escojer la máquina de forma aleatoria, escojemos la que más rendimientos ha dado?"
      ]
    },
    {
      "cell_type": "code",
      "metadata": {
        "colab": {
          "base_uri": "https://localhost:8080/"
        },
        "id": "ulLG8yCP0xLy",
        "outputId": "2bc9075e-d1cf-4d1a-8055-adc24e3da736"
      },
      "source": [
        "selec = np.argmax(Q[0])  # Selección usando la estrategia de explotación.\n",
        "selec"
      ],
      "execution_count": 19,
      "outputs": [
        {
          "output_type": "execute_result",
          "data": {
            "text/plain": [
              "np.int64(2)"
            ]
          },
          "metadata": {},
          "execution_count": 19
        }
      ]
    },
    {
      "cell_type": "markdown",
      "metadata": {
        "id": "xX6_4S3c8JWN"
      },
      "source": [
        "¿Podemos pensar en una estrategia combinada?"
      ]
    },
    {
      "cell_type": "code",
      "metadata": {
        "id": "2R-1PKtw8lMb",
        "colab": {
          "base_uri": "https://localhost:8080/"
        },
        "outputId": "d610dcf8-9992-4494-9426-6ff2ec08ed88"
      },
      "source": [
        "p = np.random.uniform(0, 1)  # Obtenemos un valor entre 0 y 1.\n",
        "ε = .99 # Valor que disminuye desde 1 hasta 0 según avance el aprendizaje.\n",
        "\n",
        "print(f'p = {p}, ε = {ε}')\n",
        "print(f'¿Es p menor que 1 - ε?  {p < (1 - ε)}')\n",
        "if p < (1 - ε):\n",
        "    print('Explotación')\n",
        "    selec = np.argmax(Q[0])\n",
        "else:\n",
        "    # Exploración\n",
        "    print('Exploración')\n",
        "    selec = np.random.choice(range(n_maquinas))\n",
        "print(f'Máquina seleccionada: {selec}')"
      ],
      "execution_count": 20,
      "outputs": [
        {
          "output_type": "stream",
          "name": "stdout",
          "text": [
            "p = 0.6859239403983153, ε = 0.99\n",
            "¿Es p menor que 1 - ε?  False\n",
            "Exploración\n",
            "Máquina seleccionada: 2\n"
          ]
        }
      ]
    },
    {
      "cell_type": "code",
      "metadata": {
        "colab": {
          "base_uri": "https://localhost:8080/"
        },
        "outputId": "553a83df-e7f3-46ff-da52-a2aedcfdfec3",
        "id": "BlE8aewIB4mS"
      },
      "source": [
        "p = np.random.uniform(0, 1)  # Obtenemos un valor entre 0 y 1.\n",
        "ε = 0.01 # Valor que disminuye desde 1 hasta 0 según avance el aprendizaje.\n",
        "\n",
        "print(f'p = {p}, ε = {ε}')\n",
        "print(f'¿Es p menor que 1 - ε?  {p < (1 - ε)}')\n",
        "if p < (1 - ε):\n",
        "    print('Explotación')\n",
        "    selec = np.argmax(Q[0])\n",
        "else:\n",
        "    # Exploración\n",
        "    print('Exploración')\n",
        "    selec = np.random.choice(range(n_maquinas))\n",
        "print(f'Máquina seleccionada: {selec}')"
      ],
      "execution_count": 21,
      "outputs": [
        {
          "output_type": "stream",
          "name": "stdout",
          "text": [
            "p = 0.26074970861384705, ε = 0.01\n",
            "¿Es p menor que 1 - ε?  True\n",
            "Explotación\n",
            "Máquina seleccionada: 2\n"
          ]
        }
      ]
    },
    {
      "cell_type": "markdown",
      "metadata": {
        "id": "Gmve4Vj7CJAf"
      },
      "source": [
        "Vamos a calcular  ε en función de los episodios, de manera decreciente\n"
      ]
    },
    {
      "cell_type": "code",
      "metadata": {
        "colab": {
          "base_uri": "https://localhost:8080/"
        },
        "id": "9V2gOQ1xCHLx",
        "outputId": "6de574f0-3a1a-48c4-dace-cd54039463af"
      },
      "source": [
        "episodios = 200\n",
        "epsilon_vec = np.exp(-5*np.linspace(0, 1, episodios))\n",
        "epsilon_vec"
      ],
      "execution_count": 22,
      "outputs": [
        {
          "output_type": "execute_result",
          "data": {
            "text/plain": [
              "array([1.        , 0.97518739, 0.95099045, 0.9273939 , 0.90438284,\n",
              "       0.88194274, 0.86005945, 0.83871913, 0.81790832, 0.79761388,\n",
              "       0.777823  , 0.75852319, 0.73970225, 0.72134831, 0.70344978,\n",
              "       0.68599536, 0.66897402, 0.65237503, 0.63618791, 0.62040243,\n",
              "       0.60500863, 0.58999679, 0.57535743, 0.56108131, 0.54715942,\n",
              "       0.53358297, 0.52034338, 0.50743231, 0.49484159, 0.48256328,\n",
              "       0.47058963, 0.45891307, 0.44752624, 0.43642195, 0.42559318,\n",
              "       0.41503311, 0.40473505, 0.39469252, 0.38489917, 0.37534882,\n",
              "       0.36603544, 0.35695314, 0.34809621, 0.33945903, 0.33103617,\n",
              "       0.3228223 , 0.31481224, 0.30700092, 0.29938343, 0.29195495,\n",
              "       0.28471078, 0.27764637, 0.27075724, 0.26403904, 0.25748755,\n",
              "       0.25109861, 0.2448682 , 0.23879238, 0.23286732, 0.22708927,\n",
              "       0.2214546 , 0.21595973, 0.21060121, 0.20537564, 0.20027974,\n",
              "       0.19531028, 0.19046412, 0.18573821, 0.18112956, 0.17663526,\n",
              "       0.17225248, 0.16797845, 0.16381046, 0.1597459 , 0.15578219,\n",
              "       0.15191683, 0.14814737, 0.14447145, 0.14088674, 0.13739097,\n",
              "       0.13398194, 0.1306575 , 0.12741555, 0.12425404, 0.12117097,\n",
              "       0.1181644 , 0.11523243, 0.11237322, 0.10958495, 0.10686586,\n",
              "       0.10421424, 0.10162841, 0.09910674, 0.09664765, 0.09424957,\n",
              "       0.09191099, 0.08963044, 0.08740647, 0.08523769, 0.08312272,\n",
              "       0.08106023, 0.07904891, 0.07708751, 0.07517476, 0.07330948,\n",
              "       0.07149048, 0.06971662, 0.06798677, 0.06629984, 0.06465477,\n",
              "       0.06305051, 0.06148606, 0.05996043, 0.05847266, 0.0570218 ,\n",
              "       0.05560694, 0.05422719, 0.05288167, 0.05156954, 0.05028996,\n",
              "       0.04904214, 0.04782528, 0.04663861, 0.04548138, 0.04435287,\n",
              "       0.04325236, 0.04217915, 0.04113258, 0.04011197, 0.03911669,\n",
              "       0.0381461 , 0.0371996 , 0.03627658, 0.03537646, 0.03449868,\n",
              "       0.03364268, 0.03280792, 0.03199387, 0.03120002, 0.03042586,\n",
              "       0.02967092, 0.0289347 , 0.02821676, 0.02751663, 0.02683387,\n",
              "       0.02616805, 0.02551875, 0.02488557, 0.02426809, 0.02366594,\n",
              "       0.02307872, 0.02250608, 0.02194764, 0.02140307, 0.020872  ,\n",
              "       0.02035411, 0.01984907, 0.01935657, 0.01887628, 0.01840791,\n",
              "       0.01795116, 0.01750575, 0.01707138, 0.0166478 , 0.01623472,\n",
              "       0.0158319 , 0.01543907, 0.01505598, 0.0146824 , 0.0143181 ,\n",
              "       0.01396283, 0.01361637, 0.01327851, 0.01294904, 0.01262774,\n",
              "       0.01231441, 0.01200886, 0.01171089, 0.01142031, 0.01113694,\n",
              "       0.01086061, 0.01059113, 0.01032833, 0.01007206, 0.00982215,\n",
              "       0.00957843, 0.00934077, 0.009109  , 0.00888298, 0.00866257,\n",
              "       0.00844763, 0.00823802, 0.00803362, 0.00783428, 0.00763989,\n",
              "       0.00745033, 0.00726546, 0.00708519, 0.00690939, 0.00673795])"
            ]
          },
          "metadata": {},
          "execution_count": 22
        }
      ]
    },
    {
      "cell_type": "code",
      "metadata": {
        "colab": {
          "base_uri": "https://localhost:8080/",
          "height": 503
        },
        "id": "UuxbAT2X-ian",
        "outputId": "ac8be707-5684-4236-edcd-a915fd8029e5"
      },
      "source": [
        "fig =plt.figure()\n",
        "plt.plot(epsilon_vec)\n",
        "plt.xlabel('episodio', fontsize=16)\n",
        "plt.ylabel('ε', fontsize=16)\n",
        "fig.suptitle('ε decreciente con el numero de episodios', fontsize=18)\n",
        "\n",
        "plt.show()"
      ],
      "execution_count": 23,
      "outputs": [
        {
          "output_type": "display_data",
          "data": {
            "text/plain": [
              "<Figure size 640x480 with 1 Axes>"
            ],
            "image/png": "[encoded data removed]"
          },
          "metadata": {}
        }
      ]
    },
    {
      "cell_type": "markdown",
      "metadata": {
        "id": "lHGYfGfVtZhW"
      },
      "source": [
        "# Aprendizaje con distintas estrategias"
      ]
    },
    {
      "cell_type": "code",
      "metadata": {
        "id": "0QF9KYgctZ9P"
      },
      "source": [
        "# ### Definimos el número de máquinas o brazos del problema\n",
        "# n_maquinas = 3\n",
        "\n",
        "# ### Creamos el entorno\n",
        "# np.random.seed(28)\n",
        "# premio_medio, desv_estandar = entorno_multi_armed_bandit(n_maquinas)  # inicializa la distribución de probabilidad de cada máquina\n",
        "### Definimos el número de episodios (juegos)\n",
        "episodios = 10000"
      ],
      "execution_count": null,
      "outputs": []
    },
    {
      "cell_type": "markdown",
      "metadata": {
        "id": "SBOk8P63f7Hn"
      },
      "source": [
        "## Exploración"
      ]
    },
    {
      "cell_type": "code",
      "metadata": {
        "id": "XGdvub9qSwmJ",
        "colab": {
          "base_uri": "https://localhost:8080/"
        },
        "outputId": "039c77e2-d060-4363-f4f1-b436d8b29bb7"
      },
      "source": [
        "# Inicializamos el vector Q, la variable \"premio acumulado\" y el vector veces_maq.\n",
        "Q = init_Q(n_maquinas)\n",
        "premio_acumulado = 0\n",
        "veces_maq = np.zeros(n_maquinas)\n",
        "\n",
        "# Creamos un ciclo de juego y aprendizaje con estrategia de exploración.\n",
        "for episodio in range(1,episodios+1):\n",
        "    selec = selecciona_maquina_exploracion(n_maquinas)\n",
        "    veces_maq[selec] += 1\n",
        "    r = calcula_recompensa(selec)\n",
        "    Q = actualiza_Q(Q, selec, r, veces_maq)\n",
        "    premio_acumulado += r\n",
        "\n",
        "print(f\"El premio acumulado es de: ${premio_acumulado:,.2f}\".replace('$-', '-$'))"
      ],
      "execution_count": 61,
      "outputs": [
        {
          "output_type": "stream",
          "name": "stdout",
          "text": [
            "El premio acumulado es de: -$238.00\n"
          ]
        }
      ]
    },
    {
      "cell_type": "code",
      "source": [
        "Q"
      ],
      "metadata": {
        "id": "5UnvLZXG82uj",
        "outputId": "22b473d1-0f68-44ef-89eb-388701d7b958",
        "colab": {
          "base_uri": "https://localhost:8080/"
        }
      },
      "execution_count": 25,
      "outputs": [
        {
          "output_type": "execute_result",
          "data": {
            "text/plain": [
              "array([[ 0.734375  ,  0.98      ,  2.46808511, -9.33333333]])"
            ]
          },
          "metadata": {},
          "execution_count": 25
        }
      ]
    },
    {
      "cell_type": "markdown",
      "metadata": {
        "id": "OIDUtGQYnZCL"
      },
      "source": [
        "## Epsilon greedy"
      ]
    },
    {
      "cell_type": "code",
      "metadata": {
        "id": "SMTfsHDUnfH4",
        "colab": {
          "base_uri": "https://localhost:8080/"
        },
        "outputId": "21a5e884-1ffc-4dbf-ffce-f0eb2fab7952"
      },
      "source": [
        "# Inicializamos el vector Q, la variable \"premio acumulado\" y el vector veces_maq.\n",
        "Q = init_Q(n_maquinas)\n",
        "premio_acumulado = 0\n",
        "veces_maq = np.zeros(n_maquinas)\n",
        "\n",
        "# Creamos un ciclo para jugar en cada máquina\n",
        "for episodio in range(1, 6):\n",
        "    selec = selecciona_maquina_exploracion(n_maquinas)\n",
        "    r = calcula_recompensa(selec)\n",
        "    premio_acumulado += r\n",
        "    veces_maq[selec] += 1\n",
        "    Q = actualiza_Q(Q, selec, r, veces_maq)\n",
        "\n",
        "# El resto de los episodios jugamos con una estrategia codiciosa (explotación).\n",
        "for episodio in range(5 ,episodios+1):\n",
        "    selec = selecciona_maquina_epsilon_greedy(n_maquinas)\n",
        "    r = calcula_recompensa(selec)\n",
        "    premio_acumulado += r\n",
        "    veces_maq[selec] += 1\n",
        "    Q = actualiza_Q(Q, selec, r, veces_maq)\n",
        "\n",
        "print(f\"El premio acumulado es de: ${premio_acumulado:,.2f}\".replace('$-', '-$'))"
      ],
      "execution_count": 68,
      "outputs": [
        {
          "output_type": "stream",
          "name": "stdout",
          "text": [
            "El premio acumulado es de: $169.00\n"
          ]
        }
      ]
    },
    {
      "cell_type": "code",
      "source": [
        "Q"
      ],
      "metadata": {
        "id": "vTw3zB6e8xwd",
        "outputId": "1fbb42fd-9fe0-407f-8294-c8f36d5a2397",
        "colab": {
          "base_uri": "https://localhost:8080/"
        }
      },
      "execution_count": 31,
      "outputs": [
        {
          "output_type": "execute_result",
          "data": {
            "text/plain": [
              "array([[ 1.        ,  1.63157895,  2.35714286, -9.        ]])"
            ]
          },
          "metadata": {},
          "execution_count": 31
        }
      ]
    },
    {
      "cell_type": "markdown",
      "metadata": {
        "id": "7gXk8RpAf_S5"
      },
      "source": [
        "## Epsilon decreasing greedy (edg)"
      ]
    },
    {
      "cell_type": "code",
      "metadata": {
        "id": "Wwluzms4f_S7",
        "colab": {
          "base_uri": "https://localhost:8080/"
        },
        "outputId": "596e9bf2-55e0-429a-d47a-54ccc9420dd3"
      },
      "source": [
        "# Inicializamos el vector Q, la variable \"premio acumulado\" y el vector veces_maq.\n",
        "Q = init_Q(n_maquinas)\n",
        "premio_acumulado = 0\n",
        "veces_maq = np.zeros(n_maquinas)\n",
        "\n",
        "# Creamos el vector con un epsilon para cada episodio.\n",
        "epsilon_vec = np.exp(-5 * np.linspace(0, 1, episodios))\n",
        "\n",
        "# Creamos un ciclo de juego y aprendizaje con estrategia edg\n",
        "for episodio in range(1 ,episodios+1):\n",
        "    ε = epsilon_vec[episodio-1]  # Epsilon decreciente.\n",
        "    selec = selecciona_maquina_egd(n_maquinas, ε)\n",
        "    r = calcula_recompensa(selec)\n",
        "    premio_acumulado += r\n",
        "    veces_maq[selec] += 1\n",
        "    Q = actualiza_Q(Q, selec, r, veces_maq)\n",
        "\n",
        "print(f\"El premio acumulado es de: ${premio_acumulado:,.2f}\".replace('$-', '-$'))"
      ],
      "execution_count": 59,
      "outputs": [
        {
          "output_type": "stream",
          "name": "stdout",
          "text": [
            "El premio acumulado es de: $490.00\n"
          ]
        }
      ]
    },
    {
      "cell_type": "code",
      "source": [
        "Q"
      ],
      "metadata": {
        "id": "bkgKQA26TcUE",
        "outputId": "f10908b5-b18e-439a-ffde-b26ad97a280a",
        "colab": {
          "base_uri": "https://localhost:8080/"
        }
      },
      "execution_count": null,
      "outputs": [
        {
          "output_type": "execute_result",
          "data": {
            "text/plain": [
              "array([[ 0.63636364,  1.63116371,  2.68808962, -9.53648915]])"
            ]
          },
          "metadata": {},
          "execution_count": 26
        }
      ]
    },
    {
      "cell_type": "markdown",
      "metadata": {
        "id": "U9EM0mu3mB99"
      },
      "source": [
        "# Referencias:\n",
        "\n",
        "[1]A. Aristizabal, «Understanding Reinforcement Learning Hands-On: Multi-Armed Bandits», Medium, oct. 19, 2020. https://towardsdatascience.com/understanding-reinforcement-learning-hands-on-part-2-multi-armed-bandits-526592072bdc (accedido jul. 30, 2021).\n",
        "\n"
      ]
    }
  ]
}