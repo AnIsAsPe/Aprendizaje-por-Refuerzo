{
  "nbformat": 4,
  "nbformat_minor": 0,
  "metadata": {
    "colab": {
      "name": "Estrategia Exploración-Explotación_Multi_Armed_Bandit.ipynb",
      "provenance": [],
      "toc_visible": true,
      "authorship_tag": "ABX9TyNENtRbLeiP6aM5F2xLeJOd",
      "include_colab_link": true
    },
    "kernelspec": {
      "name": "python3",
      "display_name": "Python 3"
    },
    "language_info": {
      "name": "python"
    }
  },
  "cells": [
    {
      "cell_type": "markdown",
      "metadata": {
        "id": "view-in-github",
        "colab_type": "text"
      },
      "source": [
        "<a href=\"https://colab.research.google.com/github/AnIsAsPe/Aprendizaje-por-Refuerzo/blob/main/Notebooks/Estrategia_Exploraci%C3%B3nExplotaci%C3%B3n_Multi_Armed_Bandit.ipynb\" target=\"_parent\"><img src=\"https://colab.research.google.com/assets/colab-badge.svg\" alt=\"Open In Colab\"/></a>"
      ]
    },
    {
      "cell_type": "markdown",
      "metadata": {
        "id": "k9ADAbH73rfS"
      },
      "source": [
        "#Bibliotecas y Funciones\n"
      ]
    },
    {
      "cell_type": "code",
      "metadata": {
        "id": "TJ0Ts9FIHEmu"
      },
      "source": [
        "import numpy as np\n",
        "import matplotlib.pyplot as plt"
      ],
      "execution_count": 1,
      "outputs": []
    },
    {
      "cell_type": "code",
      "metadata": {
        "id": "wTvgN0tvHi3A"
      },
      "source": [
        "def entorno_multi_armed_bandit(maquinas):\n",
        "    '''\n",
        "    Creamos el entorno para el problema \"multi_armed_bandit\" generando aleatoriamente\n",
        "    la distribución de probabilidad de los premios que otorga cada máquina\n",
        "    '''\n",
        "    premio_medio = np.random.uniform(-10, 5, size=maquinas)\n",
        "    desv_estandar = np.random.uniform(0, 5, size=maquinas)\n",
        "    return premio_medio, desv_estandar"
      ],
      "execution_count": 2,
      "outputs": []
    },
    {
      "cell_type": "code",
      "metadata": {
        "id": "srAAbKjhKM_E"
      },
      "source": [
        "def init_Q(maquinas):\n",
        "  '''Inicializa el vector Q en ceros, el vector Q representa el valor esperado\n",
        "   de recompensa de cada máquina'''\n",
        "  Q =np.zeros(shape =(1, maquinas))\n",
        "  return Q"
      ],
      "execution_count": 3,
      "outputs": []
    },
    {
      "cell_type": "code",
      "metadata": {
        "id": "N2yLnkZKLUlp"
      },
      "source": [
        "def selecciona_maquina(maquinas):\n",
        "    '''selecciona una máquina aleatoriamente con distribución unifome'''\n",
        "    selec = np.random.choice(range(maquinas))\n",
        "    return selec"
      ],
      "execution_count": 4,
      "outputs": []
    },
    {
      "cell_type": "code",
      "metadata": {
        "id": "QoF4BrM1gfA-"
      },
      "source": [
        "def selecciona_maquina_expl(maquinas):\n",
        "    '''selecciona la maquina con el maximo valor de la ganancia esperada'''\n",
        "    select = np.argmax(Q[0])\n",
        "    return selec"
      ],
      "execution_count": 5,
      "outputs": []
    },
    {
      "cell_type": "code",
      "metadata": {
        "id": "Y9atc3BHgU2d"
      },
      "source": [
        "def selecciona_maquina_egd(maquinas, epsilon):\n",
        "    '''selecciona una con la estrategia epsilon decreasing greedy'''\n",
        "    p = np.random.uniform(0,1)\n",
        "\n",
        "    # cuándo epsilon es pequeño, se escoge la maquina con mayor ganancia\n",
        "    if p < (1 - epsilon):\n",
        "        selec = np.argmax(Q[0])\n",
        "        return selec  \n",
        "\n",
        "    # cuando epsilon es pequeño, se escoge una al azar\n",
        "    else: \n",
        "        selec = np.random.choice(range(maquinas))\n",
        "        return selec"
      ],
      "execution_count": 6,
      "outputs": []
    },
    {
      "cell_type": "code",
      "metadata": {
        "id": "HUv7oB7VId1t"
      },
      "source": [
        "def calcula_recompensa(selec):\n",
        "  '''calcula la recompensa de jugar en una determinada máquina'''\n",
        "  r = int(np.random.normal(premio_medio[selec], desv_estandar[selec], 1))\n",
        "  return r"
      ],
      "execution_count": 7,
      "outputs": []
    },
    {
      "cell_type": "code",
      "metadata": {
        "id": "QHfwiInqOkBX"
      },
      "source": [
        "def actualiza_Q (Q, selec, r, veces_maq):\n",
        "    '''actualiza el valor esperados de recompensa de la máquina seleccionada'''\n",
        "    Q[0, selec] = Q[0, selec] + 1/(veces_maq[selec])*(r - Q[0, selec])\n",
        "    return Q"
      ],
      "execution_count": 8,
      "outputs": []
    },
    {
      "cell_type": "markdown",
      "metadata": {
        "id": "VzVeNtKjpHrT"
      },
      "source": [
        "# Introducción"
      ]
    },
    {
      "cell_type": "markdown",
      "metadata": {
        "id": "TKA6ZoIgr9wq"
      },
      "source": [
        "## Definimos nuestro entorno"
      ]
    },
    {
      "cell_type": "code",
      "metadata": {
        "id": "8FJ8WPRopBiH"
      },
      "source": [
        "### Creamos el entorno definiendo el comportamiento de cada máquina\n",
        "\n",
        "premio_medio  = np.array([1,  2,  0, -10])\n",
        "desv_estandar = np.array([1, 0.1, 5,  1])"
      ],
      "execution_count": 9,
      "outputs": []
    },
    {
      "cell_type": "code",
      "source": [
        "maquina = 0\n",
        "\n",
        "#  r es el premio aleatorio que va a dar una máquina (dada su distribución)\n",
        "r = np.random.normal(premio_medio[maquina], desv_estandar[maquina],10000)  \n",
        "plt.hist( r, bins=30,  density=True)\n",
        "plt.show()\n",
        "print('\\nLa máquina arrojo durante los primeras 10 jugadas los siguientes premios: \\n')\n",
        "print (r[0:10])"
      ],
      "metadata": {
        "id": "JEnrsD3ZyZI0",
        "outputId": "31002c72-6f53-44d6-ad08-c64bc708067d",
        "colab": {
          "base_uri": "https://localhost:8080/",
          "height": 355
        }
      },
      "execution_count": 10,
      "outputs": [
        {
          "output_type": "display_data",
          "data": {
            "text/plain": [
              "<Figure size 432x288 with 1 Axes>"
            ],
            "image/png": "[encoded data removed]"
          },
          "metadata": {
            "needs_background": "light"
          }
        },
        {
          "output_type": "stream",
          "name": "stdout",
          "text": [
            "\n",
            "La máquina arrojo durante los primeras 10 jugadas los siguientes premios: \n",
            "\n",
            "[-0.54691688  0.10802078 -0.91680466  1.20344835  0.97616622  1.48401185\n",
            "  1.83903375  1.17388729  1.00403693  2.32440048]\n"
          ]
        }
      ]
    },
    {
      "cell_type": "markdown",
      "source": [
        "## ¿Que hace un jugador en el casino?"
      ],
      "metadata": {
        "id": "b-FpFTSl1UF0"
      }
    },
    {
      "cell_type": "markdown",
      "metadata": {
        "id": "djXUF3Prrubk"
      },
      "source": [
        "* inicializamos en cero la variable que guardará los premios o perdidas acumuladas "
      ]
    },
    {
      "cell_type": "code",
      "metadata": {
        "id": "A5Zlrmeum_3q"
      },
      "source": [
        "premio_acumulado = 0"
      ],
      "execution_count": 11,
      "outputs": []
    },
    {
      "cell_type": "markdown",
      "metadata": {
        "id": "nMOjxNywtLLw"
      },
      "source": [
        "* seleccionamos una de las maquinas, \n",
        "* jugamos en ella, y \n",
        "* obtenemos la recompensa (o pérdida)"
      ]
    },
    {
      "cell_type": "code",
      "metadata": {
        "colab": {
          "base_uri": "https://localhost:8080/"
        },
        "id": "dGjez-pgtLLz",
        "outputId": "de21515f-aff6-4e51-f907-3805a7127f81"
      },
      "source": [
        "selec = 3\n",
        "r = int(np.random.normal(premio_medio[selec], desv_estandar[selec], 1))\n",
        "premio_acumulado += r\n",
        "print('recompensa (r):', r)\n",
        "print('Premio acumulado:', premio_acumulado)"
      ],
      "execution_count": 12,
      "outputs": [
        {
          "output_type": "stream",
          "name": "stdout",
          "text": [
            "recompensa (r): -10\n",
            "Premio acumulado: -10\n"
          ]
        }
      ]
    },
    {
      "cell_type": "markdown",
      "metadata": {
        "id": "3fOSdzrXvkOE"
      },
      "source": [
        "##  ¿Cómo guardamos la información de los premios obtenidos de cada máquina?"
      ]
    },
    {
      "cell_type": "markdown",
      "source": [
        "Promedio Incremental\n",
        "\n",
        "$Q =  Q_{n-1}+\\frac{1}{n} (r_n - Q_{n-1})$"
      ],
      "metadata": {
        "id": "HVASmSMgzEe8"
      }
    },
    {
      "cell_type": "code",
      "metadata": {
        "colab": {
          "base_uri": "https://localhost:8080/"
        },
        "id": "dnPBUn3qnYn2",
        "outputId": "facfe81d-a452-4776-f153-945906d031b3"
      },
      "source": [
        "# Inicializa el vector Q en ceros, donde guardaremos la información\n",
        "n_maquinas = 4 \n",
        "Q = np.zeros(shape =(1, n_maquinas))\n",
        "Q"
      ],
      "execution_count": 13,
      "outputs": [
        {
          "output_type": "execute_result",
          "data": {
            "text/plain": [
              "array([[0., 0., 0., 0.]])"
            ]
          },
          "metadata": {},
          "execution_count": 13
        }
      ]
    },
    {
      "cell_type": "code",
      "metadata": {
        "colab": {
          "base_uri": "https://localhost:8080/"
        },
        "outputId": "9652712f-ab4e-4d2e-84d1-f96e700cc704",
        "id": "PCwiS-nR0_7D"
      },
      "source": [
        "# Vamos a jugar cierto número de veces (episodios)\n",
        "episodios = 20\n",
        "n_maquinas = 4\n",
        "Q =np.zeros(shape =(1, n_maquinas))\n",
        "premio_acumulado = 0\n",
        "\n",
        "veces_maq = np.zeros(n_maquinas)      # guardaremos las veces que se ha jugado por máquina\n",
        "for ep in range(1, episodios+1):\n",
        "  selec = np.random.choice([0,1,2,3]) # selección aleatoria -> exploración\n",
        "  veces_maq[selec] += 1               # actualizamos las veces que se ha jugado x máquina\n",
        "  r = int(np.random.normal(premio_medio[selec], desv_estandar[selec], 1))\n",
        "  Q[0, selec] = Q[0, selec] + 1/(veces_maq[selec])*(r - Q[0, selec])   # Promedio incremental\n",
        "  premio_acumulado += r\n",
        "  print('Episodio_{}, Máquina {}, Premio = {}, Premio_acum = {}, Q:{} \\n'.format(ep,\n",
        "                                                                   selec,\n",
        "                                                                   r, \n",
        "                                                                   premio_acumulado,\n",
        "                                                                   Q.round(2)))\n"
      ],
      "execution_count": 14,
      "outputs": [
        {
          "output_type": "stream",
          "name": "stdout",
          "text": [
            "Episodio_1, Máquina 1, Premio = 2, Premio_acum = 2, Q:[[0. 2. 0. 0.]] \n",
            "\n",
            "Episodio_2, Máquina 1, Premio = 1, Premio_acum = 3, Q:[[0.  1.5 0.  0. ]] \n",
            "\n",
            "Episodio_3, Máquina 3, Premio = -10, Premio_acum = -7, Q:[[  0.    1.5   0.  -10. ]] \n",
            "\n",
            "Episodio_4, Máquina 3, Premio = -12, Premio_acum = -19, Q:[[  0.    1.5   0.  -11. ]] \n",
            "\n",
            "Episodio_5, Máquina 1, Premio = 1, Premio_acum = -18, Q:[[  0.     1.33   0.   -11.  ]] \n",
            "\n",
            "Episodio_6, Máquina 1, Premio = 1, Premio_acum = -17, Q:[[  0.     1.25   0.   -11.  ]] \n",
            "\n",
            "Episodio_7, Máquina 3, Premio = -10, Premio_acum = -27, Q:[[  0.     1.25   0.   -10.67]] \n",
            "\n",
            "Episodio_8, Máquina 3, Premio = -7, Premio_acum = -34, Q:[[ 0.    1.25  0.   -9.75]] \n",
            "\n",
            "Episodio_9, Máquina 2, Premio = 1, Premio_acum = -33, Q:[[ 0.    1.25  1.   -9.75]] \n",
            "\n",
            "Episodio_10, Máquina 1, Premio = 1, Premio_acum = -32, Q:[[ 0.    1.2   1.   -9.75]] \n",
            "\n",
            "Episodio_11, Máquina 3, Premio = -9, Premio_acum = -41, Q:[[ 0.   1.2  1.  -9.6]] \n",
            "\n",
            "Episodio_12, Máquina 3, Premio = -10, Premio_acum = -51, Q:[[ 0.    1.2   1.   -9.67]] \n",
            "\n",
            "Episodio_13, Máquina 2, Premio = -1, Premio_acum = -52, Q:[[ 0.    1.2   0.   -9.67]] \n",
            "\n",
            "Episodio_14, Máquina 2, Premio = 1, Premio_acum = -51, Q:[[ 0.    1.2   0.33 -9.67]] \n",
            "\n",
            "Episodio_15, Máquina 1, Premio = 2, Premio_acum = -49, Q:[[ 0.    1.33  0.33 -9.67]] \n",
            "\n",
            "Episodio_16, Máquina 3, Premio = -8, Premio_acum = -57, Q:[[ 0.    1.33  0.33 -9.43]] \n",
            "\n",
            "Episodio_17, Máquina 1, Premio = 2, Premio_acum = -55, Q:[[ 0.    1.43  0.33 -9.43]] \n",
            "\n",
            "Episodio_18, Máquina 2, Premio = -7, Premio_acum = -62, Q:[[ 0.    1.43 -1.5  -9.43]] \n",
            "\n",
            "Episodio_19, Máquina 0, Premio = 1, Premio_acum = -61, Q:[[ 1.    1.43 -1.5  -9.43]] \n",
            "\n",
            "Episodio_20, Máquina 0, Premio = 2, Premio_acum = -59, Q:[[ 1.5   1.43 -1.5  -9.43]] \n",
            "\n"
          ]
        }
      ]
    },
    {
      "cell_type": "markdown",
      "metadata": {
        "id": "mVXPXUUw38V5"
      },
      "source": [
        "¿Sería correcto si, en lugar de escojer la máquina de forma aleatoria, escojemos la que más rendimientos ha dado?"
      ]
    },
    {
      "cell_type": "code",
      "metadata": {
        "colab": {
          "base_uri": "https://localhost:8080/"
        },
        "id": "ulLG8yCP0xLy",
        "outputId": "e7df4bff-b431-41dd-9a29-29ed7bc0c7a3"
      },
      "source": [
        "selec = np.argmax(Q[0])  # selección usando la estrategia de explotación\n",
        "selec"
      ],
      "execution_count": 15,
      "outputs": [
        {
          "output_type": "execute_result",
          "data": {
            "text/plain": [
              "0"
            ]
          },
          "metadata": {},
          "execution_count": 15
        }
      ]
    },
    {
      "cell_type": "markdown",
      "metadata": {
        "id": "xX6_4S3c8JWN"
      },
      "source": [
        "¿Podemos pensar en una estrategia combinada?"
      ]
    },
    {
      "cell_type": "code",
      "metadata": {
        "id": "2R-1PKtw8lMb",
        "colab": {
          "base_uri": "https://localhost:8080/"
        },
        "outputId": "995a24c7-6944-456f-abf4-9f8e786d404b"
      },
      "source": [
        "p = np.random.uniform(0, 1 )  # escojemos un valor entre 0 y 1\n",
        "ε = .99 # valor que disminuye desde 1 hasta 0 según avance el aprendizaje\n",
        "print('p = {}, ε = {}'.format(p,ε))\n",
        "print('¿p es menor que 1 - ε?', p < (1 - ε))\n",
        "if p < (1 - ε):\n",
        "    # Explotación\n",
        "    print('explotación')\n",
        "    selec = np.argmax(Q[0])\n",
        "else: \n",
        "    # Exploración\n",
        "    print('exploración')\n",
        "    selec = np.random.choice(range(n_maquinas))\n",
        "print('Máquina seleccionada: ',selec)"
      ],
      "execution_count": 16,
      "outputs": [
        {
          "output_type": "stream",
          "name": "stdout",
          "text": [
            "p = 0.7561791308107569, ε = 0.99\n",
            "¿p es menor que 1 - ε? False\n",
            "exploración\n",
            "Máquina seleccionada:  3\n"
          ]
        }
      ]
    },
    {
      "cell_type": "code",
      "metadata": {
        "colab": {
          "base_uri": "https://localhost:8080/"
        },
        "outputId": "43e54283-13dd-4765-ce34-1be595fd1166",
        "id": "XErqtazR1t_I"
      },
      "source": [
        "p = np.random.uniform(0, 1 )  # escojemos un valor entre 0 y 1\n",
        "ε = 0.01 # valor que disminuye desde 1 hasta 0 según avance el aprendizaje\n",
        "print('p = {}, ε = {}'.format(p,ε))\n",
        "print('¿p es menor que 1 - ε?', p < (1 - ε))\n",
        "if p < (1 - ε):\n",
        "    # Explotación\n",
        "    print('explotación')\n",
        "    selec = np.argmax(Q[0])\n",
        "else: \n",
        "    # Exploración\n",
        "    print('exploración')\n",
        "    selec = np.random.choice(range(n_maquinas))\n",
        "print('Máquina seleccionada: ',selec)"
      ],
      "execution_count": 17,
      "outputs": [
        {
          "output_type": "stream",
          "name": "stdout",
          "text": [
            "p = 0.47705130474015245, ε = 0.01\n",
            "¿p es menor que 1 - ε? True\n",
            "explotación\n",
            "Máquina seleccionada:  0\n"
          ]
        }
      ]
    },
    {
      "cell_type": "markdown",
      "metadata": {
        "id": "Gmve4Vj7CJAf"
      },
      "source": [
        "Vamos a calcular  ε en función de los episodios, de manera decreciente\n"
      ]
    },
    {
      "cell_type": "code",
      "metadata": {
        "colab": {
          "base_uri": "https://localhost:8080/"
        },
        "id": "9V2gOQ1xCHLx",
        "outputId": "eae76125-8b96-4fc4-cf9a-8b61fdde7807"
      },
      "source": [
        "episodios = 100\n",
        "ε = np.exp(-5 * np.linspace(0, 1, episodios))\n",
        "ε"
      ],
      "execution_count": 18,
      "outputs": [
        {
          "output_type": "execute_result",
          "data": {
            "text/plain": [
              "array([1.        , 0.95074913, 0.9039239 , 0.85940486, 0.81707842,\n",
              "       0.7768366 , 0.73857671, 0.70220117, 0.66761715, 0.63473642,\n",
              "       0.6034751 , 0.57375342, 0.54549556, 0.51862943, 0.49308648,\n",
              "       0.46880154, 0.44571265, 0.42376092, 0.40289032, 0.38304762,\n",
              "       0.36418219, 0.3462459 , 0.32919299, 0.31297995, 0.29756541,\n",
              "       0.28291005, 0.26897649, 0.25572916, 0.24313428, 0.2311597 ,\n",
              "       0.21977488, 0.20895078, 0.19865977, 0.1888756 , 0.17957331,\n",
              "       0.17072917, 0.16232061, 0.15432618, 0.14672548, 0.13949912,\n",
              "       0.13262867, 0.12609659, 0.11988622, 0.11398172, 0.10836802,\n",
              "       0.1030308 , 0.09795645, 0.09313201, 0.08854517, 0.08418425,\n",
              "       0.0800381 , 0.07609615, 0.07234835, 0.06878513, 0.0653974 ,\n",
              "       0.06217652, 0.05911428, 0.05620285, 0.05343481, 0.0508031 ,\n",
              "       0.048301  , 0.04592213, 0.04366043, 0.04151011, 0.0394657 ,\n",
              "       0.03752198, 0.03567399, 0.03391702, 0.03224658, 0.0306584 ,\n",
              "       0.02914845, 0.02771286, 0.02634798, 0.02505032, 0.02381657,\n",
              "       0.02264358, 0.02152837, 0.02046808, 0.01946001, 0.01850158,\n",
              "       0.01759036, 0.01672402, 0.01590035, 0.01511724, 0.01437271,\n",
              "       0.01366484, 0.01299183, 0.01235197, 0.01174363, 0.01116524,\n",
              "       0.01061535, 0.01009253, 0.00959547, 0.00912288, 0.00867357,\n",
              "       0.00824639, 0.00784025, 0.00745411, 0.00708699, 0.00673795])"
            ]
          },
          "metadata": {},
          "execution_count": 18
        }
      ]
    },
    {
      "cell_type": "code",
      "metadata": {
        "colab": {
          "base_uri": "https://localhost:8080/",
          "height": 313
        },
        "id": "UuxbAT2X-ian",
        "outputId": "cfce684e-16ee-4633-bef6-d05a8d4919d6"
      },
      "source": [
        "fig =plt.figure()\n",
        "plt.plot(ε)\n",
        "plt.xlabel('episodio', fontsize=16)\n",
        "plt.ylabel('ε', fontsize=16)\n",
        "fig.suptitle('ε decreciente con el numero de episodios', fontsize=18)\n",
        "\n",
        "plt.show()"
      ],
      "execution_count": 19,
      "outputs": [
        {
          "output_type": "display_data",
          "data": {
            "text/plain": [
              "<Figure size 432x288 with 1 Axes>"
            ],
            "image/png": "[encoded data removed]"
          },
          "metadata": {
            "needs_background": "light"
          }
        }
      ]
    },
    {
      "cell_type": "markdown",
      "metadata": {
        "id": "lHGYfGfVtZhW"
      },
      "source": [
        "# Aprendizaje con distintas estrategias"
      ]
    },
    {
      "cell_type": "code",
      "metadata": {
        "id": "0QF9KYgctZ9P"
      },
      "source": [
        "# ### Definimos el número de máquinas o brazos del problema\n",
        "# n_maquinas = 3\n",
        "\n",
        "# ### Creamos el entorno\n",
        "# np.random.seed(28)\n",
        "# premio_medio, desv_estandar = entorno_multi_armed_bandit(n_maquinas)  # inicializa la distribución de probabilidad de cada máquina"
      ],
      "execution_count": 20,
      "outputs": []
    },
    {
      "cell_type": "code",
      "metadata": {
        "id": "j-3477k0izn_"
      },
      "source": [
        "### Definimos el número de episodios (juegos)\n",
        "episodios = 100000"
      ],
      "execution_count": 35,
      "outputs": []
    },
    {
      "cell_type": "markdown",
      "metadata": {
        "id": "SBOk8P63f7Hn"
      },
      "source": [
        "## Exploración"
      ]
    },
    {
      "cell_type": "code",
      "metadata": {
        "id": "XGdvub9qSwmJ",
        "colab": {
          "base_uri": "https://localhost:8080/"
        },
        "outputId": "36f059b0-c7a4-4fec-a4cb-3c01dec776ad"
      },
      "source": [
        "### Inicializamos el vector Q  \n",
        "Q = init_Q(n_maquinas)  \n",
        "premio_acumulado = 0\n",
        "veces_maq = np.zeros(n_maquinas)      # guardaremos las veces que se ha jugado por máquina\n",
        "for episodio in range(1,episodios+1):\n",
        "    selec = selecciona_maquina(n_maquinas)\n",
        "    veces_maq[selec] += 1               # actualizamos las veces que se ha jugado x máquina\n",
        "    # Calcula el premio de esa acción\n",
        "    r = calcula_recompensa(selec)\n",
        "    # Actualiza la información de los premios acumulados por cada máquina\n",
        "    Q = actualiza_Q(Q, selec, r, veces_maq)\n",
        "  \n",
        "    premio_acumulado += r\n",
        "  \n",
        "print(\"La ganancia total es de: \", premio_acumulado)"
      ],
      "execution_count": 36,
      "outputs": [
        {
          "output_type": "stream",
          "name": "stdout",
          "text": [
            "La ganancia total es de:  -181186\n"
          ]
        }
      ]
    },
    {
      "cell_type": "markdown",
      "metadata": {
        "id": "OIDUtGQYnZCL"
      },
      "source": [
        "## Explotación"
      ]
    },
    {
      "cell_type": "code",
      "metadata": {
        "id": "SMTfsHDUnfH4",
        "colab": {
          "base_uri": "https://localhost:8080/"
        },
        "outputId": "9aefd2ab-dbf2-40b6-f130-d742957f7a3a"
      },
      "source": [
        "### Inicializamos el vector Q  \n",
        "Q = init_Q(n_maquinas)  \n",
        "premio_acumulado = 0\n",
        "veces_maq = np.zeros(n_maquinas)      # guardaremos las veces que se ha jugado por máquina\n",
        "for i in range(n_maquinas):  # creamos un ciclo para jugar en cada máquina\n",
        "    veces_maq[i] += 1               # actualizamos las veces que se ha jugado x máquina\n",
        "    r = calcula_recompensa(i)\n",
        "    Q = actualiza_Q(Q, i, r, veces_maq)\n",
        "    premio_acumulado += r\n",
        "for episodio in range(n_maquinas+1 ,episodios+1): # el resto de los episodios los jugamos con una estrategia codiciosa\n",
        "    selec = selecciona_maquina_expl(n_maquinas)\n",
        "    veces_maq[selec] += 1               # actualizamos las veces que se ha jugado x máquina\n",
        "    r = calcula_recompensa(selec)\n",
        "    Q = actualiza_Q(Q, selec, r, veces_maq)\n",
        "    premio_acumulado += r\n",
        "print(\"El premio acumulado es de: \", premio_acumulado)"
      ],
      "execution_count": 37,
      "outputs": [
        {
          "output_type": "stream",
          "name": "stdout",
          "text": [
            "El premio acumulado es de:  65449\n"
          ]
        }
      ]
    },
    {
      "cell_type": "markdown",
      "metadata": {
        "id": "7gXk8RpAf_S5"
      },
      "source": [
        "## Epsilon decreasing greedy"
      ]
    },
    {
      "cell_type": "code",
      "metadata": {
        "id": "Wwluzms4f_S7",
        "colab": {
          "base_uri": "https://localhost:8080/"
        },
        "outputId": "bf090e90-981c-42d3-dfc6-68d5ba198edb"
      },
      "source": [
        "### Inicializamos el vector Q  \n",
        "Q = init_Q(n_maquinas)  \n",
        "epsilon = np.exp(-5 * np.linspace(0, 1, episodios))  # creamos el vector con un epsilon para cada episodio\n",
        "premio_acumulado = 0\n",
        "veces_maq = np.zeros(n_maquinas)      # guardaremos las veces que se ha jugado por máquina\n",
        "for episodio in range(1 ,episodios+1):\n",
        "    eps = epsilon[episodio-1]  #epsilon decreciente\n",
        "    selec = selecciona_maquina_egd(n_maquinas, eps)\n",
        "    veces_maq[selec] += 1               # actualizamos las veces que se ha jugado x máquina\n",
        "    r = calcula_recompensa(selec)\n",
        "    Q = actualiza_Q(Q, selec, r, veces_maq)\n",
        "    premio_acumulado += r\n",
        "\n",
        "print(\"El premio acumulado es de: \", premio_acumulado)"
      ],
      "execution_count": 38,
      "outputs": [
        {
          "output_type": "stream",
          "name": "stdout",
          "text": [
            "El premio acumulado es de:  82450\n"
          ]
        }
      ]
    },
    {
      "cell_type": "markdown",
      "metadata": {
        "id": "U9EM0mu3mB99"
      },
      "source": [
        "# Referencias:\n",
        "\n",
        "[1]A. Aristizabal, «Understanding Reinforcement Learning Hands-On: Multi-Armed Bandits», Medium, oct. 19, 2020. https://towardsdatascience.com/understanding-reinforcement-learning-hands-on-part-2-multi-armed-bandits-526592072bdc (accedido jul. 30, 2021).\n",
        "\n"
      ]
    }
  ]
}