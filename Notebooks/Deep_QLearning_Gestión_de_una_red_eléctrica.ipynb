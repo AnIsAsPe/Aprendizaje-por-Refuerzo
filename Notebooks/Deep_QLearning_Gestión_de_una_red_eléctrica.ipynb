{
  "cells": [
    {
      "cell_type": "markdown",
      "metadata": {
        "id": "view-in-github",
        "colab_type": "text"
      },
      "source": [
        "<a href=\"https://colab.research.google.com/github/AnIsAsPe/Aprendizaje-por-Refuerzo/blob/main/Notebooks/Deep_QLearning_Gesti%C3%B3n_de_una_red_el%C3%A9ctrica.ipynb\" target=\"_parent\"><img src=\"https://colab.research.google.com/assets/colab-badge.svg\" alt=\"Open In Colab\"/></a>"
      ]
    },
    {
      "cell_type": "markdown",
      "metadata": {
        "id": "PRE_0d-DJHx-"
      },
      "source": [
        "# El Problema\n",
        "\n",
        "## Red eléctirca \"El Espino\"\n",
        "\n",
        "---\n",
        "![microgrid Espino](https://ars.els-cdn.com/content/image/1-s2.0-S0360544219317682-gr4.jpg)\n",
        "\n",
        "---\n",
        "\n",
        "**Objetivo:**\n",
        "\n",
        " Optimizar el ***costo*** de la red frente a la incertidumbre de la generación de energía solar y de la demanda de energía\n",
        "\n",
        "**Alternativas:**\n",
        "\n",
        "1. Operar la red con reglas:\n",
        "\n",
        "    - Priorizar consumo de la energía solar\n",
        "    - Si la generación fotovoltaica es mayor que la demanda, se carga la batería\n",
        "    - Si la energía solar no alcanza a satisfacer el consumo, se descarrga la batería hasta que alcance el 50% de la carga\n",
        "    - Si la energía solar y la batería no alcanzan a satisfacer la demanda, se prende el generador de gas\n",
        "    - El generador carga la batería si la demanda es menor que la generación minima de operación.\n",
        "\n",
        "2. Aprender una ***política*** que optimize los costos de la red y guíe la elección de una acción dado un estado\n",
        "\n",
        "Necesitamos definir las ***acciones posibles*** y los ***estados posibles*** y realizar un proceso de aprendizaje de la política\n",
        "\n",
        "## Estados, acciones, recompensa/pérdida\n",
        "\n",
        "**Acciones posibles:**\n",
        "\n",
        "- Generar energía con gas\n",
        "- Descargar batería para usar energía almacenada\n",
        "- Cargar batería (almacenar exceso de energía)\n",
        "\n",
        "**Estados posibles:**\n",
        "\n",
        "- Demanda Neta:  Demanda de energía - Generación de energía solar\n",
        "- Estado de carga de la Batería\n",
        "\n",
        "\n",
        "**Recompensa/pérdida**\n",
        "- Costo de generación de electricidad"
      ]
    },
    {
      "cell_type": "markdown",
      "metadata": {
        "id": "jf_lzfws4ntw"
      },
      "source": [
        "# Bibliotecas\n",
        "\n",
        "[pymgrid](https://github.com/Total-RD/pymgrid)\n"
      ]
    },
    {
      "cell_type": "code",
      "execution_count": null,
      "metadata": {
        "colab": {
          "base_uri": "https://localhost:8080/"
        },
        "id": "dpEURUnPkP0s",
        "outputId": "3a911f7a-8643-4cd4-9465-1ee02d2e03f8"
      },
      "outputs": [
        {
          "output_type": "stream",
          "name": "stdout",
          "text": [
            "Collecting https://raw.githubusercontent.com/AnIsAsPe/Aprendizaje-por-Refuerzo/main/pymgrid-0.1.0-beta_modified_.zip\n",
            "  Downloading https://raw.githubusercontent.com/AnIsAsPe/Aprendizaje-por-Refuerzo/main/pymgrid-0.1.0-beta_modified_.zip (8.6 MB)\n",
            "\u001b[2K     \u001b[90m━━━━━━━━━━━━━━━━━━━━━━━━━━━━━━━━━━━━━━━━\u001b[0m \u001b[32m8.6/8.6 MB\u001b[0m \u001b[31m65.6 MB/s\u001b[0m eta \u001b[36m0:00:00\u001b[0m\n",
            "\u001b[?25h  Preparing metadata (setup.py) ... \u001b[?25l\u001b[?25hdone\n",
            "Requirement already satisfied: requests in /usr/local/lib/python3.11/dist-packages (from pymgrid==0.1.0) (2.32.3)\n",
            "Requirement already satisfied: pandas in /usr/local/lib/python3.11/dist-packages (from pymgrid==0.1.0) (2.2.2)\n",
            "Requirement already satisfied: numpy in /usr/local/lib/python3.11/dist-packages (from pymgrid==0.1.0) (2.0.2)\n",
            "Requirement already satisfied: cvxpy in /usr/local/lib/python3.11/dist-packages (from pymgrid==0.1.0) (1.6.6)\n",
            "Requirement already satisfied: statsmodels in /usr/local/lib/python3.11/dist-packages (from pymgrid==0.1.0) (0.14.4)\n",
            "Requirement already satisfied: matplotlib in /usr/local/lib/python3.11/dist-packages (from pymgrid==0.1.0) (3.10.0)\n",
            "Requirement already satisfied: plotly in /usr/local/lib/python3.11/dist-packages (from pymgrid==0.1.0) (5.24.1)\n",
            "Requirement already satisfied: cufflinks in /usr/local/lib/python3.11/dist-packages (from pymgrid==0.1.0) (0.17.3)\n",
            "Requirement already satisfied: gym in /usr/local/lib/python3.11/dist-packages (from pymgrid==0.1.0) (0.25.2)\n",
            "Requirement already satisfied: six>=1.9.0 in /usr/local/lib/python3.11/dist-packages (from cufflinks->pymgrid==0.1.0) (1.17.0)\n",
            "Requirement already satisfied: colorlover>=0.2.1 in /usr/local/lib/python3.11/dist-packages (from cufflinks->pymgrid==0.1.0) (0.3.0)\n",
            "Requirement already satisfied: setuptools>=34.4.1 in /usr/local/lib/python3.11/dist-packages (from cufflinks->pymgrid==0.1.0) (75.2.0)\n",
            "Requirement already satisfied: ipython>=5.3.0 in /usr/local/lib/python3.11/dist-packages (from cufflinks->pymgrid==0.1.0) (7.34.0)\n",
            "Requirement already satisfied: ipywidgets>=7.0.0 in /usr/local/lib/python3.11/dist-packages (from cufflinks->pymgrid==0.1.0) (7.7.1)\n",
            "Requirement already satisfied: python-dateutil>=2.8.2 in /usr/local/lib/python3.11/dist-packages (from pandas->pymgrid==0.1.0) (2.9.0.post0)\n",
            "Requirement already satisfied: pytz>=2020.1 in /usr/local/lib/python3.11/dist-packages (from pandas->pymgrid==0.1.0) (2025.2)\n",
            "Requirement already satisfied: tzdata>=2022.7 in /usr/local/lib/python3.11/dist-packages (from pandas->pymgrid==0.1.0) (2025.2)\n",
            "Requirement already satisfied: tenacity>=6.2.0 in /usr/local/lib/python3.11/dist-packages (from plotly->pymgrid==0.1.0) (8.5.0)\n",
            "Requirement already satisfied: packaging in /usr/local/lib/python3.11/dist-packages (from plotly->pymgrid==0.1.0) (24.2)\n",
            "Requirement already satisfied: osqp>=0.6.2 in /usr/local/lib/python3.11/dist-packages (from cvxpy->pymgrid==0.1.0) (1.0.4)\n",
            "Requirement already satisfied: clarabel>=0.5.0 in /usr/local/lib/python3.11/dist-packages (from cvxpy->pymgrid==0.1.0) (0.11.1)\n",
            "Requirement already satisfied: scs>=3.2.4.post1 in /usr/local/lib/python3.11/dist-packages (from cvxpy->pymgrid==0.1.0) (3.2.7.post2)\n",
            "Requirement already satisfied: scipy>=1.11.0 in /usr/local/lib/python3.11/dist-packages (from cvxpy->pymgrid==0.1.0) (1.15.3)\n",
            "Requirement already satisfied: cloudpickle>=1.2.0 in /usr/local/lib/python3.11/dist-packages (from gym->pymgrid==0.1.0) (3.1.1)\n",
            "Requirement already satisfied: gym-notices>=0.0.4 in /usr/local/lib/python3.11/dist-packages (from gym->pymgrid==0.1.0) (0.0.8)\n",
            "Requirement already satisfied: contourpy>=1.0.1 in /usr/local/lib/python3.11/dist-packages (from matplotlib->pymgrid==0.1.0) (1.3.2)\n",
            "Requirement already satisfied: cycler>=0.10 in /usr/local/lib/python3.11/dist-packages (from matplotlib->pymgrid==0.1.0) (0.12.1)\n",
            "Requirement already satisfied: fonttools>=4.22.0 in /usr/local/lib/python3.11/dist-packages (from matplotlib->pymgrid==0.1.0) (4.58.4)\n",
            "Requirement already satisfied: kiwisolver>=1.3.1 in /usr/local/lib/python3.11/dist-packages (from matplotlib->pymgrid==0.1.0) (1.4.8)\n",
            "Requirement already satisfied: pillow>=8 in /usr/local/lib/python3.11/dist-packages (from matplotlib->pymgrid==0.1.0) (11.2.1)\n",
            "Requirement already satisfied: pyparsing>=2.3.1 in /usr/local/lib/python3.11/dist-packages (from matplotlib->pymgrid==0.1.0) (3.2.3)\n",
            "Requirement already satisfied: charset-normalizer<4,>=2 in /usr/local/lib/python3.11/dist-packages (from requests->pymgrid==0.1.0) (3.4.2)\n",
            "Requirement already satisfied: idna<4,>=2.5 in /usr/local/lib/python3.11/dist-packages (from requests->pymgrid==0.1.0) (3.10)\n",
            "Requirement already satisfied: urllib3<3,>=1.21.1 in /usr/local/lib/python3.11/dist-packages (from requests->pymgrid==0.1.0) (2.4.0)\n",
            "Requirement already satisfied: certifi>=2017.4.17 in /usr/local/lib/python3.11/dist-packages (from requests->pymgrid==0.1.0) (2025.6.15)\n",
            "Requirement already satisfied: patsy>=0.5.6 in /usr/local/lib/python3.11/dist-packages (from statsmodels->pymgrid==0.1.0) (1.0.1)\n",
            "Requirement already satisfied: cffi in /usr/local/lib/python3.11/dist-packages (from clarabel>=0.5.0->cvxpy->pymgrid==0.1.0) (1.17.1)\n",
            "Collecting jedi>=0.16 (from ipython>=5.3.0->cufflinks->pymgrid==0.1.0)\n",
            "  Downloading jedi-0.19.2-py2.py3-none-any.whl.metadata (22 kB)\n",
            "Requirement already satisfied: decorator in /usr/local/lib/python3.11/dist-packages (from ipython>=5.3.0->cufflinks->pymgrid==0.1.0) (4.4.2)\n",
            "Requirement already satisfied: pickleshare in /usr/local/lib/python3.11/dist-packages (from ipython>=5.3.0->cufflinks->pymgrid==0.1.0) (0.7.5)\n",
            "Requirement already satisfied: traitlets>=4.2 in /usr/local/lib/python3.11/dist-packages (from ipython>=5.3.0->cufflinks->pymgrid==0.1.0) (5.7.1)\n",
            "Requirement already satisfied: prompt-toolkit!=3.0.0,!=3.0.1,<3.1.0,>=2.0.0 in /usr/local/lib/python3.11/dist-packages (from ipython>=5.3.0->cufflinks->pymgrid==0.1.0) (3.0.51)\n",
            "Requirement already satisfied: pygments in /usr/local/lib/python3.11/dist-packages (from ipython>=5.3.0->cufflinks->pymgrid==0.1.0) (2.19.2)\n",
            "Requirement already satisfied: backcall in /usr/local/lib/python3.11/dist-packages (from ipython>=5.3.0->cufflinks->pymgrid==0.1.0) (0.2.0)\n",
            "Requirement already satisfied: matplotlib-inline in /usr/local/lib/python3.11/dist-packages (from ipython>=5.3.0->cufflinks->pymgrid==0.1.0) (0.1.7)\n",
            "Requirement already satisfied: pexpect>4.3 in /usr/local/lib/python3.11/dist-packages (from ipython>=5.3.0->cufflinks->pymgrid==0.1.0) (4.9.0)\n",
            "Requirement already satisfied: ipykernel>=4.5.1 in /usr/local/lib/python3.11/dist-packages (from ipywidgets>=7.0.0->cufflinks->pymgrid==0.1.0) (6.17.1)\n",
            "Requirement already satisfied: ipython-genutils~=0.2.0 in /usr/local/lib/python3.11/dist-packages (from ipywidgets>=7.0.0->cufflinks->pymgrid==0.1.0) (0.2.0)\n",
            "Requirement already satisfied: widgetsnbextension~=3.6.0 in /usr/local/lib/python3.11/dist-packages (from ipywidgets>=7.0.0->cufflinks->pymgrid==0.1.0) (3.6.10)\n",
            "Requirement already satisfied: jupyterlab-widgets>=1.0.0 in /usr/local/lib/python3.11/dist-packages (from ipywidgets>=7.0.0->cufflinks->pymgrid==0.1.0) (3.0.15)\n",
            "Requirement already satisfied: jinja2 in /usr/local/lib/python3.11/dist-packages (from osqp>=0.6.2->cvxpy->pymgrid==0.1.0) (3.1.6)\n",
            "Requirement already satisfied: joblib in /usr/local/lib/python3.11/dist-packages (from osqp>=0.6.2->cvxpy->pymgrid==0.1.0) (1.5.1)\n",
            "Requirement already satisfied: debugpy>=1.0 in /usr/local/lib/python3.11/dist-packages (from ipykernel>=4.5.1->ipywidgets>=7.0.0->cufflinks->pymgrid==0.1.0) (1.8.0)\n",
            "Requirement already satisfied: jupyter-client>=6.1.12 in /usr/local/lib/python3.11/dist-packages (from ipykernel>=4.5.1->ipywidgets>=7.0.0->cufflinks->pymgrid==0.1.0) (6.1.12)\n",
            "Requirement already satisfied: nest-asyncio in /usr/local/lib/python3.11/dist-packages (from ipykernel>=4.5.1->ipywidgets>=7.0.0->cufflinks->pymgrid==0.1.0) (1.6.0)\n",
            "Requirement already satisfied: psutil in /usr/local/lib/python3.11/dist-packages (from ipykernel>=4.5.1->ipywidgets>=7.0.0->cufflinks->pymgrid==0.1.0) (5.9.5)\n",
            "Requirement already satisfied: pyzmq>=17 in /usr/local/lib/python3.11/dist-packages (from ipykernel>=4.5.1->ipywidgets>=7.0.0->cufflinks->pymgrid==0.1.0) (24.0.1)\n",
            "Requirement already satisfied: tornado>=6.1 in /usr/local/lib/python3.11/dist-packages (from ipykernel>=4.5.1->ipywidgets>=7.0.0->cufflinks->pymgrid==0.1.0) (6.4.2)\n",
            "Requirement already satisfied: parso<0.9.0,>=0.8.4 in /usr/local/lib/python3.11/dist-packages (from jedi>=0.16->ipython>=5.3.0->cufflinks->pymgrid==0.1.0) (0.8.4)\n",
            "Requirement already satisfied: ptyprocess>=0.5 in /usr/local/lib/python3.11/dist-packages (from pexpect>4.3->ipython>=5.3.0->cufflinks->pymgrid==0.1.0) (0.7.0)\n",
            "Requirement already satisfied: wcwidth in /usr/local/lib/python3.11/dist-packages (from prompt-toolkit!=3.0.0,!=3.0.1,<3.1.0,>=2.0.0->ipython>=5.3.0->cufflinks->pymgrid==0.1.0) (0.2.13)\n",
            "Requirement already satisfied: notebook>=4.4.1 in /usr/local/lib/python3.11/dist-packages (from widgetsnbextension~=3.6.0->ipywidgets>=7.0.0->cufflinks->pymgrid==0.1.0) (6.5.7)\n",
            "Requirement already satisfied: pycparser in /usr/local/lib/python3.11/dist-packages (from cffi->clarabel>=0.5.0->cvxpy->pymgrid==0.1.0) (2.22)\n",
            "Requirement already satisfied: MarkupSafe>=2.0 in /usr/local/lib/python3.11/dist-packages (from jinja2->osqp>=0.6.2->cvxpy->pymgrid==0.1.0) (3.0.2)\n",
            "Requirement already satisfied: jupyter-core>=4.6.0 in /usr/local/lib/python3.11/dist-packages (from jupyter-client>=6.1.12->ipykernel>=4.5.1->ipywidgets>=7.0.0->cufflinks->pymgrid==0.1.0) (5.8.1)\n",
            "Requirement already satisfied: argon2-cffi in /usr/local/lib/python3.11/dist-packages (from notebook>=4.4.1->widgetsnbextension~=3.6.0->ipywidgets>=7.0.0->cufflinks->pymgrid==0.1.0) (25.1.0)\n",
            "Requirement already satisfied: nbformat in /usr/local/lib/python3.11/dist-packages (from notebook>=4.4.1->widgetsnbextension~=3.6.0->ipywidgets>=7.0.0->cufflinks->pymgrid==0.1.0) (5.10.4)\n",
            "Requirement already satisfied: nbconvert>=5 in /usr/local/lib/python3.11/dist-packages (from notebook>=4.4.1->widgetsnbextension~=3.6.0->ipywidgets>=7.0.0->cufflinks->pymgrid==0.1.0) (7.16.6)\n",
            "Requirement already satisfied: Send2Trash>=1.8.0 in /usr/local/lib/python3.11/dist-packages (from notebook>=4.4.1->widgetsnbextension~=3.6.0->ipywidgets>=7.0.0->cufflinks->pymgrid==0.1.0) (1.8.3)\n",
            "Requirement already satisfied: terminado>=0.8.3 in /usr/local/lib/python3.11/dist-packages (from notebook>=4.4.1->widgetsnbextension~=3.6.0->ipywidgets>=7.0.0->cufflinks->pymgrid==0.1.0) (0.18.1)\n",
            "Requirement already satisfied: prometheus-client in /usr/local/lib/python3.11/dist-packages (from notebook>=4.4.1->widgetsnbextension~=3.6.0->ipywidgets>=7.0.0->cufflinks->pymgrid==0.1.0) (0.22.1)\n",
            "Requirement already satisfied: nbclassic>=0.4.7 in /usr/local/lib/python3.11/dist-packages (from notebook>=4.4.1->widgetsnbextension~=3.6.0->ipywidgets>=7.0.0->cufflinks->pymgrid==0.1.0) (1.3.1)\n",
            "Requirement already satisfied: platformdirs>=2.5 in /usr/local/lib/python3.11/dist-packages (from jupyter-core>=4.6.0->jupyter-client>=6.1.12->ipykernel>=4.5.1->ipywidgets>=7.0.0->cufflinks->pymgrid==0.1.0) (4.3.8)\n",
            "Requirement already satisfied: notebook-shim>=0.2.3 in /usr/local/lib/python3.11/dist-packages (from nbclassic>=0.4.7->notebook>=4.4.1->widgetsnbextension~=3.6.0->ipywidgets>=7.0.0->cufflinks->pymgrid==0.1.0) (0.2.4)\n",
            "Requirement already satisfied: beautifulsoup4 in /usr/local/lib/python3.11/dist-packages (from nbconvert>=5->notebook>=4.4.1->widgetsnbextension~=3.6.0->ipywidgets>=7.0.0->cufflinks->pymgrid==0.1.0) (4.13.4)\n",
            "Requirement already satisfied: bleach!=5.0.0 in /usr/local/lib/python3.11/dist-packages (from bleach[css]!=5.0.0->nbconvert>=5->notebook>=4.4.1->widgetsnbextension~=3.6.0->ipywidgets>=7.0.0->cufflinks->pymgrid==0.1.0) (6.2.0)\n",
            "Requirement already satisfied: defusedxml in /usr/local/lib/python3.11/dist-packages (from nbconvert>=5->notebook>=4.4.1->widgetsnbextension~=3.6.0->ipywidgets>=7.0.0->cufflinks->pymgrid==0.1.0) (0.7.1)\n",
            "Requirement already satisfied: jupyterlab-pygments in /usr/local/lib/python3.11/dist-packages (from nbconvert>=5->notebook>=4.4.1->widgetsnbextension~=3.6.0->ipywidgets>=7.0.0->cufflinks->pymgrid==0.1.0) (0.3.0)\n",
            "Requirement already satisfied: mistune<4,>=2.0.3 in /usr/local/lib/python3.11/dist-packages (from nbconvert>=5->notebook>=4.4.1->widgetsnbextension~=3.6.0->ipywidgets>=7.0.0->cufflinks->pymgrid==0.1.0) (3.1.3)\n",
            "Requirement already satisfied: nbclient>=0.5.0 in /usr/local/lib/python3.11/dist-packages (from nbconvert>=5->notebook>=4.4.1->widgetsnbextension~=3.6.0->ipywidgets>=7.0.0->cufflinks->pymgrid==0.1.0) (0.10.2)\n",
            "Requirement already satisfied: pandocfilters>=1.4.1 in /usr/local/lib/python3.11/dist-packages (from nbconvert>=5->notebook>=4.4.1->widgetsnbextension~=3.6.0->ipywidgets>=7.0.0->cufflinks->pymgrid==0.1.0) (1.5.1)\n",
            "Requirement already satisfied: fastjsonschema>=2.15 in /usr/local/lib/python3.11/dist-packages (from nbformat->notebook>=4.4.1->widgetsnbextension~=3.6.0->ipywidgets>=7.0.0->cufflinks->pymgrid==0.1.0) (2.21.1)\n",
            "Requirement already satisfied: jsonschema>=2.6 in /usr/local/lib/python3.11/dist-packages (from nbformat->notebook>=4.4.1->widgetsnbextension~=3.6.0->ipywidgets>=7.0.0->cufflinks->pymgrid==0.1.0) (4.24.0)\n",
            "Requirement already satisfied: argon2-cffi-bindings in /usr/local/lib/python3.11/dist-packages (from argon2-cffi->notebook>=4.4.1->widgetsnbextension~=3.6.0->ipywidgets>=7.0.0->cufflinks->pymgrid==0.1.0) (21.2.0)\n",
            "Requirement already satisfied: webencodings in /usr/local/lib/python3.11/dist-packages (from bleach!=5.0.0->bleach[css]!=5.0.0->nbconvert>=5->notebook>=4.4.1->widgetsnbextension~=3.6.0->ipywidgets>=7.0.0->cufflinks->pymgrid==0.1.0) (0.5.1)\n",
            "Requirement already satisfied: tinycss2<1.5,>=1.1.0 in /usr/local/lib/python3.11/dist-packages (from bleach[css]!=5.0.0->nbconvert>=5->notebook>=4.4.1->widgetsnbextension~=3.6.0->ipywidgets>=7.0.0->cufflinks->pymgrid==0.1.0) (1.4.0)\n",
            "Requirement already satisfied: attrs>=22.2.0 in /usr/local/lib/python3.11/dist-packages (from jsonschema>=2.6->nbformat->notebook>=4.4.1->widgetsnbextension~=3.6.0->ipywidgets>=7.0.0->cufflinks->pymgrid==0.1.0) (25.3.0)\n",
            "Requirement already satisfied: jsonschema-specifications>=2023.03.6 in /usr/local/lib/python3.11/dist-packages (from jsonschema>=2.6->nbformat->notebook>=4.4.1->widgetsnbextension~=3.6.0->ipywidgets>=7.0.0->cufflinks->pymgrid==0.1.0) (2025.4.1)\n",
            "Requirement already satisfied: referencing>=0.28.4 in /usr/local/lib/python3.11/dist-packages (from jsonschema>=2.6->nbformat->notebook>=4.4.1->widgetsnbextension~=3.6.0->ipywidgets>=7.0.0->cufflinks->pymgrid==0.1.0) (0.36.2)\n",
            "Requirement already satisfied: rpds-py>=0.7.1 in /usr/local/lib/python3.11/dist-packages (from jsonschema>=2.6->nbformat->notebook>=4.4.1->widgetsnbextension~=3.6.0->ipywidgets>=7.0.0->cufflinks->pymgrid==0.1.0) (0.26.0)\n",
            "Requirement already satisfied: jupyter-server<3,>=1.8 in /usr/local/lib/python3.11/dist-packages (from notebook-shim>=0.2.3->nbclassic>=0.4.7->notebook>=4.4.1->widgetsnbextension~=3.6.0->ipywidgets>=7.0.0->cufflinks->pymgrid==0.1.0) (1.16.0)\n",
            "Requirement already satisfied: soupsieve>1.2 in /usr/local/lib/python3.11/dist-packages (from beautifulsoup4->nbconvert>=5->notebook>=4.4.1->widgetsnbextension~=3.6.0->ipywidgets>=7.0.0->cufflinks->pymgrid==0.1.0) (2.7)\n",
            "Requirement already satisfied: typing-extensions>=4.0.0 in /usr/local/lib/python3.11/dist-packages (from beautifulsoup4->nbconvert>=5->notebook>=4.4.1->widgetsnbextension~=3.6.0->ipywidgets>=7.0.0->cufflinks->pymgrid==0.1.0) (4.14.0)\n",
            "Requirement already satisfied: anyio>=3.1.0 in /usr/local/lib/python3.11/dist-packages (from jupyter-server<3,>=1.8->notebook-shim>=0.2.3->nbclassic>=0.4.7->notebook>=4.4.1->widgetsnbextension~=3.6.0->ipywidgets>=7.0.0->cufflinks->pymgrid==0.1.0) (4.9.0)\n",
            "Requirement already satisfied: websocket-client in /usr/local/lib/python3.11/dist-packages (from jupyter-server<3,>=1.8->notebook-shim>=0.2.3->nbclassic>=0.4.7->notebook>=4.4.1->widgetsnbextension~=3.6.0->ipywidgets>=7.0.0->cufflinks->pymgrid==0.1.0) (1.8.0)\n",
            "Requirement already satisfied: sniffio>=1.1 in /usr/local/lib/python3.11/dist-packages (from anyio>=3.1.0->jupyter-server<3,>=1.8->notebook-shim>=0.2.3->nbclassic>=0.4.7->notebook>=4.4.1->widgetsnbextension~=3.6.0->ipywidgets>=7.0.0->cufflinks->pymgrid==0.1.0) (1.3.1)\n",
            "Downloading jedi-0.19.2-py2.py3-none-any.whl (1.6 MB)\n",
            "\u001b[2K   \u001b[90m━━━━━━━━━━━━━━━━━━━━━━━━━━━━━━━━━━━━━━━━\u001b[0m \u001b[32m1.6/1.6 MB\u001b[0m \u001b[31m27.7 MB/s\u001b[0m eta \u001b[36m0:00:00\u001b[0m\n",
            "\u001b[?25hBuilding wheels for collected packages: pymgrid\n",
            "  Building wheel for pymgrid (setup.py) ... \u001b[?25l\u001b[?25hdone\n",
            "  Created wheel for pymgrid: filename=pymgrid-0.1.0-py3-none-any.whl size=3425262 sha256=699b728b70bd0fdb3d0c91558bd195567ffde1f99e01e90d9338e31ab5eb154c\n",
            "  Stored in directory: /root/.cache/pip/wheels/4c/8e/ee/01e10fd5a1730e59d749f2baf4ec833c5efcf1d4ba0d7bf6b6\n",
            "Successfully built pymgrid\n",
            "Installing collected packages: jedi, pymgrid\n",
            "Successfully installed jedi-0.19.2 pymgrid-0.1.0\n"
          ]
        }
      ],
      "source": [
        "!pip install https://raw.githubusercontent.com/AnIsAsPe/Aprendizaje-por-Refuerzo/main/pymgrid-0.1.0-beta_modified_.zip\n"
      ]
    },
    {
      "cell_type": "code",
      "execution_count": null,
      "metadata": {
        "id": "NBFdGVNIkmtz"
      },
      "outputs": [],
      "source": [
        "from pymgrid import MicrogridGenerator as mg\n",
        "\n",
        "import numpy as np\n",
        "import pandas as pd\n",
        "import matplotlib.pyplot as plt\n",
        "\n",
        "import os\n",
        "import time\n",
        "import sys\n",
        "import pickle"
      ]
    },
    {
      "cell_type": "code",
      "execution_count": null,
      "metadata": {
        "colab": {
          "base_uri": "https://localhost:8080/"
        },
        "id": "hi0QIo7scSGo",
        "outputId": "db594a9d-213f-47d1-81e7-44b8b4cb6e9f"
      },
      "outputs": [
        {
          "output_type": "stream",
          "name": "stdout",
          "text": [
            "Mounted at /content/drive\n"
          ]
        }
      ],
      "source": [
        "from google.colab import drive\n",
        "drive.mount('/content/drive')"
      ]
    },
    {
      "cell_type": "markdown",
      "metadata": {
        "id": "thwBR-8L5Arw"
      },
      "source": [
        "# Ambiente:\n",
        "* Arquitectura de la microrred\n",
        "* Datos históricos de demanda energética y generación solar\n",
        "* Componentes de la red"
      ]
    },
    {
      "cell_type": "code",
      "execution_count": null,
      "metadata": {
        "id": "0WbTi7UQt4JP"
      },
      "outputs": [],
      "source": [
        "# # seleccionamos un ambiente con un arquitectura conveniente para nuestro problema\n",
        "# env = mg.MicrogridGenerator(nb_microgrid=100,\n",
        "#                             random_seed = 2  # el tamaño de los componente de la red es asignado aleatoriamente\n",
        "#                             )\n",
        "# env.generate_microgrid(verbose=False)\n",
        "\n",
        "# red = env.microgrids[37]\n",
        "\n",
        "# # Para asegurar la reproducibilidad del código guardamos la red como objeto pickle\n",
        "\n",
        "# path = '/content/drive/MyDrive/Modelos/Política Red Electrica/'\n",
        "\n",
        "# pickle.dump(red, open(path + \"red2025.pkl\", \"wb\"))"
      ]
    },
    {
      "cell_type": "markdown",
      "metadata": {
        "id": "0-FwGfb5zzrg"
      },
      "source": [
        "### Lectura y revisión arquitectura de la microrred"
      ]
    },
    {
      "cell_type": "code",
      "execution_count": null,
      "metadata": {
        "id": "goZ7-NyT1F25"
      },
      "outputs": [],
      "source": [
        "# Para asegurar la reproducibilidad del código usaremos la red guardada como objeto pickle\n",
        "\n",
        "path = '/content/drive/MyDrive/Modelos/Política Red Electrica/'\n",
        "\n",
        "red = pickle.load(open(path + \"red2025.pkl\", \"rb\"))\n",
        "\n",
        "red.reset()"
      ]
    },
    {
      "cell_type": "code",
      "execution_count": null,
      "metadata": {
        "colab": {
          "base_uri": "https://localhost:8080/",
          "height": 356
        },
        "id": "P8rgisdU7TfI",
        "outputId": "d956e35f-a4d0-4683-de59-c2894e6d76fb"
      },
      "outputs": [
        {
          "output_type": "stream",
          "name": "stdout",
          "text": [
            "Microgrid parameters\n"
          ]
        },
        {
          "output_type": "display_data",
          "data": {
            "text/plain": [
              "   load  cost_loss_load  cost_overgeneration  cost_co2  PV_rated_power  \\\n",
              "0  1603              10                    1       0.1         1667.12   \n",
              "\n",
              "   battery_soc_0  battery_power_charge  battery_power_discharge  \\\n",
              "0       0.205436                   826                      826   \n",
              "\n",
              "   battery_capacity  battery_efficiency  ...  battery_cost_cycle  \\\n",
              "0              3303                 0.9  ...                0.02   \n",
              "\n",
              "   genset_polynom_order  genset_polynom_0  genset_polynom_1  genset_polynom_2  \\\n",
              "0                     3          4.893013           0.26072          0.040264   \n",
              "\n",
              "   genset_rated_power  genset_pmin  genset_pmax  fuel_cost  genset_co2  \n",
              "0                1782         0.05          0.9        0.4           2  \n",
              "\n",
              "[1 rows x 22 columns]"
            ],
            "text/html": [
              "\n",
              "  <div id=\"df-45624a93-41cc-4573-bfbb-3d6a13078337\" class=\"colab-df-container\">\n",
              "    <div>\n",
              "<style scoped>\n",
              "    .dataframe tbody tr th:only-of-type {\n",
              "        vertical-align: middle;\n",
              "    }\n",
              "\n",
              "    .dataframe tbody tr th {\n",
              "        vertical-align: top;\n",
              "    }\n",
              "\n",
              "    .dataframe thead th {\n",
              "        text-align: right;\n",
              "    }\n",
              "</style>\n",
              "<table border=\"1\" class=\"dataframe\">\n",
              "  <thead>\n",
              "    <tr style=\"text-align: right;\">\n",
              "      <th></th>\n",
              "      <th>load</th>\n",
              "      <th>cost_loss_load</th>\n",
              "      <th>cost_overgeneration</th>\n",
              "      <th>cost_co2</th>\n",
              "      <th>PV_rated_power</th>\n",
              "      <th>battery_soc_0</th>\n",
              "      <th>battery_power_charge</th>\n",
              "      <th>battery_power_discharge</th>\n",
              "      <th>battery_capacity</th>\n",
              "      <th>battery_efficiency</th>\n",
              "      <th>...</th>\n",
              "      <th>battery_cost_cycle</th>\n",
              "      <th>genset_polynom_order</th>\n",
              "      <th>genset_polynom_0</th>\n",
              "      <th>genset_polynom_1</th>\n",
              "      <th>genset_polynom_2</th>\n",
              "      <th>genset_rated_power</th>\n",
              "      <th>genset_pmin</th>\n",
              "      <th>genset_pmax</th>\n",
              "      <th>fuel_cost</th>\n",
              "      <th>genset_co2</th>\n",
              "    </tr>\n",
              "  </thead>\n",
              "  <tbody>\n",
              "    <tr>\n",
              "      <th>0</th>\n",
              "      <td>1603</td>\n",
              "      <td>10</td>\n",
              "      <td>1</td>\n",
              "      <td>0.1</td>\n",
              "      <td>1667.12</td>\n",
              "      <td>0.205436</td>\n",
              "      <td>826</td>\n",
              "      <td>826</td>\n",
              "      <td>3303</td>\n",
              "      <td>0.9</td>\n",
              "      <td>...</td>\n",
              "      <td>0.02</td>\n",
              "      <td>3</td>\n",
              "      <td>4.893013</td>\n",
              "      <td>0.26072</td>\n",
              "      <td>0.040264</td>\n",
              "      <td>1782</td>\n",
              "      <td>0.05</td>\n",
              "      <td>0.9</td>\n",
              "      <td>0.4</td>\n",
              "      <td>2</td>\n",
              "    </tr>\n",
              "  </tbody>\n",
              "</table>\n",
              "<p>1 rows × 22 columns</p>\n",
              "</div>\n",
              "    <div class=\"colab-df-buttons\">\n",
              "\n",
              "  <div class=\"colab-df-container\">\n",
              "    <button class=\"colab-df-convert\" onclick=\"convertToInteractive('df-45624a93-41cc-4573-bfbb-3d6a13078337')\"\n",
              "            title=\"Convert this dataframe to an interactive table.\"\n",
              "            style=\"display:none;\">\n",
              "\n",
              "  <svg xmlns=\"http://www.w3.org/2000/svg\" height=\"24px\" viewBox=\"0 -960 960 960\">\n",
              "    <path d=\"M120-120v-720h720v720H120Zm60-500h600v-160H180v160Zm220 220h160v-160H400v160Zm0 220h160v-160H400v160ZM180-400h160v-160H180v160Zm440 0h160v-160H620v160ZM180-180h160v-160H180v160Zm440 0h160v-160H620v160Z\"/>\n",
              "  </svg>\n",
              "    </button>\n",
              "\n",
              "  <style>\n",
              "    .colab-df-container {\n",
              "      display:flex;\n",
              "      gap: 12px;\n",
              "    }\n",
              "\n",
              "    .colab-df-convert {\n",
              "      background-color: #E8F0FE;\n",
              "      border: none;\n",
              "      border-radius: 50%;\n",
              "      cursor: pointer;\n",
              "      display: none;\n",
              "      fill: #1967D2;\n",
              "      height: 32px;\n",
              "      padding: 0 0 0 0;\n",
              "      width: 32px;\n",
              "    }\n",
              "\n",
              "    .colab-df-convert:hover {\n",
              "      background-color: #E2EBFA;\n",
              "      box-shadow: 0px 1px 2px rgba(60, 64, 67, 0.3), 0px 1px 3px 1px rgba(60, 64, 67, 0.15);\n",
              "      fill: #174EA6;\n",
              "    }\n",
              "\n",
              "    .colab-df-buttons div {\n",
              "      margin-bottom: 4px;\n",
              "    }\n",
              "\n",
              "    [theme=dark] .colab-df-convert {\n",
              "      background-color: #3B4455;\n",
              "      fill: #D2E3FC;\n",
              "    }\n",
              "\n",
              "    [theme=dark] .colab-df-convert:hover {\n",
              "      background-color: #434B5C;\n",
              "      box-shadow: 0px 1px 3px 1px rgba(0, 0, 0, 0.15);\n",
              "      filter: drop-shadow(0px 1px 2px rgba(0, 0, 0, 0.3));\n",
              "      fill: #FFFFFF;\n",
              "    }\n",
              "  </style>\n",
              "\n",
              "    <script>\n",
              "      const buttonEl =\n",
              "        document.querySelector('#df-45624a93-41cc-4573-bfbb-3d6a13078337 button.colab-df-convert');\n",
              "      buttonEl.style.display =\n",
              "        google.colab.kernel.accessAllowed ? 'block' : 'none';\n",
              "\n",
              "      async function convertToInteractive(key) {\n",
              "        const element = document.querySelector('#df-45624a93-41cc-4573-bfbb-3d6a13078337');\n",
              "        const dataTable =\n",
              "          await google.colab.kernel.invokeFunction('convertToInteractive',\n",
              "                                                    [key], {});\n",
              "        if (!dataTable) return;\n",
              "\n",
              "        const docLinkHtml = 'Like what you see? Visit the ' +\n",
              "          '<a target=\"_blank\" href=https://colab.research.google.com/notebooks/data_table.ipynb>data table notebook</a>'\n",
              "          + ' to learn more about interactive tables.';\n",
              "        element.innerHTML = '';\n",
              "        dataTable['output_type'] = 'display_data';\n",
              "        await google.colab.output.renderOutput(dataTable, element);\n",
              "        const docLink = document.createElement('div');\n",
              "        docLink.innerHTML = docLinkHtml;\n",
              "        element.appendChild(docLink);\n",
              "      }\n",
              "    </script>\n",
              "  </div>\n",
              "\n",
              "\n",
              "    </div>\n",
              "  </div>\n"
            ],
            "application/vnd.google.colaboratory.intrinsic+json": {
              "type": "dataframe"
            }
          },
          "metadata": {}
        },
        {
          "output_type": "stream",
          "name": "stdout",
          "text": [
            "Architecture:\n",
            "{'PV': 1, 'battery': 1, 'genset': 1, 'grid': 0}\n",
            "Actions: \n",
            "dict_keys(['load', 'pv_consummed', 'pv_curtailed', 'pv', 'battery_charge', 'battery_discharge', 'genset'])\n",
            "Control dictionnary:\n",
            "['load', 'pv_consummed', 'pv_curtailed', 'pv', 'battery_charge', 'battery_discharge', 'genset']\n",
            "Status: \n",
            "dict_keys(['load', 'hour', 'pv', 'battery_soc', 'capa_to_charge', 'capa_to_discharge'])\n",
            "Has run mpc baseline:\n",
            "False\n",
            "Has run rule based baseline:\n",
            "False\n"
          ]
        }
      ],
      "source": [
        " red.print_info()"
      ]
    },
    {
      "cell_type": "markdown",
      "metadata": {
        "id": "LV56zg352or1"
      },
      "source": [
        "Cada acción(`Action`) que se aplique a la red será definida por los valores que se pasen a cada una de las claves del diccionario de control.\n",
        "Cuando se aplique la acción, entonces obtendremos un `Status` nuevo."
      ]
    },
    {
      "cell_type": "markdown",
      "metadata": {
        "id": "Vu9zl6A2JpUy"
      },
      "source": [
        "### Datos históricos de demanda energética y generación solar\n",
        "\n",
        "Cada observación es una hora y la longitud de la serie es de un año (8769 horas)"
      ]
    },
    {
      "cell_type": "code",
      "execution_count": null,
      "metadata": {
        "colab": {
          "base_uri": "https://localhost:8080/",
          "height": 391
        },
        "id": "TX5biwssW64y",
        "outputId": "3f9a6951-4312-4822-8e53-1d841ae93f87"
      },
      "outputs": [
        {
          "output_type": "execute_result",
          "data": {
            "text/plain": [
              "[<matplotlib.lines.Line2D at 0x7a5d1c559a90>]"
            ]
          },
          "metadata": {},
          "execution_count": 8
        },
        {
          "output_type": "display_data",
          "data": {
            "text/plain": [
              "<Figure size 1000x400 with 1 Axes>"
            ],
            "image/png": "[encoded data removed]"
          },
          "metadata": {}
        }
      ],
      "source": [
        "red.set_horizon(8769)   # se pueden hacer predicciones hasta por un año: 8769 horas\n",
        "\n",
        "plt.figure(figsize=(10,4))\n",
        "plt.plot(red.forecast_load(), label='load')\n",
        "plt.plot(red.forecast_pv(), label='pv')"
      ]
    },
    {
      "cell_type": "markdown",
      "metadata": {
        "id": "WdxJahadl4Xo"
      },
      "source": [
        "## Características de los componentes\n"
      ]
    },
    {
      "cell_type": "markdown",
      "metadata": {
        "id": "JiCQhmPpwnop"
      },
      "source": [
        "**Demanda**"
      ]
    },
    {
      "cell_type": "code",
      "execution_count": null,
      "metadata": {
        "colab": {
          "base_uri": "https://localhost:8080/"
        },
        "id": "iKFJib5NwnHI",
        "outputId": "58c1de66-ce20-4e04-d2c7-1d020a22a896"
      },
      "outputs": [
        {
          "output_type": "execute_result",
          "data": {
            "text/plain": [
              "np.float64(1123.5340050262632)"
            ]
          },
          "metadata": {},
          "execution_count": 11
        }
      ],
      "source": [
        " # Variable aleatoria en función del tiempo\n",
        "red.load"
      ]
    },
    {
      "cell_type": "markdown",
      "metadata": {
        "id": "hgm7SUia5mF9"
      },
      "source": [
        "**Generación fotovoltaica (pv)**"
      ]
    },
    {
      "cell_type": "code",
      "execution_count": null,
      "metadata": {
        "colab": {
          "base_uri": "https://localhost:8080/"
        },
        "id": "_dC978or5zhA",
        "outputId": "f8d9713b-d6b9-4cb9-f399-36f3a990c044"
      },
      "outputs": [
        {
          "output_type": "execute_result",
          "data": {
            "text/plain": [
              "np.float64(0.0)"
            ]
          },
          "metadata": {},
          "execution_count": 12
        }
      ],
      "source": [
        "# variable aleatoria en función del tiempo\n",
        "red.pv"
      ]
    },
    {
      "cell_type": "markdown",
      "metadata": {
        "id": "N_gmtG7XxAhm"
      },
      "source": [
        "**Batería**"
      ]
    },
    {
      "cell_type": "code",
      "execution_count": null,
      "metadata": {
        "colab": {
          "base_uri": "https://localhost:8080/"
        },
        "id": "_KKjvDYzudNK",
        "outputId": "27d325f7-a0f6-4378-a742-01c98107e340"
      },
      "outputs": [
        {
          "output_type": "execute_result",
          "data": {
            "text/plain": [
              "np.int64(826)"
            ]
          },
          "metadata": {},
          "execution_count": 13
        }
      ],
      "source": [
        "## Costante. Cantidad de energía máxima que puede cargar la batería en una hora\n",
        "red.battery.p_charge_max\n"
      ]
    },
    {
      "cell_type": "code",
      "execution_count": null,
      "metadata": {
        "colab": {
          "base_uri": "https://localhost:8080/"
        },
        "id": "H_o1vsqaw_ug",
        "outputId": "67e6df8d-6fb2-4c28-e85c-11e6a6ccae84"
      },
      "outputs": [
        {
          "output_type": "execute_result",
          "data": {
            "text/plain": [
              "np.int64(826)"
            ]
          },
          "metadata": {},
          "execution_count": 14
        }
      ],
      "source": [
        "# Constante. Cantidad de energía máxima que puede descargar la batería en una hora\n",
        "red.battery.p_discharge_max"
      ]
    },
    {
      "cell_type": "code",
      "execution_count": null,
      "metadata": {
        "colab": {
          "base_uri": "https://localhost:8080/"
        },
        "id": "47gpzNjhxXQH",
        "outputId": "26b95b0c-44d5-4f2f-b989-8ccbb0ab95c3"
      },
      "outputs": [
        {
          "output_type": "execute_result",
          "data": {
            "text/plain": [
              "np.int64(1)"
            ]
          },
          "metadata": {},
          "execution_count": 15
        }
      ],
      "source": [
        "# Constante. Estado de carga máxima\n",
        "red.battery.soc_max"
      ]
    },
    {
      "cell_type": "code",
      "execution_count": null,
      "metadata": {
        "colab": {
          "base_uri": "https://localhost:8080/"
        },
        "id": "2xzpwM7WxZyn",
        "outputId": "19250c59-204e-4726-c000-8e7a818bd172"
      },
      "outputs": [
        {
          "output_type": "execute_result",
          "data": {
            "text/plain": [
              "np.float64(0.2)"
            ]
          },
          "metadata": {},
          "execution_count": 16
        }
      ],
      "source": [
        "# Constante. Estado de carga mínima\n",
        "red.battery.soc_min"
      ]
    },
    {
      "cell_type": "code",
      "execution_count": null,
      "metadata": {
        "colab": {
          "base_uri": "https://localhost:8080/"
        },
        "id": "poR3vC3yxSje",
        "outputId": "a06824d3-e73f-4391-9687-3389fd09db9b"
      },
      "outputs": [
        {
          "output_type": "execute_result",
          "data": {
            "text/plain": [
              "np.float64(0.9753801220904987)"
            ]
          },
          "metadata": {},
          "execution_count": 17
        }
      ],
      "source": [
        "# Variable. Estado de la carga\n",
        "red.battery.soc"
      ]
    },
    {
      "cell_type": "code",
      "execution_count": null,
      "metadata": {
        "colab": {
          "base_uri": "https://localhost:8080/"
        },
        "id": "lhbu-UBoz-GA",
        "outputId": "997417fc-e4c3-4aaf-c0c1-39c60e92d314"
      },
      "outputs": [
        {
          "output_type": "execute_result",
          "data": {
            "text/plain": [
              "np.float64(90.35495192786965)"
            ]
          },
          "metadata": {},
          "execution_count": 18
        }
      ],
      "source": [
        "# Variable dependiente de soc. Cantidad de energía que la batería puede cargar antes de tener carga completa\n",
        "red.battery.capa_to_charge"
      ]
    },
    {
      "cell_type": "code",
      "execution_count": null,
      "metadata": {
        "colab": {
          "base_uri": "https://localhost:8080/"
        },
        "id": "HRfz0s7z0VEg",
        "outputId": "e28ce3ed-1099-42a6-b6b0-99c28173854f"
      },
      "outputs": [
        {
          "output_type": "execute_result",
          "data": {
            "text/plain": [
              "np.float64(2304.972488938426)"
            ]
          },
          "metadata": {},
          "execution_count": 19
        }
      ],
      "source": [
        "# Variable dependiente de soc. Cantidad de energía disponible antes de estar totalmente descargada\n",
        "red.battery.capa_to_discharge"
      ]
    },
    {
      "cell_type": "markdown",
      "metadata": {
        "id": "7U-UooD91yLp"
      },
      "source": [
        "**Generador de combustibles fósiles (genset)**"
      ]
    },
    {
      "cell_type": "code",
      "execution_count": null,
      "metadata": {
        "colab": {
          "base_uri": "https://localhost:8080/"
        },
        "id": "5nufNoSU489v",
        "outputId": "f731dec3-091c-4951-c19f-44d8a1cfc0a1"
      },
      "outputs": [
        {
          "output_type": "stream",
          "name": "stdout",
          "text": [
            "Costo del combustible por KWh: $0.40 \n",
            "Potencia máxima en KW:  1782\n",
            "Operación mínima y máxima: 0.05%, 0.9%\n"
          ]
        }
      ],
      "source": [
        "# Características del generador\n",
        "print('Costo del combustible por KWh: ${:0.2f} '.format(red.genset.fuel_cost))\n",
        "print('Potencia máxima en KW: ', red.genset.rated_power )\n",
        "print('Operación mínima y máxima: {}%, {}%'.format(red.genset.p_min,\n",
        "                                                         red.genset.p_max))"
      ]
    },
    {
      "cell_type": "code",
      "execution_count": null,
      "metadata": {
        "colab": {
          "base_uri": "https://localhost:8080/"
        },
        "id": "GNcBannPssDr",
        "outputId": "19d56835-7c4a-4a4c-dddc-baabea3a0da4"
      },
      "outputs": [
        {
          "output_type": "execute_result",
          "data": {
            "text/plain": [
              "np.float64(89.10000000000001)"
            ]
          },
          "metadata": {},
          "execution_count": 21
        }
      ],
      "source": [
        "red.genset.p_min*red.genset.rated_power"
      ]
    },
    {
      "cell_type": "markdown",
      "metadata": {
        "id": "QjW4ofjdHvfN"
      },
      "source": [
        "Con los valores anteriores podemos calcular la potencia en KW máxima y mínima de operación"
      ]
    },
    {
      "cell_type": "code",
      "execution_count": null,
      "metadata": {
        "colab": {
          "base_uri": "https://localhost:8080/"
        },
        "id": "fcC2uS_8GNYG",
        "outputId": "a7a7fb76-b463-4db5-95f5-ad711bcab9ea"
      },
      "outputs": [
        {
          "output_type": "execute_result",
          "data": {
            "text/plain": [
              "(np.float64(89.10000000000001), np.float64(1603.8))"
            ]
          },
          "metadata": {},
          "execution_count": 22
        }
      ],
      "source": [
        "gen_min = red.genset.p_min * red.genset.rated_power  #potencia mínima del generador\n",
        "gen_max = red.genset.p_max * red.genset.rated_power  #potencia maxima del generador\n",
        "gen_min, gen_max"
      ]
    },
    {
      "cell_type": "markdown",
      "metadata": {
        "id": "1QZYcDhAXGkA"
      },
      "source": [
        "## Diccionario de control para interactuar con la red"
      ]
    },
    {
      "cell_type": "markdown",
      "metadata": {
        "id": "ngCsTLD7iutj"
      },
      "source": [
        "La función `run()` necesita un diccionatrio de control que depende de la arquitectura de nuestra red,  con el que indicaremos las acciones en cada momento.\n"
      ]
    },
    {
      "cell_type": "code",
      "execution_count": null,
      "metadata": {
        "colab": {
          "base_uri": "https://localhost:8080/"
        },
        "id": "vEYAz4bk7g9I",
        "outputId": "bc5e28e0-b086-4b46-e8d4-59e416507c14"
      },
      "outputs": [
        {
          "output_type": "execute_result",
          "data": {
            "text/plain": [
              "['load',\n",
              " 'pv_consummed',\n",
              " 'pv_curtailed',\n",
              " 'pv',\n",
              " 'battery_charge',\n",
              " 'battery_discharge',\n",
              " 'genset']"
            ]
          },
          "metadata": {},
          "execution_count": 24
        }
      ],
      "source": [
        "# Los campos que se pueden usar en el diccionario de control de nuestra red para establecer las acciones son:\n",
        "red.get_control_dict()"
      ]
    },
    {
      "cell_type": "markdown",
      "metadata": {
        "id": "0tWCPOdpjiP1"
      },
      "source": [
        "`load` y `pv`, se cargan automáticamente.\n",
        "\n",
        "Nosotros nos concentraremos en si se carga la batería, si se descarga o si se genera energía con fuentes fósiles\n"
      ]
    },
    {
      "cell_type": "code",
      "execution_count": null,
      "metadata": {
        "colab": {
          "base_uri": "https://localhost:8080/"
        },
        "id": "7EtdpntR7g9M",
        "outputId": "5d1e1674-ce4f-4085-e3eb-4913e7f56fcc"
      },
      "outputs": [
        {
          "output_type": "stream",
          "name": "stdout",
          "text": [
            "Estado: (1123.5340050262632, 0.9753801220904987)\n",
            "\n"
          ]
        },
        {
          "output_type": "execute_result",
          "data": {
            "text/plain": [
              "{'load': np.float64(250.4811057482691),\n",
              " 'hour': 0,\n",
              " 'pv': np.float64(0.0),\n",
              " 'battery_soc': np.float64(2.3377779422539864),\n",
              " 'capa_to_charge': 0,\n",
              " 'capa_to_discharge': np.float64(6354.972488938425)}"
            ]
          },
          "metadata": {},
          "execution_count": 25
        }
      ],
      "source": [
        "# red.reset()\n",
        "demanda_neta = red.load - red.pv\n",
        "print('Estado: ({}, {})\\n'.format(demanda_neta, red.battery.soc))\n",
        "\n",
        "#con los valores del diccionario vamos a establecer la acción a tomar\n",
        "accion = {\n",
        "            'pv_consumed': 0,\n",
        "            'pv_curtail':0,\n",
        "            'battery_charge':5000 ,\n",
        "            'battery_discharge':0,\n",
        "            'genset': 0\n",
        "          }\n",
        "\n",
        "red.run(accion)    # Nos regresa un diccionario con un nuevo estatus.\n"
      ]
    },
    {
      "cell_type": "markdown",
      "metadata": {
        "id": "RvAxbXPJklMP"
      },
      "source": [
        "Corre las dos celdas de código varias veces y observa los resultados"
      ]
    },
    {
      "cell_type": "markdown",
      "metadata": {
        "id": "pPkdocEK7btG"
      },
      "source": [
        "# Definición de las acciones\n",
        "\n",
        "* accion 0: cargar batería\n",
        "* accion 1: descargar batería\n",
        "* acción 2: generación no renovable (genset)"
      ]
    },
    {
      "cell_type": "code",
      "execution_count": null,
      "metadata": {
        "id": "r8TW6JBQgQtU"
      },
      "outputs": [],
      "source": [
        "def obten_dicionario_control(id_accion):\n",
        "    '''  Crea el diccionario para interactuar con la red según la acción tomada:\n",
        "    0: Cargar batería. La energía a cargar, depende de las variables de estado\n",
        "    1: Descargar batería.\n",
        "    2.: Generar energía no renovable (genset).\n",
        "\n",
        "    Para cualquier de estas acciones es necesario identificar cuanta energía esta\n",
        "    disponible o cuánta se está demandando a la red, a través de la demanda neta;\n",
        "    Además es necesario evaluar cuánta energía puede cargarse o descargarse al\n",
        "    momento de la acción.\n",
        "    '''\n",
        "\n",
        "    demanda_neta =  red.load - red.pv\n",
        "    # Energía que se puede cargar en la batería:\n",
        "    p_charge = max(0,    # Debe ser mayor a cero\n",
        "                   min(-demanda_neta + gen_min,    # energía disponible, en el tiempo t\n",
        "                       red.battery.capa_to_charge, # energía por cargar, antes de tener carga máxima, en el tiempo t\n",
        "                       red.battery.p_charge_max    # energía que puede cargarse por hora\n",
        "                       )\n",
        "                   )\n",
        "\n",
        "    # Energía que se puede descargar de la batería\n",
        "    p_discharge = max(\n",
        "                      0,\n",
        "                      min(\n",
        "                          demanda_neta-gen_min,   # energía faltante para cubrir la demanda, en el tiempo t\n",
        "                          red.battery.capa_to_discharge, # energía disponible, antes de tener carga mínima, en el tiempo t\n",
        "                          red.battery.p_discharge_max  #  energía que puede descargarse en una hora\n",
        "                          )\n",
        "                      )\n",
        "\n",
        "    control_dic ={}\n",
        "    if id_accion == 0:   # Cargar batería\n",
        "        control_dict= {'pv_consumed': min(red.pv, red.load),\n",
        "                       'pv_curtailed':0,\n",
        "                       'battery_charge': p_charge,\n",
        "                       'battery_discharge': 0,\n",
        "                       'genset': gen_min\n",
        "                       }\n",
        "    elif id_accion == 1:   # Descargar bateria\n",
        "        control_dict = {'pv_consummed': min(red.pv, red.load-p_discharge),\n",
        "                        'pv_curtailed':0,\n",
        "                        'battery_charge': 0,\n",
        "                        'battery_discharge': p_discharge,\n",
        "                        'genset': gen_min\n",
        "                        }\n",
        "\n",
        "    elif id_accion == 2:  #Generación no renovable (genset)\n",
        "        p_genset = max(gen_min,\n",
        "                       min(gen_max,\n",
        "                           max(0, demanda_neta)))\n",
        "        control_dict = {'pv_consummed': min(red.pv, red.load-p_genset),\n",
        "                        'pv_curtailed':0,\n",
        "                        'battery_charge': 0,\n",
        "                        'battery_discharge': 0,\n",
        "                        'genset': p_genset\n",
        "                       }\n",
        "    return control_dict"
      ]
    },
    {
      "cell_type": "code",
      "execution_count": null,
      "metadata": {
        "colab": {
          "base_uri": "https://localhost:8080/"
        },
        "id": "FVXTMZMypkzp",
        "outputId": "33829636-505e-4802-c7ab-a7414d7f3305"
      },
      "outputs": [
        {
          "output_type": "stream",
          "name": "stdout",
          "text": [
            "** Tiempo t **:\n",
            "load: 713.72, pv: 0.0, battery_soc: 0.3\n",
            "\n",
            "Diccionario para interactuar con la red:\n",
            " {'pv_consumed': np.float64(0.0), 'pv_curtailed': 0, 'battery_charge': 0, 'battery_discharge': 0, 'genset': np.float64(89.10000000000001), 'load': np.float64(713.7249926298446), 'pv': np.float64(0.0)}\n",
            "\n",
            "** Tiempo t+1 **:\n",
            "load: 566.87, pv: 0.0, battery_soc: 0.307\n",
            "\n",
            "COSTO DE LA ACCIÓN: $6299.71 \n"
          ]
        }
      ],
      "source": [
        "red.reset()  # reiniciar el entorno\n",
        "print('** Tiempo t **:')\n",
        "print('load: {0:.2f}, pv: {1:.1f}, battery_soc: {2:.1f}'.format(red.load, red.pv, red.battery.soc))\n",
        "\n",
        "# Elegir una acción\n",
        "id_accion = 0\n",
        "dict_control = obten_dicionario_control(id_accion)\n",
        "\n",
        "# Interactuar con la red con la acción elegida\n",
        "red.run(dict_control)\n",
        "print('\\nDiccionario para interactuar con la red:\\n',dict_control)\n",
        "\n",
        "print('\\n** Tiempo t+1 **:')\n",
        "print('load: {0:.2f}, pv: {1:.1f}, battery_soc: {2:.3f}'.format(red.load, red.pv, red.battery.soc))\n",
        "print('\\nCOSTO DE LA ACCIÓN: ${:.2f} '.format(red.get_cost()))"
      ]
    },
    {
      "cell_type": "markdown",
      "metadata": {
        "id": "D6UhNh4A7Hgv"
      },
      "source": [
        "# Normalización de los estados"
      ]
    },
    {
      "cell_type": "code",
      "execution_count": null,
      "metadata": {
        "colab": {
          "base_uri": "https://localhost:8080/"
        },
        "id": "RE0tVsbGyoHI",
        "outputId": "aae13cef-2081-4bb1-e8f1-1aaee56bf966"
      },
      "outputs": [
        {
          "output_type": "execute_result",
          "data": {
            "text/plain": [
              "(np.float64(-1431.6297206874096), np.float64(1495.58245322938))"
            ]
          },
          "metadata": {},
          "execution_count": 28
        }
      ],
      "source": [
        "red.reset()\n",
        "red.set_horizon(8769)\n",
        "min_demanda_neta = (red.forecast_load() - red.forecast_pv()).min()\n",
        "max_demanda_neta = (red.forecast_load() - red.forecast_pv()).max()\n",
        "min_demanda_neta, max_demanda_neta"
      ]
    },
    {
      "cell_type": "code",
      "execution_count": null,
      "metadata": {
        "colab": {
          "base_uri": "https://localhost:8080/"
        },
        "id": "V5V0FMSbxjyF",
        "outputId": "513e9813-d788-47fe-f6ad-0d50a562691b"
      },
      "outputs": [
        {
          "output_type": "execute_result",
          "data": {
            "text/plain": [
              "array([0.87290007, 0.44204333])"
            ]
          },
          "metadata": {},
          "execution_count": 29
        }
      ],
      "source": [
        "def normaliza_estado(demanda_neta, soc):\n",
        "\n",
        "    # Calculamos el valor mínimo y máximo de la demanda neta para el ohorizonte dado\n",
        "    red.reset()\n",
        "    red.set_horizon(8769)\n",
        "    min_demanda_neta = (red.forecast_load() - red.forecast_pv()).min()\n",
        "    max_demanda_neta = (red.forecast_load() - red.forecast_pv()).max()\n",
        "\n",
        "    # Normalización min-max para demanda_neta\n",
        "    normalized_demanda_neta = (demanda_neta - min_demanda_neta) / \\\n",
        "                              (max_demanda_neta - min_demanda_neta)\n",
        "    # soc ya está en [0, 1], solo lo pasamos\n",
        "    normalized_soc = soc\n",
        "\n",
        "    return np.array([normalized_demanda_neta, normalized_soc])\n",
        "\n",
        "normaliza_estado(demanda_neta, red.battery.soc)"
      ]
    },
    {
      "cell_type": "markdown",
      "metadata": {
        "id": "-o5BD_m0zLJM"
      },
      "source": [
        "# Deep Q Learning\n"
      ]
    },
    {
      "cell_type": "code",
      "execution_count": null,
      "metadata": {
        "id": "acG5hImIjNEv"
      },
      "outputs": [],
      "source": [
        "import tensorflow as tf\n",
        "from tensorflow.keras import layers, models, optimizers\n",
        "import numpy as np\n",
        "import random\n",
        "from collections import deque\n",
        "import sys\n"
      ]
    },
    {
      "cell_type": "markdown",
      "metadata": {
        "id": "1bsZ4lo5pPOL"
      },
      "source": [
        "### Memoria\n",
        "\n",
        "Nos permitirá guardar registros de experiencias (estado, accion, recompensa, siguiente estado) que serán usadas en el entrenamiento."
      ]
    },
    {
      "cell_type": "code",
      "execution_count": null,
      "metadata": {
        "id": "PteL_UTjjaWW"
      },
      "outputs": [],
      "source": [
        "class ReplayBuffer:\n",
        "    \"\"\"\n",
        "    Esta memoria guarda muestras de estado, acción, recompenza y el siguiente\n",
        "    estado para ser usadas durante el entrenamiento.\n",
        "    \"\"\"\n",
        "    def __init__(self, capacity):\n",
        "        # Inicializa la memoria estableciendo su capacidad máxima\n",
        "        self.buffer = deque(maxlen=capacity)\n",
        "\n",
        "    def store_experience(self, state, action, reward, next_state):\n",
        "        # Almacena una tupla de experiencia en el buffer\n",
        "        self.buffer.append((state, action, reward, next_state))\n",
        "\n",
        "    def sample(self, batch_size):\n",
        "        # Muestra aleatoriamente un lote de experiencias del buffer\n",
        "        # return random.sample(self.buffer, batch_size) # Removed the commented out code\n",
        "        state, action, reward, next_state = zip(*random.sample(self.buffer, batch_size))\n",
        "        return np.array(state), np.array(action), np.array(reward), np.array(next_state)\n",
        "\n",
        "\n",
        "    def __len__(self):\n",
        "        # Retorna el número actual de experiencias en el buffer\n",
        "        return len(self.buffer)"
      ]
    },
    {
      "cell_type": "markdown",
      "metadata": {
        "id": "7EkWlzl46iyS"
      },
      "source": [
        "### DQN Agent\n",
        "\n",
        "El agente es el encargado de elegir la acción para cada estado.\n",
        "En la fase de entrenamiento su objetivo será aprender la política que minimice el costo de operación de la red usando aprendizaje profundo (redes neuronales)"
      ]
    },
    {
      "cell_type": "code",
      "execution_count": null,
      "metadata": {
        "id": "ngOV9XRLjd8W"
      },
      "outputs": [],
      "source": [
        "\n",
        "class DQNAgent:\n",
        "    def __init__(self, state_size, action_size, learning_rate=0.001, gamma=0.99, epsilon_start=1.0, epsilon_end=0.01, epsilon_decay_rate=0.995, target_update_freq=10):\n",
        "        self.state_size = state_size\n",
        "        self.action_size = action_size\n",
        "        self.learning_rate = learning_rate\n",
        "        self.gamma = gamma\n",
        "        self.epsilon = epsilon_start\n",
        "        self.epsilon_end = epsilon_end\n",
        "        self.epsilon_decay_rate = epsilon_decay_rate\n",
        "        self.target_update_freq = target_update_freq\n",
        "\n",
        "        self.memory = ReplayBuffer(capacity=10000)  # Inicializamos la memoria\n",
        "        self.t_step = 0 # Para contar las actualizaciones de los pesos de q_network y saber cuándo actualizar target_q_network\n",
        "\n",
        "\n",
        "        #--- CONSTRUCCIÓN DE LA ARQUITECTURA DE LAS REDES NEURONALES ----\n",
        "        # ** Q-Network ** (Actualización constante)\n",
        "        self.q_network = self._build_model()\n",
        "\n",
        "        # ** Target Q-Network** (idéntica a la anterior pero se actualiza con menos frecuencia)\n",
        "        self.target_q_network = self._build_model()\n",
        "        self.target_q_network.set_weights(self.q_network.get_weights()) # Se inicializa con los mismos pesos que q_network\n",
        "\n",
        "        #--- OPTIMIZADOR ---\n",
        "        self.optimizer = optimizers.Adam(learning_rate=self.learning_rate)\n",
        "\n",
        "        #--- FUNCIÓN DE PÉRDIDAD ---\n",
        "        self.loss_fn = tf.keras.losses.MeanSquaredError()\n",
        "\n",
        "    def _build_model(self):\n",
        "        \"\"\"\n",
        "        Arquitectura de una rnn para aproximar el valor Q para cada acción dado un estado.\n",
        "        \"\"\"\n",
        "        model = models.Sequential()\n",
        "        model.add(layers.Input(shape=(self.state_size,))) # La entrada es un estado del entorno (DemandaNeta, soc)\n",
        "        model.add(layers.Dense(64, activation='relu'))\n",
        "        model.add(layers.Dense(64, activation='relu'))\n",
        "        model.add(layers.Dense(self.action_size, activation='linear')) # La salida es el valor de Q para cada posible acción\n",
        "        return model\n",
        "\n",
        "    # APRENDIZAJE\n",
        "    def learn(self, batch_size):\n",
        "        '''\n",
        "        Es el ciclo principal de aprendizaje del agente\n",
        "        '''\n",
        "        if len(self.memory) < batch_size:\n",
        "            return\n",
        "        # Toma una muestra de experiencias desde la memoria y los convierte en tensores\n",
        "        states, actions, rewards, next_states = self.memory.sample(batch_size)\n",
        "\n",
        "        states_tensor = tf.convert_to_tensor(states, dtype=tf.float32)\n",
        "        actions_tensor = tf.convert_to_tensor(actions, dtype=tf.int32)\n",
        "        rewards_tensor = tf.convert_to_tensor(rewards, dtype=tf.float32)\n",
        "        next_states_tensor = tf.convert_to_tensor(next_states, dtype=tf.float32)\n",
        "\n",
        "        with tf.GradientTape() as tape:\n",
        "            # Calcula el valor Q para todas las acciones posibles en el estado actual\n",
        "            q_values = self.q_network(states_tensor)\n",
        "            # Se queda con el valor Q de la acción elegida\n",
        "            q_value_taken = tf.gather_nd(q_values, tf.stack([tf.range(batch_size), actions_tensor], axis=1))\n",
        "\n",
        "            # Obtiene el valor de Q del siguiente estado para la acción mejor evaluada anteriormente para ese estado\n",
        "            next_q_values_target = self.target_q_network(next_states_tensor)\n",
        "            max_next_q_value = tf.reduce_max(next_q_values_target, axis=1)\n",
        "\n",
        "            # Calcula el target de Q_value\n",
        "            target_q_value = rewards_tensor + self.gamma * max_next_q_value\n",
        "\n",
        "            # Calcula la pérdida\n",
        "            loss = self.loss_fn(target_q_value, q_value_taken)\n",
        "\n",
        "        # Calcula los gradientes y los aplica para actualizar los pesos de q_network\n",
        "        gradients = tape.gradient(loss, self.q_network.trainable_variables)\n",
        "        self.optimizer.apply_gradients(zip(gradients, self.q_network.trainable_variables))\n",
        "\n",
        "        # Actualiza también (algunas veces) la target_q_network\n",
        "        self.t_step += 1\n",
        "        if self.t_step % self.target_update_freq == 0:\n",
        "\n",
        "\n",
        "    def update_target_model(self):\n",
        "        # Actualiza los pesos de la red target_q_network con los pesos de la red q_network\n",
        "        self.target_q_network.set_weights(self.q_network.get_weights())\n",
        "\n",
        "    def select_act(self, state):\n",
        "        '''\n",
        "        Selecciona la acción para cada estado ya sea por exploración o explotación.\n",
        "        '''\n",
        "        if random.random() < self.epsilon:\n",
        "            return random.randrange(self.action_size)\n",
        "        q_values = self.q_network.predict(np.expand_dims(state, axis=0), verbose=0)\n",
        "        return np.argmax(q_values[0])\n",
        "\n",
        "\n"
      ]
    },
    {
      "cell_type": "code",
      "execution_count": null,
      "metadata": {
        "id": "l3fAQRqM76NT"
      },
      "outputs": [],
      "source": [
        "# Instantiate the DQN Agent\n",
        "agent = DQNAgent(state_size=2, action_size=3,\n",
        "                 learning_rate=0.001, gamma=0.99,\n",
        "                 epsilon_start=1.0, epsilon_end=0.005,\n",
        "                 epsilon_decay_rate=0.9975, target_update_freq=72)"
      ]
    },
    {
      "cell_type": "code",
      "execution_count": null,
      "metadata": {
        "colab": {
          "base_uri": "https://localhost:8080/",
          "height": 502
        },
        "id": "SgBeiOw3ayVZ",
        "outputId": "4d0bd1a0-59a1-4650-9ea4-2cf08a88f54d"
      },
      "outputs": [
        {
          "output_type": "stream",
          "name": "stdout",
          "text": [
            "0.006695896276803789\n",
            "[0.9975, 0.9950062500000001, 0.9925187343750002, 0.9900374375390627, 0.9875623439452151, 0.9850934380853521, 0.9826307044901388, 0.9801741277289134, 0.9777236924095912, 0.9752793831785673, 0.972841184720621, 0.9704090817588195, 0.9679830590544225, 0.9655631014067865, 0.9631491936532696, 0.9607413206691364, 0.9583394673674637, 0.9559436186990451, 0.9535537596522975, 0.9511698752531668, 0.9487919505650338, 0.9464199706886213, 0.9440539207618998, 0.9416937859599951, 0.9393395514950952, 0.9369912026163575, 0.9346487246098166, 0.9323121027982921, 0.9299813225412964, 0.9276563692349432, 0.9253372283118559, 0.9230238852410764, 0.9207163255279738, 0.9184145347141539, 0.9161184983773686, 0.9138282021314252, 0.9115436316260968, 0.9092647725470315, 0.906991610615664, 0.9047241315891249, 0.9024623212601521, 0.9002061654570018, 0.8979556500433594, 0.8957107609182511, 0.8934714840159556, 0.8912378053059157, 0.8890097107926509, 0.8867871865156693, 0.8845702185493802, 0.8823587930030068, 0.8801528960204993, 0.8779525137804481, 0.875757632495997, 0.8735682384147571, 0.8713843178187202, 0.8692058570241734, 0.867032842381613, 0.864865260275659, 0.86270309712497, 0.8605463393821575, 0.8583949735337022, 0.856248986099868, 0.8541083636346184, 0.8519730927255319, 0.8498431599937181, 0.8477185520937338, 0.8455992557134995, 0.8434852575742158, 0.8413765444302803, 0.8392731030692047, 0.8371749203115317, 0.835081983010753, 0.8329942780532261, 0.8309117923580931, 0.8288345128771979, 0.826762426595005, 0.8246955205285175, 0.8226337817271963, 0.8205771972728783, 0.8185257542796961, 0.8164794398939969, 0.8144382412942619, 0.8124021456910263, 0.8103711403267988, 0.8083452124759819, 0.806324349444792, 0.8043085385711801, 0.8022977672247522, 0.8002920228066904, 0.7982912927496737, 0.7962955645177996, 0.7943048256065052, 0.7923190635424889, 0.7903382658836328, 0.7883624202189238, 0.7863915141683765, 0.7844255353829556, 0.7824644715444982, 0.780508310365637, 0.7785570395897229, 0.7766106469907487, 0.7746691203732718, 0.7727324475723387, 0.7708006164534079, 0.7688736149122745, 0.7669514308749938, 0.7650340522978064, 0.763121467167062, 0.7612136634991443, 0.7593106293403965, 0.7574123527670455, 0.755518821885128, 0.7536300248304152, 0.7517459497683392, 0.7498665848939184, 0.7479919184316837, 0.7461219386356045, 0.7442566337890155, 0.742395992204543, 0.7405400022240317, 0.7386886522184717, 0.7368419305879256, 0.7349998257614558, 0.7331623261970522, 0.7313294203815597, 0.7295010968306058, 0.7276773440885294, 0.7258581507283081, 0.7240435053514873, 0.7222333965881086, 0.7204278130966384, 0.7186267435638969, 0.7168301767049872, 0.7150381012632248, 0.7132505060100668, 0.7114673797450417, 0.7096887112956791, 0.70791448951744, 0.7061447032936464, 0.7043793415354124, 0.7026183931815739, 0.70086184719862, 0.6991096925806235, 0.6973619183491719, 0.6956185135532991, 0.6938794672694159, 0.6921447686012423, 0.6904144066797392, 0.6886883706630399, 0.6869666497363823, 0.6852492331120414, 0.6835361100292614, 0.6818272697541883, 0.6801227015798028, 0.6784223948258533, 0.6767263388387887, 0.6750345229916918, 0.6733469366842125, 0.671663569342502, 0.6699844104191458, 0.668309449393098, 0.6666386757696153, 0.6649720790801913, 0.6633096488824909, 0.6616513747602847, 0.659997246323384, 0.6583472532075756, 0.6567013850745567, 0.6550596316118703, 0.6534219825328407, 0.6517884275765086, 0.6501589565075673, 0.6485335591162984, 0.6469122252185077, 0.6452949446554614, 0.6436817072938228, 0.6420725030255883, 0.6404673217680243, 0.6388661534636043, 0.6372689880799454, 0.6356758156097455, 0.6340866260707212, 0.6325014095055445, 0.6309201559817806, 0.6293428555918262, 0.6277694984528467, 0.6262000747067146, 0.6246345745199479, 0.623072988083648, 0.6215153056134389, 0.6199615173494054, 0.6184116135560319, 0.6168655845221419, 0.6153234205608366, 0.6137851120094345, 0.612250649229411, 0.6107200226063375, 0.6091932225498217, 0.6076702394934471, 0.6061510638947135, 0.6046356862349768, 0.6031240970193894, 0.601616286776841, 0.6001122460598989, 0.5986119654447492, 0.5971154355311373, 0.5956226469423095, 0.5941335903249537, 0.5926482563491414, 0.5911666357082686, 0.5896887191189979, 0.5882144973212005, 0.5867439610778975, 0.5852771011752028, 0.5838139084222649, 0.5823543736512092, 0.5808984877170812, 0.5794462414977886, 0.5779976258940441, 0.576552631829309, 0.5751112502497359, 0.5736734721241116, 0.5722392884438013, 0.5708086902226919, 0.5693816684971351, 0.5679582143258923, 0.5665383187900777, 0.5651219729931025, 0.5637091680606198, 0.5622998951404683, 0.5608941454026172, 0.5594919100391107, 0.558093180264013, 0.556697947313353, 0.5553062024450697, 0.5539179369389571, 0.5525331420966098, 0.5511518092413683, 0.5497739297182649, 0.5483994948939692, 0.5470284961567343, 0.5456609249163425, 0.5442967726040517, 0.5429360306725416, 0.5415786905958603, 0.5402247438693707, 0.5388741820096973, 0.5375269965546731, 0.5361831790632864, 0.5348427211156283, 0.5335056143128392, 0.532171850277057, 0.5308414206513644, 0.5295143170997361, 0.5281905313069868, 0.5268700549787193, 0.5255528798412725, 0.5242389976416694, 0.5229284001475653, 0.5216210791471964, 0.5203170264493284, 0.5190162338832052, 0.5177186932984972, 0.516424396565251, 0.5151333355738379, 0.5138455022349033, 0.5125608884793161, 0.5112794862581179, 0.5100012875424726, 0.5087262843236164, 0.5074544686128074, 0.5061858324412755, 0.5049203678601722, 0.5036580669405218, 0.5023989217731706, 0.5011429244687376, 0.49989006715756584, 0.49864034198967194, 0.4973937411346978, 0.4961502567818611, 0.49490988113990647, 0.49367260643705674, 0.4924384249209641, 0.49120732885866175, 0.4899793105365151, 0.4887543622601738, 0.4875324763545234, 0.4863136451636371, 0.48509786105072805, 0.4838851163981013, 0.48267540360710603, 0.4814687150980883, 0.4802650433103431, 0.47906438070206725, 0.4778667197503121, 0.47667205295093634, 0.47548037281855904, 0.47429167188651267, 0.4731059427067964, 0.4719231778500294, 0.4707433699054044, 0.4695665114806409, 0.4683925952019393, 0.4672216137139345, 0.4660535596796497, 0.4648884257804506, 0.4637262047159995, 0.4625668892042095, 0.461410471981199, 0.46025694580124604, 0.45910630343674297, 0.45795853767815115, 0.4568136413339558, 0.45567160723062095, 0.4545324282125444, 0.45339609714201307, 0.45226260689915804, 0.4511319503819102, 0.4500041205059554, 0.4488791102046905, 0.4477569124291788, 0.44663752014810587, 0.44552092634773566, 0.44440712403186633, 0.44329610622178667, 0.4421878659562322, 0.44108239629134166, 0.43997969030061335, 0.43887974107486183, 0.4377825417221747, 0.43668808536786924, 0.4355963651544496, 0.4345073742415635, 0.4334211058059596, 0.4323375530414447, 0.4312567091588411, 0.43017856738594407, 0.4291031209674792, 0.42803036316506055, 0.4269602872571479, 0.42589288653900503, 0.4248281543226575, 0.4237660839368509, 0.4227066687270088, 0.4216499020551913, 0.4205957773000534, 0.41954428785680326, 0.41849542713716126, 0.4174491885693184, 0.4164055655978951, 0.4153645516839004, 0.41432614030469067, 0.413290324953929, 0.4122570991415442, 0.4112264563936903, 0.4101983902527061, 0.4091728942770744, 0.4081499620413817, 0.4071295871362783, 0.4061117631684376, 0.40509648376051655, 0.4040837425511153, 0.40307353319473754, 0.4020658493617507, 0.4010606847383464, 0.40005803302650056, 0.3990578879439343, 0.3980602432240745, 0.39706509261601436, 0.39607242988447433, 0.39508224880976317, 0.3940945431877388, 0.39310930682976947, 0.39212653356269506, 0.39114621722878834, 0.3901683516857164, 0.38919293080650214, 0.3882199484794859, 0.38724939860828717, 0.38628127511176646, 0.3853155719239871, 0.3843522829941771, 0.3833914022866917, 0.382432923780975, 0.38147684147152255, 0.38052314936784376, 0.3795718414944242, 0.37862291189068814, 0.37767635461096144, 0.3767321637244341, 0.375790333315123, 0.3748508574818352, 0.37391373033813063, 0.3729789460122853, 0.37204649864725464, 0.37111638240063655, 0.37018859144463495, 0.3692631199660234, 0.36833996216610837, 0.3674191122606931, 0.3665005644800414, 0.3655843130688413, 0.36467035228616923, 0.36375867640545384, 0.3628492797144402, 0.3619421565151541, 0.3610373011238662, 0.36013470787105656, 0.35923437110137896, 0.35833628517362554, 0.3574404444606915, 0.3565468433495398, 0.35565547624116595, 0.354766337550563, 0.3538794217066866, 0.3529947231524199, 0.35211223634453886, 0.35123195575367755, 0.3503538758642934, 0.3494779911746327, 0.34860429619669614, 0.3477327854562044, 0.3468634534925639, 0.34599629485883254, 0.34513130412168547, 0.34426847586138126, 0.3434078046717278, 0.3425492851600485, 0.3416929119471484, 0.34083867966728054, 0.33998658296811235, 0.3391366165106921, 0.3382887749694154, 0.3374430530319919, 0.33659944539941195, 0.3357579467859134, 0.33491855191894865, 0.3340812555391513, 0.3332460524003034, 0.33241293726930266, 0.33158190492612943, 0.3307529501638141, 0.3299260677884046, 0.32910125261893364, 0.3282784994873863, 0.32745780323866785, 0.3266391587305712, 0.3258225608337448, 0.32500800443166045, 0.3241954844205813, 0.3233849957095299, 0.3225765332202561, 0.32177009188720546, 0.32096566665748744, 0.3201632524908437, 0.3193628443596166, 0.3185644372487176, 0.3177680261555958, 0.3169736060902068, 0.3161811720749813, 0.3153907191447939, 0.3146022423469319, 0.3138157367410646, 0.313031197399212, 0.31224861940571397, 0.3114679978571997, 0.3106893278625567, 0.3099126045429003, 0.3091378230315431, 0.3083649784739642, 0.30759406602777933, 0.3068250808627099, 0.3060580181605531, 0.30529287311515174, 0.3045296409323639, 0.303768316830033, 0.30300889603795794, 0.30225137379786304, 0.30149574536336843, 0.30074200599996004, 0.2999901509849602, 0.29924017560749777, 0.29849207516847903, 0.29774584498055784, 0.2970014803681065, 0.2962589766671862, 0.29551832922551824, 0.29477953340245444, 0.29404258456894833, 0.293307478107526, 0.2925742094122572, 0.2918427738887266, 0.2911131669540048, 0.2903853840366198, 0.28965942057652827, 0.28893527202508695, 0.2882129338450243, 0.2874924015104117, 0.2867736705066357, 0.28605673633036915, 0.28534159448954327, 0.2846282405033194, 0.28391666990206116, 0.283206878227306, 0.28249886103173777, 0.28179261387915844, 0.28108813234446056, 0.2803854120135994, 0.27968444848356544, 0.27898523736235653, 0.2782877742689506, 0.27759205483327826, 0.2768980746961951, 0.2762058295094546, 0.275515314935681, 0.2748265266483418, 0.27413946033172093, 0.2734541116808916, 0.2727704764016894, 0.2720885502106852, 0.2714083288351585, 0.2707298080130706, 0.27005298349303797, 0.2693778510343054, 0.26870440640671966, 0.2680326453907029, 0.2673625637772261, 0.26669415736778307, 0.26602742197436363, 0.2653623534194277, 0.26469894753587914, 0.26403720016703947, 0.2633771071666219, 0.26271866439870534, 0.26206186773770856, 0.2614067130683643, 0.26075319628569343, 0.2601013132949792, 0.2594510600117418, 0.25880243236171246, 0.2581554262808082, 0.25751003771510617, 0.2568662626208184, 0.2562240969642664, 0.25558353672185574, 0.2549445778800511, 0.254307216435351, 0.2536714483942626, 0.25303726977327695, 0.25240467659884375, 0.25177366490734665, 0.2511442307450783, 0.2505163701682156, 0.24989007924279508, 0.2492653540446881, 0.2486421906595764, 0.24802058518292747, 0.24740053371997017, 0.24678203238567026, 0.2461650773047061, 0.24554966461144434, 0.24493579044991573, 0.24432345097379096, 0.2437126423463565, 0.24310336074049063, 0.24249560233863943, 0.24188936333279284, 0.24128463992446086, 0.24068142832464973, 0.24007972475383813, 0.23947952544195356, 0.2388808266283487, 0.23828362456177785, 0.2376879155003734, 0.23709369571162248, 0.23650096147234342, 0.23590970906866257, 0.23531993479599092, 0.23473163495900096, 0.23414480587160347, 0.23355944385692448, 0.23297554524728217, 0.23239310638416397, 0.23181212361820358, 0.23123259330915807, 0.2306545118258852, 0.2300778755463205, 0.2295026808574547, 0.22892892415531108, 0.22835660184492282, 0.22778571034031053, 0.22721624606445978, 0.22664820544929865, 0.2260815849356754, 0.22551638097333623, 0.2249525900209029, 0.22439020854585065, 0.22382923302448604, 0.22326965994192483, 0.22271148579207004, 0.22215470707758989, 0.22159932030989593, 0.2210453220091212, 0.2204927087040984, 0.21994147693233818, 0.21939162324000736, 0.21884314418190734, 0.21829603632145259, 0.21775029623064895, 0.21720592049007234, 0.21666290568884716, 0.21612124842462505, 0.2155809453035635, 0.2150419929403046, 0.21450438795795385, 0.21396812698805898, 0.21343320667058885, 0.21289962365391238, 0.2123673745947776, 0.2118364561582907, 0.21130686501789497, 0.21077859785535025, 0.2102516513607119, 0.20972602223231013, 0.20920170717672937, 0.20867870290878757, 0.2081570061515156, 0.20763661363613684, 0.2071175221020465, 0.2065997282967914, 0.20608322897604944, 0.20556802090360932, 0.2050541008513503, 0.20454146559922196, 0.2040301119352239, 0.20352003665538587, 0.20301123656374742, 0.20250370847233806, 0.20199744920115723, 0.20149245557815434, 0.20098872443920898, 0.20048625262811098, 0.19998503699654072, 0.19948507440404936, 0.19898636171803924, 0.19848889581374415, 0.1979926735742098, 0.19749769189027427, 0.1970039476605486, 0.19651143779139724, 0.19602015919691876, 0.19553010879892646, 0.19504128352692915, 0.19455368031811185, 0.19406729611731657, 0.19358212787702328, 0.19309817255733072, 0.1926154271259374, 0.19213388855812258, 0.19165355383672728, 0.19117441995213547, 0.19069648390225513, 0.1902197426924995, 0.18974419333576825, 0.18926983285242885, 0.1887966582702978, 0.18832466662462205, 0.1878538549580605, 0.18738422032066537, 0.18691575976986372, 0.18644847037043907, 0.18598234919451298, 0.1855173933215267, 0.1850535998382229, 0.18459096583862736, 0.1841294884240308, 0.18366916470297073, 0.1832099917912133, 0.18275196681173528, 0.18229508689470594, 0.1818393491774692, 0.1813847508045255, 0.1809312889275142, 0.18047896070519542, 0.18002776330343245, 0.1795776938951739, 0.17912874966043596, 0.1786809277862849, 0.1782342254668192, 0.17778863990315216, 0.17734416830339428, 0.1769008078826358, 0.17645855586292922, 0.1760174094732719, 0.17557736594958873, 0.17513842253471476, 0.17470057647837797, 0.17426382503718205, 0.1738281654745891, 0.17339359506090263, 0.17296011107325038, 0.17252771079556725, 0.17209639151857833, 0.1716661505397819, 0.17123698516343247, 0.1708088927005239, 0.1703818704687726, 0.16995591579260066, 0.16953102600311917, 0.1691071984381114, 0.16868443044201611, 0.16826271936591108, 0.16784206256749631, 0.16742245741107759, 0.1670039012675499, 0.16658639151438104, 0.1661699255355951, 0.16575450072175613, 0.16534011446995175, 0.16492676418377689, 0.16451444727331746, 0.16410316115513418, 0.16369290325224636, 0.16328367099411575, 0.16287546181663048, 0.16246827316208892, 0.1620621024791837, 0.16165694722298576, 0.1612528048549283, 0.16084967284279097, 0.160447548660684, 0.1600464297890323, 0.15964631371455973, 0.15924719793027334, 0.15884907993544767, 0.15845195723560906, 0.15805582734252005, 0.15766068777416375, 0.15726653605472835, 0.15687336971459154, 0.15648118629030508, 0.15608998332457932, 0.15569975836626787, 0.1553105089703522, 0.15492223269792632, 0.15453492711618153, 0.15414858979839108, 0.1537632183238951, 0.1533788102780854, 0.1529953632523902, 0.15261287484425923, 0.15223134265714858, 0.1518507643005057, 0.15147113738975446, 0.1510924595462801, 0.1507147283974144, 0.15033794157642086, 0.14996209672247982, 0.14958719148067362, 0.14921322350197194, 0.14884019044321703, 0.148468089967109, 0.14809691974219125, 0.14772667744283577, 0.1473573607492287, 0.14698896734735564, 0.14662149492898727, 0.1462549411916648, 0.14588930383868565, 0.14552458057908893, 0.14516076912764123, 0.14479786720482213, 0.1444358725368101, 0.14407478285546807, 0.1437145958983294, 0.1433553094085836, 0.14299692113506215, 0.1426394288322245, 0.14228283026014393, 0.14192712318449358, 0.14157230537653234, 0.14121837461309103, 0.14086532867655832, 0.14051316535486694, 0.14016188244147978, 0.13981147773537608, 0.13946194904103765, 0.13911329416843507, 0.13876551093301398, 0.13841859715568144, 0.13807255066279225, 0.13772736928613527, 0.13738305086291994, 0.13703959323576265, 0.13669699425267326, 0.13635525176704158, 0.13601436363762398, 0.13567432772852991, 0.1353351419092086, 0.13499680405443557, 0.13465931204429948, 0.13432266376418875, 0.13398685710477828, 0.13365188996201635, 0.1333177602371113, 0.13298446583651855, 0.13265200467192725, 0.13232037466024743, 0.13198957372359682, 0.13165959978928785, 0.13133045078981465, 0.1310021246628401, 0.13067461935118302, 0.13034793280280507, 0.13002206297079807, 0.1296970078133711, 0.12937276529383768, 0.1290493333806031, 0.12872671004715158, 0.12840489327203372, 0.12808388103885365, 0.12776367133625652, 0.12744426215791588, 0.1271256515025211, 0.1268078373737648, 0.1264908177803304, 0.12617459073587958, 0.1258591542590399, 0.12554450637339232, 0.12523064510745885, 0.12491756849469021, 0.1246052745734535, 0.12429376138701986, 0.12398302698355232, 0.12367306941609345, 0.12336388674255322, 0.12305547702569684, 0.1227478383331326, 0.12244096873729977, 0.12213486631545653, 0.1218295291496679, 0.12152495532679373, 0.12122114293847676, 0.12091809008113057, 0.12061579485592774, 0.12031425536878793, 0.12001346973036596, 0.11971343605604005, 0.11941415246589997, 0.11911561708473523, 0.1188178280420234, 0.11852078347191834, 0.11822448151323856, 0.11792892030945547, 0.11763409800868184, 0.11734001276366014, 0.117046662731751, 0.11675404607492162, 0.11646216095973433, 0.116171005557335, 0.11588057804344168, 0.11559087659833309, 0.11530189940683726, 0.11501364465832017, 0.11472611054667438, 0.1144392952703077, 0.11415319703213193, 0.11386781403955161, 0.11358314450445274, 0.11329918664319162, 0.11301593867658365, 0.1127333988298922, 0.11245156533281747, 0.11217043641948543, 0.11189001032843672, 0.11161028530261563, 0.11133125958935909, 0.1110529314403857, 0.11077529911178474, 0.11049836086400529, 0.11022211496184528, 0.10994655967444067, 0.10967169327525457, 0.10939751404206643, 0.10912402025696127, 0.10885121020631888, 0.10857908218080309, 0.10830763447535109, 0.10803686538916273, 0.10776677322568982, 0.1074973562926256, 0.10722861290189405, 0.10696054136963931, 0.10669314001621522, 0.10642640716617469, 0.10616034114825926, 0.10589494029538861, 0.10563020294465014, 0.10536612743728853, 0.10510271211869532, 0.10483995533839859, 0.10457785545005259, 0.10431641081142747, 0.10405561978439891, 0.10379548073493791, 0.10353599203310057, 0.10327715205301782, 0.10301895917288528, 0.10276141177495307, 0.1025045082455157, 0.10224824697490191, 0.10199262635746466, 0.101737644791571, 0.10148330067959209, 0.10122959242789312, 0.10097651844682339, 0.10072407715070633, 0.10047226695782957, 0.100221086290435, 0.09997053357470892, 0.09972060724077215, 0.09947130572267023, 0.09922262745836355, 0.09897457088971764, 0.09872713446249336, 0.09848031662633713, 0.09823411583477129, 0.09798853054518437, 0.09774355921882141, 0.09749920032077436, 0.09725545231997243, 0.0970123136891725, 0.09676978290494957, 0.0965278584476872, 0.09628653880156798, 0.09604582245456407, 0.09580570789842767, 0.0955661936286816, 0.0953272781446099, 0.09508895994924838, 0.09485123754937526, 0.09461410945550182, 0.09437757418186307, 0.09414163024640843, 0.0939062761707924, 0.09367151048036543, 0.09343733170416452, 0.09320373837490412, 0.09297072902896686, 0.09273830220639445, 0.09250645645087847, 0.09227519030975129, 0.09204450233397692, 0.09181439107814197, 0.09158485510044663, 0.09135589296269551, 0.09112750323028879, 0.09089968447221307, 0.09067243526103254, 0.09044575417287996, 0.09021963978744776, 0.08999409068797914, 0.0897691054612592, 0.08954468269760606, 0.08932082099086204, 0.08909751893838488, 0.08887477514103893, 0.08865258820318635, 0.08843095673267838, 0.08820987934084669, 0.08798935464249458, 0.08776938125588835, 0.08754995780274863, 0.08733108290824176, 0.08711275520097117, 0.08689497331296875, 0.08667773587968633, 0.08646104153998711, 0.08624488893613715, 0.0860292767137968, 0.08581420352201231, 0.08559966801320729, 0.08538566884317428, 0.08517220467106634, 0.08495927415938868, 0.08474687597399022, 0.08453500878405525, 0.08432367126209511, 0.08411286208393988, 0.08390257992873003, 0.0836928234789082, 0.08348359142021093, 0.08327488244166041, 0.08306669523555626, 0.08285902849746737, 0.0826518809262237, 0.08244525122390815, 0.08223913809584839, 0.08203354025060877, 0.08182845639998225, 0.0816238852589823, 0.08141982554583485, 0.08121627598197027, 0.08101323529201535, 0.0808107022037853, 0.08060867544827585, 0.08040715375965517, 0.08020613587525603, 0.0800056205355679, 0.07980560648422898, 0.0796060924680184, 0.07940707723684837, 0.07920855954375625, 0.07901053814489686, 0.07881301179953462, 0.07861597927003579, 0.0784194393218607, 0.07822339072355605, 0.07802783224674717, 0.0778327626661303, 0.07763818075946498, 0.07744408530756632, 0.0772504750942974, 0.07705734890656166, 0.07686470553429525, 0.07667254377045951, 0.07648086241103337, 0.07628966025500579, 0.07609893610436828, 0.07590868876410736, 0.0757189170421971, 0.07552961974959162, 0.07534079570021764, 0.07515244371096709, 0.07496456260168968, 0.07477715119518547, 0.07459020831719751, 0.07440373279640453, 0.07421772346441352, 0.0740321791557525, 0.07384709870786312, 0.07366248096109346, 0.07347832475869073, 0.073294628946794, 0.07311139237442703, 0.07292861389349097, 0.07274629235875724, 0.07256442662786035, 0.0723830155612907, 0.07220205802238748, 0.07202155287733152, 0.07184149899513818, 0.07166189524765035, 0.07148274050953123, 0.0713040336582574, 0.07112577357411176, 0.07094795914017649, 0.07077058924232604, 0.07059366276922023, 0.07041717861229718, 0.07024113566576644, 0.07006553282660202, 0.06989036899453552, 0.06971564307204918, 0.06954135396436906, 0.06936750057945813, 0.06919408182800948, 0.06902109662343947, 0.06884854388188087, 0.06867642252217618, 0.06850473146587074, 0.06833346963720607, 0.06816263596311306, 0.06799222937320529, 0.06782224879977228, 0.06765269317777285, 0.06748356144482842, 0.06731485254121636, 0.06714656540986332, 0.06697869899633865, 0.0668112522488478, 0.0666442241182257, 0.06647761355793014, 0.06631141952403531, 0.06614564097522523, 0.06598027687278717, 0.0658153261806052, 0.0656507878651537, 0.06548666089549082, 0.06532294424325209, 0.06515963688264396, 0.06499673779043735, 0.06483424594596127, 0.06467216033109636, 0.06451047993026862, 0.06434920373044295, 0.06418833072111685, 0.06402785989431406, 0.06386779024457828, 0.06370812076896684, 0.06354885046704442, 0.06338997834087681, 0.06323150339502462, 0.06307342463653706, 0.06291574107494573, 0.06275845172225837, 0.06260155559295273, 0.062445051703970356, 0.062288939074710434, 0.06213321672702366, 0.061977883685206105, 0.06182293897599309, 0.061668381628553114, 0.061514210674481734, 0.061360425147795536, 0.06120702408492605, 0.06105400652471374, 0.060901371508401955, 0.06074911807963095, 0.060597245284431875, 0.0604457521712208, 0.06029463779079275, 0.06014390119631577, 0.059993541443324985, 0.05984355758971668, 0.05969394869574239, 0.05954471382400304, 0.05939585203944303, 0.059247362409344424, 0.05909924400332107, 0.05895149589331277, 0.05880411715357949, 0.05865710686069555, 0.05851046409354382, 0.05836418793330996, 0.05821827746347669, 0.058072731769818, 0.05792754994039346, 0.05778273106554248, 0.05763827423787862, 0.05749417855228393, 0.05735044310590322, 0.05720706699813846, 0.057064049330643116, 0.056921389207316514, 0.056779085734298226, 0.05663713801996249, 0.056495545174912586, 0.05635430631197531, 0.056213420546195374, 0.05607288699482989, 0.055932704777342815, 0.05579287301539946, 0.055653390832860965, 0.055514257355778814, 0.05537547171238937, 0.0552370330331084, 0.05509894045052564, 0.05496119309939933, 0.05482379011665083, 0.054686730641359205, 0.05455001381475581, 0.054413638780218924, 0.05427760468326838, 0.05414191067156021, 0.05400655589488131, 0.05387153950514411, 0.05373686065638125, 0.0536025185047403, 0.05346851220847845, 0.05333484092795726, 0.05320150382563737, 0.053068500066073276, 0.052935828815908095, 0.05280348924386833, 0.052671480520758665, 0.05253980181945677, 0.05240845231490813, 0.052277431184120864, 0.052146737606160565, 0.052016370762145166, 0.0518863298352398, 0.05175661401065171, 0.05162722247562508, 0.05149815441943602, 0.05136940903338743, 0.051240985510803964, 0.05111288304702696, 0.050985100839409395, 0.05085763808731087, 0.0507304939920926, 0.05060366775711237, 0.05047715858771959, 0.05035096569125029, 0.05022508827702217, 0.05009952555632962, 0.049974276742438796, 0.0498493410505827, 0.04972471769795625, 0.04960040590371136, 0.04947640488895209, 0.04935271387672971, 0.049229332092037885, 0.04910625876180779, 0.04898349311490327, 0.04886103438211602, 0.04873888179616073, 0.048617034591670334, 0.04849549200519116, 0.048374253275178185, 0.04825331764199024, 0.04813268434788527, 0.04801235263701556, 0.047892321755423024, 0.04777259095103447, 0.047653159473656885, 0.04753402657497274, 0.04741519150853531, 0.04729665352976398, 0.04717841189593957, 0.047060465866199726, 0.046942814701534226, 0.04682545766478039, 0.046708394020618445, 0.0465916230355669, 0.04647514397797799, 0.04635895611803304, 0.046243058727737964, 0.04612745108091862, 0.04601213245321632, 0.04589710212208328, 0.045782359366778075, 0.04566790346836113, 0.04555373370969023, 0.04543984937541601, 0.04532624975197747, 0.04521293412759753, 0.04509990179227854, 0.044987152037797844, 0.04487468415770335, 0.04476249744730909, 0.04465059120369082, 0.04453896472568159, 0.04442761731386739, 0.04431654827058273, 0.04420575689990627, 0.04409524250765651, 0.04398500440138737, 0.0438750418903839, 0.04376535428565795, 0.043655940899943804, 0.04354680104769395, 0.04343793404507472, 0.043329339209962035, 0.043221015861937134, 0.043112963322282295, 0.04300518091397659, 0.04289766796169165, 0.04279042379178742, 0.04268344773230796, 0.04257673911297719, 0.04247029726519475, 0.04236412152203177, 0.04225821121822669, 0.042152565690181124, 0.042047184275955676, 0.04194206631526579, 0.04183721114947763, 0.04173261812160394, 0.04162828657629993, 0.04152421585985919, 0.04142040532020954, 0.04131685430690902, 0.04121356217114175, 0.041110528265713896, 0.04100775194504961, 0.04090523256518699, 0.04080296948377402, 0.04070096206006459, 0.04059920965491443, 0.04049771163077715, 0.04039646735170021, 0.04029547618332096, 0.04019473749286266, 0.040094250649130504, 0.03999401502250768, 0.03989402998495141, 0.039794294909989036, 0.03969480917271406, 0.03959557214978228, 0.03949658321940783, 0.03939784176135931, 0.03929934715695592, 0.03920109878906353, 0.039103096042090876, 0.03900533830198565, 0.03890782495623069, 0.03881055539384012, 0.03871352900535552, 0.03861674518284213, 0.03852020331988503, 0.03842390281158532, 0.03832784305455636, 0.03823202344691997, 0.038136443388302674, 0.03804110227983192, 0.03794599952413234, 0.03785113452532202, 0.03775650668900871, 0.037662115422286195, 0.03756796013373048, 0.03747404023339616, 0.03738035513281267, 0.037286904244980636, 0.03719368698436819, 0.037100702766907266, 0.03700795100999, 0.036915431132465024, 0.03682314255463386, 0.036731084698247284, 0.03663925698650167, 0.036547658844035415, 0.036456289696925326, 0.03636514897268302, 0.03627423610025131, 0.03618355051000068, 0.036093091633725684, 0.036002858904641374, 0.03591285175737977, 0.03582306962798632, 0.03573351195391636, 0.03564417817403157, 0.0355550677285965, 0.03546618005927501, 0.035377514609126824, 0.03528907082260401, 0.035200848145547504, 0.035112846025183636, 0.035025063910120675, 0.03493750125034537, 0.03485015749721951, 0.03476303210347646, 0.03467612452321777, 0.03458943421190973, 0.034502960626379954, 0.03441670322481401, 0.034330661466751976, 0.0342448348130851, 0.03415922272605239, 0.03407382466923726, 0.033988640107564166, 0.03390366850729526, 0.03381890933602702, 0.03373436206268696, 0.03365002615753024, 0.03356590109213641, 0.03348198633940607, 0.033398281373557555, 0.033314785670123664, 0.03323149870594836, 0.03314841995918349, 0.03306554890928553, 0.03298288503701232, 0.03290042782441979, 0.03281817675485874, 0.032736131312971595, 0.032654290984689166, 0.03257265525722745, 0.03249122361908438, 0.032409995560036674, 0.03232897057113658, 0.03224814814470874, 0.03216752777434697, 0.032087108954911105, 0.03200689118252383, 0.031926873954567524, 0.03184705676968111, 0.03176743912775691, 0.03168802052993752, 0.03160880047861268, 0.03152977847741615, 0.03145095403122261, 0.031372326646144554, 0.03129389582952919, 0.031215661089955368, 0.03113762193723048, 0.031059777882387406, 0.03098212843768144, 0.03090467311658724, 0.030827411433795773, 0.030750342905211284, 0.03067346704794826, 0.03059678338032839, 0.03052029142187757, 0.030443990693322875, 0.03036788071658957, 0.030291961014798096, 0.030216231112261103, 0.03014069053448045, 0.03006533880814425, 0.02999017546112389, 0.029915200022471083, 0.029840412022414907, 0.029765810992358872, 0.029691396464877978, 0.029617167973715785, 0.029543125053781497, 0.029469267241147044, 0.02939559407304418, 0.02932210508786157, 0.02924879982514192, 0.029175677825579067, 0.02910273863101512, 0.029029981784437584, 0.028957406829976492, 0.028885013312901553, 0.0288128007796193, 0.02874076877767025, 0.028668916855726076, 0.02859724456358676, 0.028525751452177797, 0.028454437073547355, 0.028383300980863488, 0.028312342728411332, 0.028241561871590305, 0.028170957966911332, 0.028100530571994055, 0.02803027924556407, 0.02796020354745016, 0.027890303038581536, 0.02782057728098508, 0.02775102583778262, 0.027681648273188166, 0.027612444152505196, 0.027543413042123936, 0.027474554509518627, 0.02740586812324483, 0.02733735345293672, 0.02726901006930438, 0.02720083754413112, 0.027132835450270794, 0.027065003361645117, 0.026997340853241007, 0.026929847501107905, 0.026862522882355137, 0.02679536657514925, 0.026728378158711378, 0.0266615572133146, 0.026594903320281315, 0.026528416061980614, 0.026462095021825664, 0.026395939784271103, 0.026329949934810425, 0.0262641250599734, 0.026198464747323468, 0.02613296858545516, 0.026067636163991523, 0.026002467073581545, 0.025937460905897592, 0.025872617253632848, 0.025807935710498768, 0.025743415871222523, 0.025679057331544467, 0.025614859688215606, 0.025550822538995068, 0.025486945482647582, 0.025423228118940964, 0.025359670048643614, 0.025296270873522007, 0.025233030196338203, 0.025169947620847358, 0.02510702275179524, 0.025044255194915755, 0.024981644556928466, 0.024919190445536147, 0.02485689246942231, 0.024794750238248755, 0.024732763362653135, 0.0246709314542465, 0.024609254125610887, 0.024547730990296862, 0.024486361662821123, 0.02442514575866407, 0.024364082894267412, 0.024303172687031745, 0.024242414755314166, 0.02418180871842588, 0.024121354196629818, 0.024061050811138244, 0.0240008981841104, 0.023940895938650127, 0.023881043698803502, 0.023821341089556494, 0.023761787736832605, 0.023702383267490523, 0.023643127309321797, 0.023584019491048495, 0.023525059442320875, 0.023466246793715076, 0.02340758117673079, 0.023349062223788963, 0.02329068956822949, 0.02323246284430892, 0.02317438168719815, 0.023116445732980155, 0.023058654618647707, 0.02300100798210109, 0.02294350546214584, 0.022886146698490473, 0.022828931331744247, 0.02277185900341489, 0.02271492935590635, 0.022658142032516586, 0.022601496677435294, 0.022544992935741706, 0.022488630453402353, 0.02243240887726885, 0.02237632785507568, 0.02232038703543799, 0.022264586067849396, 0.022208924602679772, 0.022153402291173074, 0.022098018785445143, 0.02204277373848153, 0.021987666804135327, 0.02193269763712499, 0.02187786589303218, 0.0218231712282996, 0.02176861330022885, 0.02171419176697828, 0.021659906287560836, 0.021605756521841935, 0.02155174213053733, 0.02149786277521099, 0.021444118118272962, 0.02139050782297728, 0.021337031553419837, 0.021283688974536287, 0.02123047975209995, 0.0211774035527197, 0.021124460043837903, 0.02107164889372831, 0.02101896977149399, 0.020966422347065253, 0.020914006291197593, 0.020861721275469598, 0.020809566972280924, 0.02075754305485022, 0.020705649197213096, 0.020653885074220064, 0.020602250361534517, 0.02055074473563068, 0.020499367873791606, 0.020448119454107128, 0.02039699915547186, 0.020346006657583182, 0.020295141640939224, 0.020244403786836878, 0.020193792777369785, 0.020143308295426363, 0.0200929500246878, 0.02004271764962608, 0.019992610855502017, 0.019942629328363264, 0.019892772755042358, 0.019843040823154752, 0.019793433221096866, 0.019743949638044125, 0.019694589763949017, 0.019645353289539147, 0.0195962399063153, 0.01954724930654951, 0.019498381183283137, 0.01944963523032493, 0.019401011142249118, 0.019352508614393495, 0.019304127342857514, 0.01925586702450037, 0.01920772735693912, 0.019159708038546774, 0.01911180876845041, 0.019064029246529283, 0.01901636917341296, 0.01896882825047943, 0.01892140617985323, 0.0188741026644036, 0.01882691740774259, 0.018779850114223236, 0.01873290048893768, 0.018686068237715337, 0.01863935306712105, 0.018592754684453247, 0.018546272797742114, 0.01849990711574776, 0.018453657347958393, 0.018407523204588497, 0.01836150439657703, 0.01831560063558559, 0.018269811633996626, 0.018224137104911636, 0.01817857676214936, 0.01813313032024399, 0.018087797494443378, 0.01804257800070727, 0.017997471555705503, 0.01795247787681624, 0.0179075966821242, 0.01786282769041889, 0.017818170621192845, 0.017773625194639864, 0.017729191131653266, 0.017684868153824133, 0.017640655983439574, 0.017596554343480977, 0.017552562957622274, 0.01750868155022822, 0.01746490984635265, 0.017421247571736766, 0.017377694452807426, 0.01733425021667541, 0.017290914591133723, 0.01724768730465589, 0.01720456808639425, 0.017161556666178263, 0.01711865277451282, 0.017075856142576538, 0.017033166502220098, 0.016990583585964548, 0.016948107126999637, 0.01690573685918214, 0.016863472517034184, 0.0168213138357416, 0.016779260551152246, 0.016737312399774367, 0.016695469118774932, 0.016653730445977996, 0.016612096119863053, 0.016570565879563397, 0.01652913946486449, 0.016487816616202328, 0.016446597074661822, 0.01640548058197517, 0.01636446688052023, 0.01632355571331893, 0.016282746824035636, 0.016242039956975547, 0.01620143485708311, 0.016160931269940403, 0.016120528941765553, 0.01608022761941114, 0.016040027050362612, 0.015999926982736706, 0.015959927165279865, 0.015920027347366666, 0.015880227278998252, 0.015840526710800756, 0.015800925394023755, 0.015761423080538697, 0.01572201952283735, 0.015682714474030256, 0.01564350768784518, 0.015604398918625568, 0.015565387921329004, 0.015526474451525683, 0.01548765826539687, 0.01544893911973338, 0.015410316771934046, 0.015371790980004213, 0.015333361502554203, 0.01529502809879782, 0.015256790528550826, 0.01521864855222945, 0.015180601930848876, 0.015142650426021755, 0.015104793799956702, 0.015067031815456811, 0.01502936423591817, 0.014991790825328376, 0.014954311348265057, 0.014916925569894395, 0.01487963325596966, 0.014842434172829736, 0.014805328087397663, 0.01476831476717917, 0.014731393980261224, 0.014694565495310572, 0.014657829081572296, 0.014621184508868366, 0.014584631547596196, 0.014548169968727208, 0.01451179954380539, 0.014475520044945877, 0.014439331244833513, 0.01440323291672143, 0.014367224834429627, 0.014331306772343554, 0.014295478505412696, 0.014259739809149165, 0.014224090459626292, 0.014188530233477227, 0.014153058907893534, 0.014117676260623801, 0.014082382069972242, 0.014047176114797312, 0.01401205817451032, 0.013977028029074046, 0.013942085459001361, 0.013907230245353858, 0.013872462169740474, 0.013837781014316123, 0.013803186561780334, 0.013768678595375883, 0.013734256898887444, 0.013699921256640227, 0.013665671453498627, 0.01363150727486488, 0.013597428506677719, 0.013563434935411026, 0.013529526348072498, 0.013495702532202317, 0.013461963275871812, 0.013428308367682133, 0.013394737596762928, 0.01336125075277102, 0.013327847625889094, 0.013294528006824373, 0.013261291686807312, 0.013228138457590294, 0.01319506811144632, 0.013162080441167704, 0.013129175240064786, 0.013096352301964624, 0.013063611421209712, 0.013030952392656689, 0.012998375011675048, 0.012965879074145861, 0.012933464376460497, 0.012901130715519347, 0.01286887788873055, 0.012836705694008724, 0.012804613929773704, 0.01277260239494927, 0.012740670888961898, 0.012708819211739494, 0.012677047163710146, 0.012645354545800873, 0.012613741159436372, 0.012582206806537781, 0.012550751289521437, 0.012519374411297635, 0.01248807597526939, 0.012456855785331218, 0.01242571364586789, 0.012394649361753222, 0.01236366273834884, 0.012332753581502967, 0.012301921697549211, 0.01227116689330534, 0.012240488976072076, 0.012209887753631897, 0.012179363034247818, 0.0121489146266622, 0.012118542340095545, 0.012088245984245306, 0.012058025369284693, 0.012027880305861481, 0.011997810605096828, 0.011967816078584086, 0.011937896538387626, 0.011908051797041658, 0.011878281667549053, 0.011848585963380181, 0.011818964498471732, 0.011789417087225553, 0.01175994354450749, 0.011730543685646222, 0.011701217326432107, 0.011671964283116027, 0.011642784372408238, 0.011613677411477218, 0.011584643217948526, 0.011555681609903655, 0.011526792405878897, 0.011497975424864202, 0.011469230486302042, 0.011440557410086288, 0.011411956016561073, 0.01138342612651967, 0.01135496756120337, 0.011326580142300363, 0.011298263691944614, 0.011270018032714752, 0.011241842987632967, 0.011213738380163886, 0.011185704034213477, 0.011157739774127944, 0.011129845424692624, 0.011102020811130894, 0.011074265759103067, 0.01104658009470531, 0.011018963644468548, 0.010991416235357376, 0.010963937694768984, 0.010936527850532061, 0.010909186530905732, 0.010881913564578469, 0.010854708780667023, 0.010827572008715357, 0.010800503078693569, 0.010773501820996834, 0.010746568066444343, 0.010719701646278232, 0.010692902392162537, 0.010666170136182132, 0.010639504710841678, 0.010612905949064574, 0.010586373684191913, 0.010559907749981433, 0.01053350798060648, 0.010507174210654965, 0.010480906275128328, 0.010454704009440508, 0.010428567249416907, 0.010402495831293365, 0.010376489591715133, 0.010350548367735845, 0.010324671996816505, 0.010298860316824464, 0.010273113166032403, 0.010247430383117323, 0.01022181180715953, 0.01019625727764163, 0.010170766634447527, 0.010145339717861409, 0.010119976368566756, 0.01009467642764534, 0.010069439736576227, 0.010044266137234787, 0.010019155471891701, 0.009994107583211972, 0.009969122314253943, 0.009944199508468308, 0.009919339009697138, 0.009894540662172897, 0.009869804310517465, 0.009845129799741172, 0.00982051697524182, 0.009795965682803715, 0.009771475768596705, 0.009747047079175213, 0.009722679461477276, 0.009698372762823584, 0.009674126830916526, 0.009649941513839235, 0.009625816660054638, 0.009601752118404501, 0.00957774773810849, 0.00955380336876322, 0.009529918860341312, 0.00950609406319046, 0.009482328828032485, 0.009458623005962404, 0.009434976448447497, 0.009411389007326378, 0.009387860534808062, 0.009364390883471043, 0.009340979906262366, 0.00931762745649671, 0.009294333387855468, 0.00927109755438583, 0.009247919810499865, 0.009224800010973616, 0.009201738010946182, 0.009178733665918818, 0.00915578683175402, 0.009132897364674637, 0.009110065121262952, 0.009087289958459794, 0.009064571733563646, 0.009041910304229737, 0.009019305528469163, 0.00899675726464799, 0.008974265371486372, 0.008951829708057656, 0.008929450133787513, 0.008907126508453045, 0.008884858692181913, 0.008862646545451458, 0.008840489929087831, 0.008818388704265111, 0.00879634273250445, 0.00877435187567319, 0.008752415995984007, 0.008730534955994048, 0.008708708618604063, 0.008686936847057554, 0.00866521950493991, 0.00864355645617756, 0.008621947565037116, 0.008600392696124523, 0.008578891714384211, 0.00855744448509825, 0.008536050873885506, 0.008514710746700791, 0.00849342396983404, 0.008472190409909455, 0.008451009933884682, 0.00842988240904997, 0.008408807703027345, 0.008387785683769777, 0.008366816219560353, 0.008345899179011454, 0.008325034431063926, 0.008304221844986267, 0.008283461290373802, 0.008262752637147867, 0.008242095755554998, 0.008221490516166111, 0.008200936789875697, 0.008180434447901008, 0.008159983361781257, 0.008139583403376805, 0.008119234444868364, 0.008098936358756194, 0.008078689017859304, 0.008058492295314657, 0.00803834606457637, 0.00801825019941493, 0.007998204573916394, 0.007978209062481603, 0.0079582635398254, 0.007938367880975837, 0.007918521961273399, 0.007898725656370216, 0.00787897884222929, 0.007859281395123718, 0.007839633191635909, 0.00782003410865682, 0.007800484023385178, 0.0077809828133267155, 0.007761530356293399, 0.0077421265304026664, 0.00772277121407666, 0.0077034642860414684, 0.007684205625326365, 0.007664995111263049, 0.007645832623484892, 0.007626718041926181, 0.007607651246821365, 0.0075886321187043125, 0.007569660538407552, 0.007550736387061534, 0.00753185954609388, 0.007513029897228646, 0.007494247322485575, 0.007475511704179361, 0.007456822924918913, 0.007438180867606617, 0.0074195854154376, 0.007401036451899007, 0.00738253386076926, 0.007364077526117337, 0.0073456673323020446, 0.00732730316397129, 0.007308984906061362, 0.007290712443796209, 0.007272485662686719, 0.007254304448530003, 0.007236168687408678, 0.007218078265690157, 0.007200033070025932, 0.007182032987350867, 0.007164077904882491, 0.007146167710120285, 0.007128302290844985, 0.007110481535117873, 0.007092705331280078, 0.007074973567951878, 0.007057286134031999, 0.007039642918696919, 0.0070220438114001775, 0.007004488701871678, 0.006986977480116999, 0.006969510036416707, 0.006952086261325666, 0.006934706045672352, 0.006917369280558172, 0.006900075857356777, 0.006882825667713386, 0.006865618603544103, 0.006848454557035243, 0.0068313334206426555, 0.006814255087091049, 0.006797219449373322, 0.0067802264007498884, 0.006763275834748014, 0.006746367645161144, 0.006729501726048241, 0.006712677971733121, 0.006695896276803789]\n"
          ]
        },
        {
          "output_type": "execute_result",
          "data": {
            "text/plain": [
              "[<matplotlib.lines.Line2D at 0x7a5cbb3b5010>]"
            ]
          },
          "metadata": {},
          "execution_count": 33
        },
        {
          "output_type": "display_data",
          "data": {
            "text/plain": [
              "<Figure size 640x480 with 1 Axes>"
            ],
            "image/png": "[encoded data removed]"
          },
          "metadata": {}
        }
      ],
      "source": [
        "e = 1\n",
        "epsilons=[]\n",
        "total_episodios = 2000\n",
        "for episodio in range(total_episodios):\n",
        "    e = e * 0.9975\n",
        "    epsilons.append(e)\n",
        "print(e)\n",
        "print(epsilons)\n",
        "plt.plot(epsilons)"
      ]
    },
    {
      "cell_type": "markdown",
      "metadata": {
        "id": "xZ2f3AX16xZn"
      },
      "source": [
        "### Entrenamiento del agente"
      ]
    },
    {
      "cell_type": "code",
      "execution_count": null,
      "metadata": {
        "id": "k_VJrfek62fB"
      },
      "outputs": [],
      "source": [
        "def train_dqn(env, agent, n_episodes=2000, max_t=24, batch_size=64, print_every=100):\n",
        "    \"\"\"\n",
        "    Trains a Deep Q-Learning agent in the given environment.\n",
        "\n",
        "    Args:\n",
        "        env: The microgrid environment (e.g., 'red' object from pymgrid).\n",
        "        agent: The DQNAgent instance.\n",
        "        n_episodes (int): Maximum number of training episodes.\n",
        "        max_t (int): Maximum number of timesteps per episode.\n",
        "        batch_size (int): Size of the mini-batch for learning.\n",
        "        print_every (int): How often to print training progress.\n",
        "    \"\"\"\n",
        "    scores = []\n",
        "    scores_window = deque(maxlen=print_every)\n",
        "\n",
        "    for i_episode in range(1, n_episodes + 1):\n",
        "        env.reset()\n",
        "        # Se obtiene el estado actual\n",
        "        demanda_neta = env.load - env.pv\n",
        "        soc = env.battery.soc\n",
        "        state = normaliza_estado(demanda_neta, soc)\n",
        "\n",
        "        episode_cost = 0 # Inicializamos el costo de cada episodio\n",
        "        for t in range(max_t):\n",
        "\n",
        "            # El agente elige la acción\n",
        "            id_accion = agent.select_act(state)\n",
        "            accion_dic = obten_dicionario_control(id_accion)\n",
        "\n",
        "            # Aplicamos la acción elegida al ambiente\n",
        "            env.run(accion_dic)\n",
        "\n",
        "            # Obtenemos el costo de la acción y el siguiente estado\n",
        "            reward = -env.get_cost()\n",
        "            demanda_neta = env.load - env.pv\n",
        "            soc = env.battery.soc\n",
        "            next_state = normaliza_estado(demanda_neta, soc)\n",
        "\n",
        "            # Guardamos en la memoria el estado, la acción aplicada, la recompensa y el siguiente estado\n",
        "            agent.memory.store_experience(state, id_accion, reward, next_state)\n",
        "\n",
        "            # Entenamos la red neuronal\n",
        "            agent.learn(batch_size)\n",
        "\n",
        "            # Sumamos el costo de esa acción al costo total del episodio\n",
        "            episode_cost -= reward\n",
        "\n",
        "            state = next_state\n",
        "\n",
        "        # Actualizamos el valor de epsilón para el siguiente episodio\n",
        "        if agent.epsilon > agent.epsilon_end:\n",
        "            agent.epsilon *= agent.epsilon_decay_rate\n",
        "\n",
        "        # Imprimimos los costos obtenidos\n",
        "        scores_window.append(episode_cost)\n",
        "        scores.append(episode_cost)\n",
        "\n",
        "        if i_episode % print_every == 0:\n",
        "            print(f'Episode {i_episode}\\tAverage Cost: {np.mean(scores_window):.2f}\\tEpsilon: {agent.epsilon:.3f}')\n",
        "    return scores"
      ]
    },
    {
      "cell_type": "code",
      "execution_count": null,
      "metadata": {
        "colab": {
          "base_uri": "https://localhost:8080/",
          "height": 889
        },
        "id": "Uqo1l2mD5Iri",
        "outputId": "6c99acec-99bb-4ac9-c481-e204699c9483"
      },
      "outputs": [
        {
          "output_type": "stream",
          "name": "stdout",
          "text": [
            "Starting DQN training...\n",
            "Episode 100\tAverage Cost: 27289.84\tEpsilon: 0.779\n",
            "Episode 200\tAverage Cost: 24105.87\tEpsilon: 0.606\n",
            "Episode 300\tAverage Cost: 19397.53\tEpsilon: 0.472\n",
            "Episode 400\tAverage Cost: 15159.35\tEpsilon: 0.367\n",
            "Episode 500\tAverage Cost: 13905.58\tEpsilon: 0.286\n",
            "Episode 600\tAverage Cost: 11307.82\tEpsilon: 0.223\n",
            "Episode 700\tAverage Cost: 10033.17\tEpsilon: 0.173\n",
            "Episode 800\tAverage Cost: 8998.54\tEpsilon: 0.135\n",
            "Episode 900\tAverage Cost: 8229.55\tEpsilon: 0.105\n",
            "Episode 1000\tAverage Cost: 7646.08\tEpsilon: 0.082\n",
            "Episode 1100\tAverage Cost: 7676.55\tEpsilon: 0.064\n",
            "Episode 1200\tAverage Cost: 7028.73\tEpsilon: 0.050\n",
            "Episode 1300\tAverage Cost: 6802.40\tEpsilon: 0.039\n",
            "Episode 1400\tAverage Cost: 6446.17\tEpsilon: 0.030\n",
            "Episode 1500\tAverage Cost: 6499.40\tEpsilon: 0.023\n",
            "Episode 1600\tAverage Cost: 6703.61\tEpsilon: 0.018\n",
            "Episode 1700\tAverage Cost: 6258.79\tEpsilon: 0.014\n",
            "Episode 1800\tAverage Cost: 6037.70\tEpsilon: 0.011\n",
            "Episode 1900\tAverage Cost: 6297.75\tEpsilon: 0.009\n",
            "Episode 2000\tAverage Cost: 6097.94\tEpsilon: 0.007\n",
            "Training finished.\n"
          ]
        },
        {
          "output_type": "display_data",
          "data": {
            "text/plain": [
              "<Figure size 640x480 with 1 Axes>"
            ],
            "image/png": "[encoded data removed]"
          },
          "metadata": {}
        },
        {
          "output_type": "stream",
          "name": "stdout",
          "text": [
            "CPU times: user 1h 26min 8s, sys: 1min 50s, total: 1h 27min 59s\n",
            "Wall time: 1h 31min 57s\n"
          ]
        }
      ],
      "source": [
        "\n",
        "%%time\n",
        "print(\"Starting DQN training...\")\n",
        "episode_costs = train_dqn(env=red, agent=agent,\n",
        "                          n_episodes=2000, # Adjust number of episodes\n",
        "                          batch_size=64,\n",
        "                          print_every=100)\n",
        "\n",
        "print(\"Training finished.\")\n",
        "\n",
        "plt.plot(episode_costs)\n",
        "plt.xlabel('Episode')\n",
        "plt.ylabel('Total Cost per Episode')\n",
        "plt.title('DQN Training Progress')\n",
        "plt.show()"
      ]
    },
    {
      "cell_type": "markdown",
      "source": [
        "# Guardamos los pesos del modelo entrenado"
      ],
      "metadata": {
        "id": "rvdSx4ngxrte"
      }
    },
    {
      "cell_type": "code",
      "source": [
        "# Guardamos los pesos\n",
        "\n",
        "q_network_weights_path = \"/content/drive/MyDrive/Modelos/Política Red Electrica/dqn_q_network_weights.weights.h5\"\n",
        "target_q_network_weights_path = \"/content/drive/MyDrive/Modelos/Política Red Electrica/dqn_target_q_network_weights.weights.h5\"\n",
        "\n",
        "agent.q_network.save_weights(q_network_weights_path)\n",
        "agent.target_q_network.save_weights(target_q_network_weights_path)\n"
      ],
      "metadata": {
        "id": "clBf_94qNGJF"
      },
      "execution_count": 1,
      "outputs": []
    },
    {
      "cell_type": "markdown",
      "source": [
        "En el futuro, podemos crear una instancia nueva del agente donde actualicemos los pesos entrenados para seguir mejorando el modelo o simplemente crear una  red neuronal identica  a q_network con la misma arquitectura  (capas, unidades...) a la que asignar los pesos entrenados para obtener el  valor de cada acción dada cualquier estado."
      ],
      "metadata": {
        "id": "5bsb-iNPIdud"
      }
    },
    {
      "cell_type": "code",
      "source": [
        "\n",
        "# loaded_agent = DQNAgent(state_size=2, action_size=3)\n",
        "\n",
        "# loaded_agent.q_network.load_weights(q_network_weights_path)\n",
        "# loaded_agent.target_q_network.load_weights(target_q_network_weights_path)\n"
      ],
      "metadata": {
        "id": "OdyJ-s99N91l"
      },
      "execution_count": null,
      "outputs": []
    }
  ],
  "metadata": {
    "colab": {
      "provenance": [],
      "collapsed_sections": [
        "pPkdocEK7btG"
      ],
      "toc_visible": true,
      "include_colab_link": true
    },
    "kernelspec": {
      "display_name": "Python 3",
      "name": "python3"
    },
    "language_info": {
      "name": "python"
    }
  },
  "nbformat": 4,
  "nbformat_minor": 0
}