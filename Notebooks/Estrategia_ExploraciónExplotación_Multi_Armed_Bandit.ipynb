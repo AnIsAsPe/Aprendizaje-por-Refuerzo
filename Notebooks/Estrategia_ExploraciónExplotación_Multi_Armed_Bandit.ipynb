{
  "nbformat": 4,
  "nbformat_minor": 0,
  "metadata": {
    "colab": {
      "name": "Estrategia Exploración-Explotación_Multi_Armed_Bandit.ipynb",
      "provenance": [],
      "toc_visible": true,
      "authorship_tag": "ABX9TyOAjuZmehNFSblVHsPbrZvG",
      "include_colab_link": true
    },
    "kernelspec": {
      "name": "python3",
      "display_name": "Python 3"
    },
    "language_info": {
      "name": "python"
    }
  },
  "cells": [
    {
      "cell_type": "markdown",
      "metadata": {
        "id": "view-in-github",
        "colab_type": "text"
      },
      "source": [
        "<a href=\"https://colab.research.google.com/github/AnIsAsPe/Aprendizaje-por-Refuerzo/blob/main/Notebooks/Estrategia_Exploraci%C3%B3nExplotaci%C3%B3n_Multi_Armed_Bandit.ipynb\" target=\"_parent\"><img src=\"https://colab.research.google.com/assets/colab-badge.svg\" alt=\"Open In Colab\"/></a>"
      ]
    },
    {
      "cell_type": "markdown",
      "metadata": {
        "id": "k9ADAbH73rfS"
      },
      "source": [
        "#Bibliotecas y Funciones\n"
      ]
    },
    {
      "cell_type": "code",
      "metadata": {
        "id": "TJ0Ts9FIHEmu"
      },
      "source": [
        "import numpy as np\n",
        "import matplotlib.pyplot as plt"
      ],
      "execution_count": 1,
      "outputs": []
    },
    {
      "cell_type": "code",
      "metadata": {
        "id": "wTvgN0tvHi3A"
      },
      "source": [
        "def entorno_multi_armed_bandit(maquinas):\n",
        "    '''\n",
        "    Creamos el entorno para el problema \"multi_armed_bandit\" generando aleatoriamente\n",
        "    la distribución de probabilidad de los premios que otorga cada máquina\n",
        "    '''\n",
        "    premio_medio = np.random.uniform(-10, 5, size=maquinas)\n",
        "    desv_estandar = np.random.uniform(0, 5, size=maquinas)\n",
        "    return premio_medio, desv_estandar"
      ],
      "execution_count": 2,
      "outputs": []
    },
    {
      "cell_type": "code",
      "metadata": {
        "id": "srAAbKjhKM_E"
      },
      "source": [
        "def init_Q(maquinas):\n",
        "  '''Inicializa el vector Q en ceros, el vector Q representa el valor esperado\n",
        "   de recompensa de cada máquina'''\n",
        "  Q =np.zeros(shape=(1, maquinas))\n",
        "  return Q"
      ],
      "execution_count": 3,
      "outputs": []
    },
    {
      "cell_type": "code",
      "metadata": {
        "id": "N2yLnkZKLUlp"
      },
      "source": [
        "def selecciona_maquina_exploracion(maquinas):\n",
        "    '''Selecciona una máquina aleatoriamente con distribución unifome'''\n",
        "    selec = np.random.choice(range(maquinas))\n",
        "    return selec"
      ],
      "execution_count": 4,
      "outputs": []
    },
    {
      "cell_type": "code",
      "source": [
        "def selecciona_maquina_epsilon_constante (maquinas,  ε):\n",
        "    '''Selecciona la máquina con el máximo valor de la ganancia esperada'''\n",
        "    p = np.random.uniform(0,1)\n",
        "\n",
        "    if p < (1 - ε):\n",
        "        selec = np.argmax(Q[0])\n",
        "        return selec\n",
        "\n",
        "\n",
        "    else:\n",
        "        selec = np.random.choice(range(maquinas))\n",
        "        return selec\n",
        "    return selec"
      ],
      "metadata": {
        "id": "gjjSB5uLS4RW"
      },
      "execution_count": 77,
      "outputs": []
    },
    {
      "cell_type": "code",
      "metadata": {
        "id": "Y9atc3BHgU2d"
      },
      "source": [
        "def selecciona_maquina_egd(maquinas, ε):\n",
        "    '''Selecciona una máquina con la estrategia epsilon decreasing greedy'''\n",
        "    p = np.random.uniform(0,1)\n",
        "\n",
        "    # cuándo epsilon es pequeño, generalmente se escoge la máquina con mayor ganancia\n",
        "    if p < (1 - ε):\n",
        "        selec = np.argmax(Q[0])\n",
        "        return selec\n",
        "\n",
        "    # cuando epsilon es grande, generalmente se escoge una al azar\n",
        "    else:\n",
        "        selec = np.random.choice(range(maquinas))\n",
        "        return selec"
      ],
      "execution_count": 6,
      "outputs": []
    },
    {
      "cell_type": "code",
      "metadata": {
        "id": "HUv7oB7VId1t"
      },
      "source": [
        "def calcula_recompensa(selec):\n",
        "  '''Calcula la recompensa de jugar en una determinada máquina'''\n",
        "  r = int(np.random.normal(premio_medio[selec], desv_estandar[selec], 1)[0])\n",
        "  return r"
      ],
      "execution_count": 7,
      "outputs": []
    },
    {
      "cell_type": "code",
      "metadata": {
        "id": "QHfwiInqOkBX"
      },
      "source": [
        "def actualiza_Q (Q, selec, r, veces_maq):\n",
        "    '''Actualiza el valor esperados de recompensa de la máquina seleccionada'''\n",
        "    Q[0, selec] = Q[0, selec] + 1/(veces_maq[selec])*(r - Q[0, selec])\n",
        "    return Q"
      ],
      "execution_count": 8,
      "outputs": []
    },
    {
      "cell_type": "markdown",
      "metadata": {
        "id": "VzVeNtKjpHrT"
      },
      "source": [
        "# Introducción"
      ]
    },
    {
      "cell_type": "markdown",
      "metadata": {
        "id": "TKA6ZoIgr9wq"
      },
      "source": [
        "## Definimos nuestro entorno"
      ]
    },
    {
      "cell_type": "code",
      "metadata": {
        "id": "8FJ8WPRopBiH"
      },
      "source": [
        "### Creamos el entorno definiendo el comportamiento de cada máquina\n",
        "\n",
        "premio_medio  = np.array([1,  2,  3, -10])\n",
        "desv_estandar = np.array([1,  4,   5,  1])"
      ],
      "execution_count": 9,
      "outputs": []
    },
    {
      "cell_type": "code",
      "source": [
        "maquina = 3\n",
        "n = 10000\n",
        "#  r es el premio aleatorio que va a dar una máquina (dada su distribución)\n",
        "r = np.random.normal(premio_medio[maquina], desv_estandar[maquina],n)\n",
        "plt.hist(r, bins=30, density=True)\n",
        "plt.show()\n",
        "print('\\nLa máquina arrojo durante los primeras 10 jugadas los siguientes premios: \\n')\n",
        "print (r[0:10])"
      ],
      "metadata": {
        "id": "JEnrsD3ZyZI0",
        "outputId": "170ca372-70fe-41d5-a7ec-70b78daf789c",
        "colab": {
          "base_uri": "https://localhost:8080/",
          "height": 517
        }
      },
      "execution_count": 13,
      "outputs": [
        {
          "output_type": "display_data",
          "data": {
            "text/plain": [
              "<Figure size 640x480 with 1 Axes>"
            ],
            "image/png": "[encoded data removed]"
          },
          "metadata": {}
        },
        {
          "output_type": "stream",
          "name": "stdout",
          "text": [
            "\n",
            "La máquina arrojo durante los primeras 10 jugadas los siguientes premios: \n",
            "\n",
            "[-10.21390854  -7.8109973   -9.461859    -9.01926291  -9.64955567\n",
            " -10.77186347  -9.67361562 -10.70821389  -8.65419136 -10.43476843]\n"
          ]
        }
      ]
    },
    {
      "cell_type": "markdown",
      "source": [
        "## ¿Que hace un jugador en el casino?"
      ],
      "metadata": {
        "id": "b-FpFTSl1UF0"
      }
    },
    {
      "cell_type": "markdown",
      "metadata": {
        "id": "djXUF3Prrubk"
      },
      "source": [
        "* inicializamos en cero la variable que guardará los premios o perdidas acumuladas"
      ]
    },
    {
      "cell_type": "code",
      "metadata": {
        "id": "A5Zlrmeum_3q"
      },
      "source": [
        "premio_acumulado = 0"
      ],
      "execution_count": 21,
      "outputs": []
    },
    {
      "cell_type": "markdown",
      "metadata": {
        "id": "nMOjxNywtLLw"
      },
      "source": [
        "* seleccionamos una de las maquinas,\n",
        "* jugamos en ella y obtenemos la recompensa (o pérdida)\n",
        "* se suma la recompensa o perdida al total acumulado"
      ]
    },
    {
      "cell_type": "code",
      "metadata": {
        "colab": {
          "base_uri": "https://localhost:8080/"
        },
        "id": "dGjez-pgtLLz",
        "outputId": "e6f98a5b-8906-46f6-9940-57cdde59a741"
      },
      "source": [
        "# 1) Se selecciona una máquina.\n",
        "selec = 2\n",
        "\n",
        "# 2) Jugamos en la máquina seleccionada y se obtiene una recompensa o pérdida.\n",
        "r = int(np.random.normal(premio_medio[selec], desv_estandar[selec], 1)[0])\n",
        "\n",
        "# 3) Se suma al premio acumulado.\n",
        "premio_acumulado += r\n",
        "print('recompensa (r):', r)\n",
        "print('Premio acumulado:', premio_acumulado)"
      ],
      "execution_count": 25,
      "outputs": [
        {
          "output_type": "stream",
          "name": "stdout",
          "text": [
            "recompensa (r): 0\n",
            "Premio acumulado: 4\n"
          ]
        }
      ]
    },
    {
      "cell_type": "markdown",
      "metadata": {
        "id": "3fOSdzrXvkOE"
      },
      "source": [
        "##  ¿Cómo guardamos la información de los premios obtenidos de cada máquina?"
      ]
    },
    {
      "cell_type": "markdown",
      "source": [
        "<center>Promedio Incremental\n",
        "\n",
        "$$Q =  Q_{n-1}+\\frac{1}{n} (r_n - Q_{n-1})$$"
      ],
      "metadata": {
        "id": "HVASmSMgzEe8"
      }
    },
    {
      "cell_type": "code",
      "metadata": {
        "colab": {
          "base_uri": "https://localhost:8080/"
        },
        "id": "dnPBUn3qnYn2",
        "outputId": "21b4cb07-5eb3-492b-a204-9ba689831171"
      },
      "source": [
        "# Inicializa el vector Q en ceros, donde guardaremos la información de cada máquina.\n",
        "n_maquinas = 4\n",
        "Q = np.zeros(shape=(1, n_maquinas))\n",
        "Q"
      ],
      "execution_count": 35,
      "outputs": [
        {
          "output_type": "execute_result",
          "data": {
            "text/plain": [
              "array([[0., 0., 0., 0.]])"
            ]
          },
          "metadata": {},
          "execution_count": 35
        }
      ]
    },
    {
      "cell_type": "code",
      "metadata": {
        "colab": {
          "base_uri": "https://localhost:8080/"
        },
        "outputId": "295157e1-695d-4853-8e30-4989965717aa",
        "id": "PCwiS-nR0_7D"
      },
      "source": [
        "# Vamos a jugar cierto número de veces (episodios).\n",
        "episodios = 20\n",
        "n_maquinas = 4\n",
        "\n",
        "# Inicializamos el vector Q y la variable \"premio acumulado\".\n",
        "Q = np.zeros(shape =(1, n_maquinas))\n",
        "premio_acumulado = 0\n",
        "\n",
        "# Inicializamos un vector que guardará las veces que se va jugando en cada máquina.\n",
        "\n",
        "veces_maq = np.zeros(n_maquinas)\n",
        "\n",
        "# Creamos un ciclo de juego y aprendizaje.\n",
        "for ep in range(1, episodios+1):\n",
        "      # 1) Se selecciona una máquina, de manera aleatoria, distribución uniforme.\n",
        "      selec = np.random.choice([0, 1, 2, 3])\n",
        "\n",
        "      # 2) Jugamos en la máquina seleccionada y se obtiene una recompensa o pérdida\n",
        "      r = int(np.random.normal(premio_medio[selec], desv_estandar[selec], 1)[0])\n",
        "\n",
        "      # 3) Se suma la recompensa o pérdida obtenida al premio acumulado\n",
        "      premio_acumulado += r\n",
        "\n",
        "      # 5) Actualizamos la información con el premio o castigo obtenido en la máquina seleccionada\n",
        "      veces_maq[selec] += 1 # Actualizamos las veces que se ha jugado en la máquina seleccionada\n",
        "      Q[0, selec] = Q[0, selec] + 1/(veces_maq[selec])*(r - Q[0, selec])\n",
        "\n",
        "#       # 6) Reportamos el progreso del aprendizaje.\n",
        "#       print(f'Episodio {ep},   Máquina {selec},   Premio = {r},   \\\n",
        "# Premio_acumulado = {premio_acumulado},    Q = {Q.round(2)} \\n')\n",
        "\n",
        "print(f'Premio_acumulado = {premio_acumulado},   Q = {Q.round(2)}')"
      ],
      "execution_count": 36,
      "outputs": [
        {
          "output_type": "stream",
          "name": "stdout",
          "text": [
            "Premio_acumulado = 8,   Q = [[  1.     1.86   2.   -10.5 ]]\n"
          ]
        }
      ]
    },
    {
      "cell_type": "markdown",
      "metadata": {
        "id": "mVXPXUUw38V5"
      },
      "source": [
        "¿Sería correcto si, en lugar de escojer la máquina de forma aleatoria, escojemos la que más rendimientos ha dado?"
      ]
    },
    {
      "cell_type": "code",
      "metadata": {
        "colab": {
          "base_uri": "https://localhost:8080/"
        },
        "id": "ulLG8yCP0xLy",
        "outputId": "3097b79c-3c99-4303-dd48-b165e71b09dd"
      },
      "source": [
        "selec = np.argmax(Q[0])  # Selección usando la estrategia de explotación.\n",
        "selec"
      ],
      "execution_count": 32,
      "outputs": [
        {
          "output_type": "execute_result",
          "data": {
            "text/plain": [
              "np.int64(2)"
            ]
          },
          "metadata": {},
          "execution_count": 32
        }
      ]
    },
    {
      "cell_type": "markdown",
      "metadata": {
        "id": "xX6_4S3c8JWN"
      },
      "source": [
        "¿Podemos pensar en una estrategia combinada?"
      ]
    },
    {
      "cell_type": "code",
      "metadata": {
        "id": "2R-1PKtw8lMb",
        "colab": {
          "base_uri": "https://localhost:8080/"
        },
        "outputId": "8ba62eee-c7fa-4c96-b25d-b48a79af3f24"
      },
      "source": [
        "p = np.random.uniform(0, 1)  # Obtenemos un valor entre 0 y 1.\n",
        "ε = .95 # Valor que disminuye desde 1 hasta 0 según avance el aprendizaje.\n",
        "\n",
        "print(f'p = {p}, ε = {ε}')\n",
        "print(f'¿Es p menor que 1 - ε?  {p < (1 - ε)}')\n",
        "if p < (1 - ε):\n",
        "    print('Explotación')\n",
        "    selec = np.argmax(Q[0])\n",
        "else:\n",
        "    # Exploración\n",
        "    print('Exploración')\n",
        "    selec = np.random.choice(range(n_maquinas))\n",
        "print(f'Máquina seleccionada: {selec}')"
      ],
      "execution_count": 47,
      "outputs": [
        {
          "output_type": "stream",
          "name": "stdout",
          "text": [
            "p = 0.8106652461577674, ε = 0.95\n",
            "¿Es p menor que 1 - ε?  False\n",
            "Exploración\n",
            "Máquina seleccionada: 3\n"
          ]
        }
      ]
    },
    {
      "cell_type": "code",
      "metadata": {
        "colab": {
          "base_uri": "https://localhost:8080/"
        },
        "outputId": "c3df0640-8823-4391-ebb7-4425de2fdfb4",
        "id": "BlE8aewIB4mS"
      },
      "source": [
        "p = np.random.uniform(0, 1)  # Obtenemos un valor entre 0 y 1.\n",
        "ε = 0.5 # Valor que disminuye desde 1 hasta 0 según avance el aprendizaje.\n",
        "\n",
        "print(f'p = {p}, ε = {ε}')\n",
        "print(f'¿Es p menor que 1 - ε?  {p < (1 - ε)}')\n",
        "if p < (1 - ε):\n",
        "    print('Explotación')\n",
        "    selec = np.argmax(Q[0])\n",
        "else:\n",
        "    # Exploración\n",
        "    print('Exploración')\n",
        "    selec = np.random.choice(range(n_maquinas))\n",
        "print(f'Máquina seleccionada: {selec}')"
      ],
      "execution_count": 73,
      "outputs": [
        {
          "output_type": "stream",
          "name": "stdout",
          "text": [
            "p = 0.0523848781899392, ε = 0.5\n",
            "¿Es p menor que 1 - ε?  True\n",
            "Explotación\n",
            "Máquina seleccionada: 2\n"
          ]
        }
      ]
    },
    {
      "cell_type": "markdown",
      "metadata": {
        "id": "Gmve4Vj7CJAf"
      },
      "source": [
        "Para cada episodio ε decaira a una taza de 0.995 a una taza de 0.\n"
      ]
    },
    {
      "cell_type": "code",
      "source": [
        "e = 1\n",
        "epsilon_decay_rate=0.9925\n",
        "\n",
        "epsilons=[]\n",
        "episodios = 1000\n",
        "for episodio in range(episodios):\n",
        "    e =  e * epsilon_decay_rate\n",
        "    epsilons.append(e)\n",
        "print(e)\n",
        "plt.plot(epsilons)"
      ],
      "metadata": {
        "colab": {
          "base_uri": "https://localhost:8080/",
          "height": 465
        },
        "id": "68-2G5DsRGl8",
        "outputId": "db36c08b-baee-483f-995c-c7f83997e49f"
      },
      "execution_count": 124,
      "outputs": [
        {
          "output_type": "stream",
          "name": "stdout",
          "text": [
            "0.0005376695419628022\n"
          ]
        },
        {
          "output_type": "execute_result",
          "data": {
            "text/plain": [
              "[<matplotlib.lines.Line2D at 0x7a8c0448f950>]"
            ]
          },
          "metadata": {},
          "execution_count": 124
        },
        {
          "output_type": "display_data",
          "data": {
            "text/plain": [
              "<Figure size 640x480 with 1 Axes>"
            ],
            "image/png": "[encoded data removed]"
          },
          "metadata": {}
        }
      ]
    },
    {
      "cell_type": "markdown",
      "metadata": {
        "id": "lHGYfGfVtZhW"
      },
      "source": [
        "# Aprendizaje con distintas estrategias"
      ]
    },
    {
      "cell_type": "code",
      "metadata": {
        "id": "0QF9KYgctZ9P"
      },
      "source": [
        "# ### Definimos el número de máquinas o brazos del problema\n",
        "# n_maquinas = 3\n",
        "\n",
        "# ### Creamos el entorno\n",
        "# np.random.seed(28)\n",
        "# premio_medio, desv_estandar = entorno_multi_armed_bandit(n_maquinas)  # inicializa la distribución de probabilidad de cada máquina\n",
        "### Definimos el número de episodios (juegos)\n",
        "episodios = 1000"
      ],
      "execution_count": 74,
      "outputs": []
    },
    {
      "cell_type": "markdown",
      "metadata": {
        "id": "SBOk8P63f7Hn"
      },
      "source": [
        "## Exploración"
      ]
    },
    {
      "cell_type": "code",
      "metadata": {
        "id": "XGdvub9qSwmJ",
        "colab": {
          "base_uri": "https://localhost:8080/"
        },
        "outputId": "de9b07cd-06c9-4c16-b74e-bdb46d4fc68c"
      },
      "source": [
        "# Inicializamos el vector Q, la variable \"premio acumulado\" y el vector veces_maq.\n",
        "Q = init_Q(n_maquinas)\n",
        "premio_acumulado = 0\n",
        "veces_maq = np.zeros(n_maquinas)\n",
        "\n",
        "# Creamos un ciclo de juego y aprendizaje con estrategia de exploración.\n",
        "for episodio in range(1,episodios+1):\n",
        "    selec = selecciona_maquina_exploracion(n_maquinas)\n",
        "    veces_maq[selec] += 1\n",
        "    r = calcula_recompensa(selec)\n",
        "    Q = actualiza_Q(Q, selec, r, veces_maq)\n",
        "    premio_acumulado += r\n",
        "\n",
        "print(f\"El premio acumulado es de: ${premio_acumulado:,.2f}\".replace('$-', '-$'))"
      ],
      "execution_count": 105,
      "outputs": [
        {
          "output_type": "stream",
          "name": "stdout",
          "text": [
            "El premio acumulado es de: -$1,154.00\n"
          ]
        }
      ]
    },
    {
      "cell_type": "code",
      "source": [
        "Q"
      ],
      "metadata": {
        "id": "5UnvLZXG82uj",
        "outputId": "d80469a7-7f33-4821-ac1b-87268e53a5ee",
        "colab": {
          "base_uri": "https://localhost:8080/"
        }
      },
      "execution_count": 76,
      "outputs": [
        {
          "output_type": "execute_result",
          "data": {
            "text/plain": [
              "array([[ 0.65328467,  1.40080972,  2.528     , -9.44104803]])"
            ]
          },
          "metadata": {},
          "execution_count": 76
        }
      ]
    },
    {
      "cell_type": "markdown",
      "metadata": {
        "id": "OIDUtGQYnZCL"
      },
      "source": [
        "## Epsilon constante"
      ]
    },
    {
      "cell_type": "code",
      "metadata": {
        "id": "SMTfsHDUnfH4",
        "colab": {
          "base_uri": "https://localhost:8080/"
        },
        "outputId": "81ed2d95-2422-40f0-d067-790b40cfed4b"
      },
      "source": [
        "# Inicializamos el vector Q, la variable \"premio acumulado\" y el vector veces_maq.\n",
        "epsilon = 0.5\n",
        "Q = init_Q(n_maquinas, )\n",
        "premio_acumulado = 0\n",
        "veces_maq = np.zeros(n_maquinas)\n",
        "\n",
        "for episodio in range(episodios+1):\n",
        "    selec = selecciona_maquina_epsilon_constante(n_maquinas, epsilon )\n",
        "    r = calcula_recompensa(selec)\n",
        "    premio_acumulado += r\n",
        "    veces_maq[selec] += 1\n",
        "    Q = actualiza_Q(Q, selec, r, veces_maq)\n",
        "\n",
        "print(f\"El premio acumulado es de: ${premio_acumulado:,.2f}\".replace('$-', '-$'))"
      ],
      "execution_count": 115,
      "outputs": [
        {
          "output_type": "stream",
          "name": "stdout",
          "text": [
            "El premio acumulado es de: $1,035.00\n"
          ]
        }
      ]
    },
    {
      "cell_type": "code",
      "source": [
        "Q"
      ],
      "metadata": {
        "id": "vTw3zB6e8xwd",
        "outputId": "8e34edf3-eb4e-40bd-f77b-5acd4c0fb5be",
        "colab": {
          "base_uri": "https://localhost:8080/"
        }
      },
      "execution_count": 79,
      "outputs": [
        {
          "output_type": "execute_result",
          "data": {
            "text/plain": [
              "array([[ 0.66935484,  1.53164557,  2.59960938, -9.5234375 ]])"
            ]
          },
          "metadata": {},
          "execution_count": 79
        }
      ]
    },
    {
      "cell_type": "markdown",
      "metadata": {
        "id": "7gXk8RpAf_S5"
      },
      "source": [
        "## Epsilon decreasing greedy (edg)"
      ]
    },
    {
      "cell_type": "code",
      "metadata": {
        "id": "Wwluzms4f_S7",
        "colab": {
          "base_uri": "https://localhost:8080/"
        },
        "outputId": "591d5e1c-2fa0-4b12-8907-e3859e151b14"
      },
      "source": [
        "# Inicializamos el vector Q, la variable \"premio acumulado\" y el vector veces_maq.\n",
        "Q = init_Q(n_maquinas)\n",
        "premio_acumulado = 0\n",
        "veces_maq = np.zeros(n_maquinas)\n",
        "epsilon_decay_rate = 0.9925\n",
        "ε = 1\n",
        "\n",
        "# Creamos un ciclo de juego y aprendizaje con estrategia edg\n",
        "for episodio in range(1 ,episodios+1):\n",
        "    ε =  ε * epsilon_decay_rate\n",
        "    selec = selecciona_maquina_egd(n_maquinas, ε)\n",
        "    r = calcula_recompensa(selec)\n",
        "    premio_acumulado += r\n",
        "    veces_maq[selec] += 1\n",
        "    Q = actualiza_Q(Q, selec, r, veces_maq)\n",
        "\n",
        "print(f\"El premio acumulado es de: ${premio_acumulado:,.2f}\".replace('$-', '-$'))"
      ],
      "execution_count": 145,
      "outputs": [
        {
          "output_type": "stream",
          "name": "stdout",
          "text": [
            "El premio acumulado es de: $2,280.00\n"
          ]
        }
      ]
    },
    {
      "cell_type": "code",
      "source": [
        "Q"
      ],
      "metadata": {
        "id": "bkgKQA26TcUE",
        "outputId": "c2c78213-f824-45b6-8879-ec1a1e9b73c1",
        "colab": {
          "base_uri": "https://localhost:8080/"
        }
      },
      "execution_count": 146,
      "outputs": [
        {
          "output_type": "execute_result",
          "data": {
            "text/plain": [
              "array([[ 0.55      ,  1.71153846,  2.75141884, -9.44444444]])"
            ]
          },
          "metadata": {},
          "execution_count": 146
        }
      ]
    },
    {
      "cell_type": "markdown",
      "metadata": {
        "id": "U9EM0mu3mB99"
      },
      "source": [
        "# Referencias:\n",
        "\n",
        "[1]A. Aristizabal, «Understanding Reinforcement Learning Hands-On: Multi-Armed Bandits», Medium, oct. 19, 2020. https://towardsdatascience.com/understanding-reinforcement-learning-hands-on-part-2-multi-armed-bandits-526592072bdc (accedido jul. 30, 2021).\n",
        "\n"
      ]
    }
  ]
}