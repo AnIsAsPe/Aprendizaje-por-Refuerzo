{
  "nbformat": 4,
  "nbformat_minor": 0,
  "metadata": {
    "colab": {
      "name": "Estrategia Exploración-Explotación_Multi_Armed_Bandit.ipynb",
      "provenance": [],
      "toc_visible": true,
      "authorship_tag": "ABX9TyNIFnmaaAzFlIkEgWNizfpH",
      "include_colab_link": true
    },
    "kernelspec": {
      "name": "python3",
      "display_name": "Python 3"
    },
    "language_info": {
      "name": "python"
    }
  },
  "cells": [
    {
      "cell_type": "markdown",
      "metadata": {
        "id": "view-in-github",
        "colab_type": "text"
      },
      "source": [
        "<a href=\"https://colab.research.google.com/github/AnIsAsPe/Aprendizaje-por-Refuerzo/blob/main/Notebooks/Estrategia_Exploraci%C3%B3nExplotaci%C3%B3n_Multi_Armed_Bandit.ipynb\" target=\"_parent\"><img src=\"https://colab.research.google.com/assets/colab-badge.svg\" alt=\"Open In Colab\"/></a>"
      ]
    },
    {
      "cell_type": "markdown",
      "metadata": {
        "id": "k9ADAbH73rfS"
      },
      "source": [
        "#Bibliotecas y Funciones\n"
      ]
    },
    {
      "cell_type": "code",
      "metadata": {
        "id": "TJ0Ts9FIHEmu"
      },
      "source": [
        "import numpy as np\n",
        "import matplotlib.pyplot as plt"
      ],
      "execution_count": 1,
      "outputs": []
    },
    {
      "cell_type": "code",
      "metadata": {
        "id": "wTvgN0tvHi3A"
      },
      "source": [
        "def entorno_multi_armed_bandit(maquinas):\n",
        "    '''\n",
        "    Creamos el entorno para el problema \"multi_armed_bandit\" generando aleatoriamente\n",
        "    la distribución de probabilidad de los premios que otorga cada máquina\n",
        "    '''\n",
        "    premio_medio = np.random.uniform(-10, 5, size=maquinas)\n",
        "    desv_estandar = np.random.uniform(0, 5, size=maquinas)\n",
        "    return premio_medio, desv_estandar"
      ],
      "execution_count": 2,
      "outputs": []
    },
    {
      "cell_type": "code",
      "metadata": {
        "id": "srAAbKjhKM_E"
      },
      "source": [
        "def init_Q(maquinas):\n",
        "  '''Inicializa el vector Q en ceros, el vector Q representa el valor esperado\n",
        "   de recompensa de cada máquina'''\n",
        "  Q =np.zeros(shape =(1, maquinas))\n",
        "  return Q"
      ],
      "execution_count": 3,
      "outputs": []
    },
    {
      "cell_type": "code",
      "metadata": {
        "id": "N2yLnkZKLUlp"
      },
      "source": [
        "def selecciona_maquina(maquinas):\n",
        "    '''selecciona una máquina aleatoriamente con distribución unifome'''\n",
        "    selec = np.random.choice(range(maquinas))\n",
        "    return selec"
      ],
      "execution_count": 4,
      "outputs": []
    },
    {
      "cell_type": "code",
      "metadata": {
        "id": "QoF4BrM1gfA-"
      },
      "source": [
        "def selecciona_maquina_expl(maquinas):\n",
        "    '''selecciona la maquina con el maximo valor de la ganancia esperada'''\n",
        "    selec = np.argmax(Q[0])\n",
        "    return selec"
      ],
      "execution_count": 5,
      "outputs": []
    },
    {
      "cell_type": "code",
      "metadata": {
        "id": "Y9atc3BHgU2d"
      },
      "source": [
        "def selecciona_maquina_egd(maquinas, ε):\n",
        "    '''selecciona una con la estrategia epsilon decreasing greedy'''\n",
        "    p = np.random.uniform(0,1)\n",
        "\n",
        "    # cuándo epsilon es pequeño, generalmente se escoge la maquina con mayor ganancia\n",
        "    if p < (1 - ε):\n",
        "        selec = np.argmax(Q[0])\n",
        "        return selec\n",
        "\n",
        "    # cuando epsilon es grande, generalmente se escoge una al azar\n",
        "    else:\n",
        "        selec = np.random.choice(range(maquinas))\n",
        "        return selec"
      ],
      "execution_count": 6,
      "outputs": []
    },
    {
      "cell_type": "code",
      "metadata": {
        "id": "HUv7oB7VId1t"
      },
      "source": [
        "def calcula_recompensa(selec):\n",
        "  '''calcula la recompensa de jugar en una determinada máquina'''\n",
        "  r = int(np.random.normal(premio_medio[selec], desv_estandar[selec], 1)[0])\n",
        "  return r"
      ],
      "execution_count": 49,
      "outputs": []
    },
    {
      "cell_type": "code",
      "metadata": {
        "id": "QHfwiInqOkBX"
      },
      "source": [
        "def actualiza_Q (Q, selec, r, veces_maq):\n",
        "    '''actualiza el valor esperados de recompensa de la máquina seleccionada'''\n",
        "    Q[0, selec] = Q[0, selec] + 1/(veces_maq[selec])*(r - Q[0, selec])\n",
        "    return Q"
      ],
      "execution_count": 8,
      "outputs": []
    },
    {
      "cell_type": "markdown",
      "metadata": {
        "id": "VzVeNtKjpHrT"
      },
      "source": [
        "# Introducción"
      ]
    },
    {
      "cell_type": "markdown",
      "metadata": {
        "id": "TKA6ZoIgr9wq"
      },
      "source": [
        "## Definimos nuestro entorno"
      ]
    },
    {
      "cell_type": "code",
      "metadata": {
        "id": "8FJ8WPRopBiH"
      },
      "source": [
        "### Creamos el entorno definiendo el comportamiento de cada máquina\n",
        "\n",
        "premio_medio  = np.array([1,  2,  3, -10])\n",
        "desv_estandar = np.array([1, 4, 5,  1])"
      ],
      "execution_count": 9,
      "outputs": []
    },
    {
      "cell_type": "code",
      "source": [
        "maquina = 1\n",
        "\n",
        "#  r es el premio aleatorio que va a dar una máquina (dada su distribución)\n",
        "r = np.random.normal(premio_medio[maquina], desv_estandar[maquina],10000)\n",
        "plt.hist( r, bins=30,  density=True)\n",
        "plt.show()\n",
        "print('\\nLa máquina arrojo durante los primeras 10 jugadas los siguientes premios: \\n')\n",
        "print (r[0:10])"
      ],
      "metadata": {
        "id": "JEnrsD3ZyZI0",
        "outputId": "4dc801c9-8cd3-4da2-c8f1-a026910946ec",
        "colab": {
          "base_uri": "https://localhost:8080/",
          "height": 517
        }
      },
      "execution_count": 10,
      "outputs": [
        {
          "output_type": "display_data",
          "data": {
            "text/plain": [
              "<Figure size 640x480 with 1 Axes>"
            ],
            "image/png": "[encoded data removed]"
          },
          "metadata": {}
        },
        {
          "output_type": "stream",
          "name": "stdout",
          "text": [
            "\n",
            "La máquina arrojo durante los primeras 10 jugadas los siguientes premios: \n",
            "\n",
            "[-1.54120401  9.22020142 -0.1475077   6.42812939  4.23488261  0.5582569\n",
            "  9.19168533  1.83801637  1.51729701  2.42089465]\n"
          ]
        }
      ]
    },
    {
      "cell_type": "markdown",
      "source": [
        "## ¿Que hace un jugador en el casino?"
      ],
      "metadata": {
        "id": "b-FpFTSl1UF0"
      }
    },
    {
      "cell_type": "markdown",
      "metadata": {
        "id": "djXUF3Prrubk"
      },
      "source": [
        "* inicializamos en cero la variable que guardará los premios o perdidas acumuladas"
      ]
    },
    {
      "cell_type": "code",
      "metadata": {
        "id": "A5Zlrmeum_3q"
      },
      "source": [
        "premio_acumulado = 0"
      ],
      "execution_count": 22,
      "outputs": []
    },
    {
      "cell_type": "markdown",
      "metadata": {
        "id": "nMOjxNywtLLw"
      },
      "source": [
        "* seleccionamos una de las maquinas,\n",
        "* jugamos en ella y obtenemos la recompensa (o pérdida)\n",
        "* se suma la recompensa o perdida al total acumulado"
      ]
    },
    {
      "cell_type": "code",
      "metadata": {
        "colab": {
          "base_uri": "https://localhost:8080/"
        },
        "id": "dGjez-pgtLLz",
        "outputId": "6286c8a3-799e-481b-f69b-79add46fbf0c"
      },
      "source": [
        "# 1) se selecciona una máquina\n",
        "selec = 1\n",
        "\n",
        "# 2) jugamos en la máquina seleccionada y  se obtiene una recompensa o pérdida\n",
        "r = int(np.random.normal(premio_medio[selec], desv_estandar[selec], 1)[0])\n",
        "\n",
        "# 3) se suma al premio acumulado\n",
        "premio_acumulado += r\n",
        "print('recompensa (r):', r)\n",
        "print('Premio acumulado:', premio_acumulado)"
      ],
      "execution_count": 23,
      "outputs": [
        {
          "output_type": "stream",
          "name": "stdout",
          "text": [
            "recompensa (r): -7\n",
            "Premio acumulado: -7\n"
          ]
        }
      ]
    },
    {
      "cell_type": "markdown",
      "metadata": {
        "id": "3fOSdzrXvkOE"
      },
      "source": [
        "##  ¿Cómo guardamos la información de los premios obtenidos de cada máquina?"
      ]
    },
    {
      "cell_type": "markdown",
      "source": [
        "Promedio Incremental\n",
        "\n",
        "$Q =  Q_{n-1}+\\frac{1}{n} (r_n - Q_{n-1})$"
      ],
      "metadata": {
        "id": "HVASmSMgzEe8"
      }
    },
    {
      "cell_type": "code",
      "metadata": {
        "colab": {
          "base_uri": "https://localhost:8080/"
        },
        "id": "dnPBUn3qnYn2",
        "outputId": "988c3cf6-71f2-4f3c-8ba7-59a2a1380e16"
      },
      "source": [
        "# Inicializa el vector Q en ceros, donde guardaremos la información\n",
        "n_maquinas = 4\n",
        "Q = np.zeros(shape =(1, n_maquinas))\n",
        "Q"
      ],
      "execution_count": 24,
      "outputs": [
        {
          "output_type": "execute_result",
          "data": {
            "text/plain": [
              "array([[0., 0., 0., 0.]])"
            ]
          },
          "metadata": {},
          "execution_count": 24
        }
      ]
    },
    {
      "cell_type": "code",
      "metadata": {
        "colab": {
          "base_uri": "https://localhost:8080/"
        },
        "outputId": "d85819dc-f4e3-4012-c2d3-7efe2347bb6e",
        "id": "PCwiS-nR0_7D"
      },
      "source": [
        "# Vamos a jugar cierto número de veces (episodios)\n",
        "episodios = 10\n",
        "n_maquinas = 4\n",
        "Q =np.zeros(shape =(1, n_maquinas))\n",
        "premio_acumulado = 0\n",
        "\n",
        "veces_maq = np.zeros(n_maquinas)      # guardaremos las veces que se va jugando en cada máquina\n",
        "\n",
        "\n",
        "for ep in range(1, episodios+1):\n",
        "      # 1) se selecciona una máquina\n",
        "      selec = np.random.choice([0,1,2,3]) # selección aleatoria -> exploración\n",
        "      veces_maq[selec] += 1               # actualizamos las veces que se ha jugado x máquina\n",
        "\n",
        "      # 2) jugamos en la máquina seleccionada y  se obtiene una recompensa o pérdida\n",
        "      r = int(np.random.normal(premio_medio[selec], desv_estandar[selec], 1)[0])\n",
        "\n",
        "      # 3) se suma al premio acumulado\n",
        "      premio_acumulado += r\n",
        "\n",
        "      # 4) actualizamos la información con lo que aprendimos de la maquina en la que jugamos\n",
        "\n",
        "      Q[0, selec] = Q[0, selec] + 1/(veces_maq[selec])*(r - Q[0, selec])   # Promedio incremental\n",
        "\n",
        "      # 5) reportamos el progreso del aprendizaje\n",
        "      print('Episodio_{}, Máquina {}, Premio = {}, Premio_acumulado = {}, Q:{} \\n'.format(ep,\n",
        "                                                                                     selec,\n",
        "                                                                                     r,\n",
        "                                                                                     premio_acumulado,\n",
        "                                                                                     Q.round(2)))\n",
        "print(f'premio_acumulado = {premio_acumulado}')\n",
        "print(f'Q = {Q}')"
      ],
      "execution_count": 38,
      "outputs": [
        {
          "output_type": "stream",
          "name": "stdout",
          "text": [
            "Episodio_1, Máquina 2, Premio = 8, Premio_acumulado = 8, Q:[[0. 0. 8. 0.]] \n",
            "\n",
            "Episodio_2, Máquina 0, Premio = 0, Premio_acumulado = 8, Q:[[0. 0. 8. 0.]] \n",
            "\n",
            "Episodio_3, Máquina 0, Premio = 1, Premio_acumulado = 9, Q:[[0.5 0.  8.  0. ]] \n",
            "\n",
            "Episodio_4, Máquina 3, Premio = -8, Premio_acumulado = 1, Q:[[ 0.5  0.   8.  -8. ]] \n",
            "\n",
            "Episodio_5, Máquina 2, Premio = 1, Premio_acumulado = 2, Q:[[ 0.5  0.   4.5 -8. ]] \n",
            "\n",
            "Episodio_6, Máquina 2, Premio = -1, Premio_acumulado = 1, Q:[[ 0.5   0.    2.67 -8.  ]] \n",
            "\n",
            "Episodio_7, Máquina 3, Premio = -10, Premio_acumulado = -9, Q:[[ 0.5   0.    2.67 -9.  ]] \n",
            "\n",
            "Episodio_8, Máquina 3, Premio = -10, Premio_acumulado = -19, Q:[[ 0.5   0.    2.67 -9.33]] \n",
            "\n",
            "Episodio_9, Máquina 0, Premio = 1, Premio_acumulado = -18, Q:[[ 0.67  0.    2.67 -9.33]] \n",
            "\n",
            "Episodio_10, Máquina 2, Premio = -1, Premio_acumulado = -19, Q:[[ 0.67  0.    1.75 -9.33]] \n",
            "\n",
            "premio_acumulado = -19\n",
            "Q = [[ 0.66666667  0.          1.75       -9.33333333]]\n"
          ]
        }
      ]
    },
    {
      "cell_type": "markdown",
      "metadata": {
        "id": "mVXPXUUw38V5"
      },
      "source": [
        "¿Sería correcto si, en lugar de escojer la máquina de forma aleatoria, escojemos la que más rendimientos ha dado?"
      ]
    },
    {
      "cell_type": "code",
      "metadata": {
        "colab": {
          "base_uri": "https://localhost:8080/"
        },
        "id": "ulLG8yCP0xLy",
        "outputId": "898afc3f-b239-4cdc-96ab-56af306b1da1"
      },
      "source": [
        "selec = np.argmax(Q[0])  # selección usando la estrategia de explotación\n",
        "selec"
      ],
      "execution_count": 39,
      "outputs": [
        {
          "output_type": "execute_result",
          "data": {
            "text/plain": [
              "2"
            ]
          },
          "metadata": {},
          "execution_count": 39
        }
      ]
    },
    {
      "cell_type": "markdown",
      "metadata": {
        "id": "xX6_4S3c8JWN"
      },
      "source": [
        "¿Podemos pensar en una estrategia combinada?"
      ]
    },
    {
      "cell_type": "code",
      "metadata": {
        "id": "2R-1PKtw8lMb",
        "colab": {
          "base_uri": "https://localhost:8080/"
        },
        "outputId": "7c51eb79-31ce-489d-c29f-df149e0189b3"
      },
      "source": [
        "p = np.random.uniform(0, 1 )  # escojemos un valor entre 0 y 1\n",
        "ε = .99 # valor que disminuye desde 1 hasta 0 según avance el aprendizaje\n",
        "print(f'p = {p}, ε = {ε}')\n",
        "print(f'¿Es p menor que 1 - ε?  {p < (1 - ε)}')\n",
        "if p < (1 - ε):\n",
        "    # Explotación\n",
        "    print('Explotación')\n",
        "    selec = np.argmax(Q[0])\n",
        "else:\n",
        "    # Exploración\n",
        "    print('Exploración')\n",
        "    selec = np.random.choice(range(n_maquinas))\n",
        "print(f'Máquina seleccionada: {selec}')"
      ],
      "execution_count": 45,
      "outputs": [
        {
          "output_type": "stream",
          "name": "stdout",
          "text": [
            "p = 0.40554819980185663, ε = 0.99\n",
            "¿Es p menor que 1 - ε?  False\n",
            "Exploración\n",
            "Máquina seleccionada: 0\n"
          ]
        }
      ]
    },
    {
      "cell_type": "code",
      "metadata": {
        "colab": {
          "base_uri": "https://localhost:8080/"
        },
        "outputId": "310a35af-2973-4eb2-8401-a135cb45f6f7",
        "id": "vhd2bAuhzJxe"
      },
      "source": [
        "p = np.random.uniform(0, 1 )  # escojemos un valor entre 0 y 1\n",
        "ε = .01 # valor que disminuye desde 1 hasta 0 según avance el aprendizaje\n",
        "print(f'p = {p}, ε = {ε}')\n",
        "print(f'¿Es p menor que 1 - ε?  {p < (1 - ε)}')\n",
        "if p < (1 - ε):\n",
        "    # Explotación\n",
        "    print('Explotación')\n",
        "    selec = np.argmax(Q[0])\n",
        "else:\n",
        "    # Exploración\n",
        "    print('Exploración')\n",
        "    selec = np.random.choice(range(n_maquinas))\n",
        "print(f'Máquina seleccionada: {selec}')"
      ],
      "execution_count": 41,
      "outputs": [
        {
          "output_type": "stream",
          "name": "stdout",
          "text": [
            "p = 0.6476598041377206, ε = 0.01\n",
            "¿Es p menor que 1 - ε?  True\n",
            "Explotación\n",
            "Máquina seleccionada: 2\n"
          ]
        }
      ]
    },
    {
      "cell_type": "markdown",
      "metadata": {
        "id": "Gmve4Vj7CJAf"
      },
      "source": [
        "Vamos a calcular  ε en función de los episodios, de manera decreciente\n"
      ]
    },
    {
      "cell_type": "code",
      "metadata": {
        "colab": {
          "base_uri": "https://localhost:8080/"
        },
        "id": "9V2gOQ1xCHLx",
        "outputId": "204ae8a3-6ef9-4cec-862c-a4fceac0782d"
      },
      "source": [
        "episodios = 200\n",
        "epsilon_vec = np.exp(-5 * np.linspace(0, 1, episodios))\n",
        "epsilon_vec"
      ],
      "execution_count": 46,
      "outputs": [
        {
          "output_type": "execute_result",
          "data": {
            "text/plain": [
              "array([1.        , 0.97518739, 0.95099045, 0.9273939 , 0.90438284,\n",
              "       0.88194274, 0.86005945, 0.83871913, 0.81790832, 0.79761388,\n",
              "       0.777823  , 0.75852319, 0.73970225, 0.72134831, 0.70344978,\n",
              "       0.68599536, 0.66897402, 0.65237503, 0.63618791, 0.62040243,\n",
              "       0.60500863, 0.58999679, 0.57535743, 0.56108131, 0.54715942,\n",
              "       0.53358297, 0.52034338, 0.50743231, 0.49484159, 0.48256328,\n",
              "       0.47058963, 0.45891307, 0.44752624, 0.43642195, 0.42559318,\n",
              "       0.41503311, 0.40473505, 0.39469252, 0.38489917, 0.37534882,\n",
              "       0.36603544, 0.35695314, 0.34809621, 0.33945903, 0.33103617,\n",
              "       0.3228223 , 0.31481224, 0.30700092, 0.29938343, 0.29195495,\n",
              "       0.28471078, 0.27764637, 0.27075724, 0.26403904, 0.25748755,\n",
              "       0.25109861, 0.2448682 , 0.23879238, 0.23286732, 0.22708927,\n",
              "       0.2214546 , 0.21595973, 0.21060121, 0.20537564, 0.20027974,\n",
              "       0.19531028, 0.19046412, 0.18573821, 0.18112956, 0.17663526,\n",
              "       0.17225248, 0.16797845, 0.16381046, 0.1597459 , 0.15578219,\n",
              "       0.15191683, 0.14814737, 0.14447145, 0.14088674, 0.13739097,\n",
              "       0.13398194, 0.1306575 , 0.12741555, 0.12425404, 0.12117097,\n",
              "       0.1181644 , 0.11523243, 0.11237322, 0.10958495, 0.10686586,\n",
              "       0.10421424, 0.10162841, 0.09910674, 0.09664765, 0.09424957,\n",
              "       0.09191099, 0.08963044, 0.08740647, 0.08523769, 0.08312272,\n",
              "       0.08106023, 0.07904891, 0.07708751, 0.07517476, 0.07330948,\n",
              "       0.07149048, 0.06971662, 0.06798677, 0.06629984, 0.06465477,\n",
              "       0.06305051, 0.06148606, 0.05996043, 0.05847266, 0.0570218 ,\n",
              "       0.05560694, 0.05422719, 0.05288167, 0.05156954, 0.05028996,\n",
              "       0.04904214, 0.04782528, 0.04663861, 0.04548138, 0.04435287,\n",
              "       0.04325236, 0.04217915, 0.04113258, 0.04011197, 0.03911669,\n",
              "       0.0381461 , 0.0371996 , 0.03627658, 0.03537646, 0.03449868,\n",
              "       0.03364268, 0.03280792, 0.03199387, 0.03120002, 0.03042586,\n",
              "       0.02967092, 0.0289347 , 0.02821676, 0.02751663, 0.02683387,\n",
              "       0.02616805, 0.02551875, 0.02488557, 0.02426809, 0.02366594,\n",
              "       0.02307872, 0.02250608, 0.02194764, 0.02140307, 0.020872  ,\n",
              "       0.02035411, 0.01984907, 0.01935657, 0.01887628, 0.01840791,\n",
              "       0.01795116, 0.01750575, 0.01707138, 0.0166478 , 0.01623472,\n",
              "       0.0158319 , 0.01543907, 0.01505598, 0.0146824 , 0.0143181 ,\n",
              "       0.01396283, 0.01361637, 0.01327851, 0.01294904, 0.01262774,\n",
              "       0.01231441, 0.01200886, 0.01171089, 0.01142031, 0.01113694,\n",
              "       0.01086061, 0.01059113, 0.01032833, 0.01007206, 0.00982215,\n",
              "       0.00957843, 0.00934077, 0.009109  , 0.00888298, 0.00866257,\n",
              "       0.00844763, 0.00823802, 0.00803362, 0.00783428, 0.00763989,\n",
              "       0.00745033, 0.00726546, 0.00708519, 0.00690939, 0.00673795])"
            ]
          },
          "metadata": {},
          "execution_count": 46
        }
      ]
    },
    {
      "cell_type": "code",
      "metadata": {
        "colab": {
          "base_uri": "https://localhost:8080/",
          "height": 503
        },
        "id": "UuxbAT2X-ian",
        "outputId": "ee62e042-c294-41c4-8719-ad9388613b1c"
      },
      "source": [
        "fig =plt.figure()\n",
        "plt.plot(epsilon_vec)\n",
        "plt.xlabel('episodio', fontsize=16)\n",
        "plt.ylabel('ε', fontsize=16)\n",
        "fig.suptitle('ε decreciente con el numero de episodios', fontsize=18)\n",
        "\n",
        "plt.show()"
      ],
      "execution_count": 47,
      "outputs": [
        {
          "output_type": "display_data",
          "data": {
            "text/plain": [
              "<Figure size 640x480 with 1 Axes>"
            ],
            "image/png": "[encoded data removed]"
          },
          "metadata": {}
        }
      ]
    },
    {
      "cell_type": "markdown",
      "metadata": {
        "id": "lHGYfGfVtZhW"
      },
      "source": [
        "# Aprendizaje con distintas estrategias"
      ]
    },
    {
      "cell_type": "code",
      "metadata": {
        "id": "0QF9KYgctZ9P"
      },
      "source": [
        "# ### Definimos el número de máquinas o brazos del problema\n",
        "# n_maquinas = 3\n",
        "\n",
        "# ### Creamos el entorno\n",
        "# np.random.seed(28)\n",
        "# premio_medio, desv_estandar = entorno_multi_armed_bandit(n_maquinas)  # inicializa la distribución de probabilidad de cada máquina\n",
        "### Definimos el número de episodios (juegos)\n",
        "episodios = 10000"
      ],
      "execution_count": 48,
      "outputs": []
    },
    {
      "cell_type": "markdown",
      "metadata": {
        "id": "SBOk8P63f7Hn"
      },
      "source": [
        "## Exploración"
      ]
    },
    {
      "cell_type": "code",
      "metadata": {
        "id": "XGdvub9qSwmJ",
        "colab": {
          "base_uri": "https://localhost:8080/"
        },
        "outputId": "ce27d321-b8ff-4ce7-f92c-d1600c747e86"
      },
      "source": [
        "### Inicializamos el vector Q\n",
        "Q = init_Q(n_maquinas)\n",
        "premio_acumulado = 0\n",
        "veces_maq = np.zeros(n_maquinas)      # guardaremos las veces que se ha jugado por máquina\n",
        "for episodio in range(1,episodios+1):\n",
        "    selec = selecciona_maquina(n_maquinas)\n",
        "    veces_maq[selec] += 1               # actualizamos las veces que se ha jugado x máquina\n",
        "    # Calcula el premio de esa acción\n",
        "    r = calcula_recompensa(selec)\n",
        "    # Actualiza la información de los premios acumulados por cada máquina\n",
        "    Q = actualiza_Q(Q, selec, r, veces_maq)\n",
        "\n",
        "    premio_acumulado += r\n",
        "\n",
        "print(f\"La ganancia total es de: {premio_acumulado} \")"
      ],
      "execution_count": 54,
      "outputs": [
        {
          "output_type": "stream",
          "name": "stdout",
          "text": [
            "La ganancia total es de: -10367 \n"
          ]
        }
      ]
    },
    {
      "cell_type": "code",
      "source": [
        "Q"
      ],
      "metadata": {
        "id": "5UnvLZXG82uj",
        "outputId": "3d130c0f-7e22-4a54-9212-2a0491d42c73",
        "colab": {
          "base_uri": "https://localhost:8080/"
        }
      },
      "execution_count": 55,
      "outputs": [
        {
          "output_type": "execute_result",
          "data": {
            "text/plain": [
              "array([[ 0.67149003,  1.74949166,  2.62549174, -9.44307944]])"
            ]
          },
          "metadata": {},
          "execution_count": 55
        }
      ]
    },
    {
      "cell_type": "markdown",
      "metadata": {
        "id": "OIDUtGQYnZCL"
      },
      "source": [
        "## Explotación"
      ]
    },
    {
      "cell_type": "code",
      "metadata": {
        "id": "SMTfsHDUnfH4",
        "colab": {
          "base_uri": "https://localhost:8080/"
        },
        "outputId": "78760f55-5d41-460c-ee29-16738b4631ea"
      },
      "source": [
        "### Inicializamos el vector Q\n",
        "Q = init_Q(n_maquinas)\n",
        "premio_acumulado = 0\n",
        "veces_maq = np.zeros(n_maquinas)      # guardaremos las veces que se ha jugado por máquina\n",
        "for i in range(n_maquinas):  # creamos un ciclo para jugar en cada máquina\n",
        "    veces_maq[i] += 1               # actualizamos las veces que se ha jugado x máquina\n",
        "    r = calcula_recompensa(i)\n",
        "    Q = actualiza_Q(Q, i, r, veces_maq)\n",
        "    premio_acumulado += r\n",
        "for episodio in range(n_maquinas+1 ,episodios+1): # el resto de los episodios los jugamos con una estrategia codiciosa\n",
        "    selec = selecciona_maquina_expl(n_maquinas)\n",
        "    veces_maq[selec] += 1               # actualizamos las veces que se ha jugado x máquina\n",
        "    r = calcula_recompensa(selec)\n",
        "    Q = actualiza_Q(Q, selec, r, veces_maq)\n",
        "    premio_acumulado += r\n",
        "print(\"El premio acumulado es de: \", premio_acumulado)"
      ],
      "execution_count": 56,
      "outputs": [
        {
          "output_type": "stream",
          "name": "stdout",
          "text": [
            "El premio acumulado es de:  6642\n"
          ]
        }
      ]
    },
    {
      "cell_type": "code",
      "source": [
        "Q"
      ],
      "metadata": {
        "id": "vTw3zB6e8xwd",
        "outputId": "567ed56d-0aec-48ab-feef-ffdf29426f70",
        "colab": {
          "base_uri": "https://localhost:8080/"
        }
      },
      "execution_count": 57,
      "outputs": [
        {
          "output_type": "execute_result",
          "data": {
            "text/plain": [
              "array([[  0.66586635,  -2.        ,   0.        , -12.        ]])"
            ]
          },
          "metadata": {},
          "execution_count": 57
        }
      ]
    },
    {
      "cell_type": "markdown",
      "metadata": {
        "id": "7gXk8RpAf_S5"
      },
      "source": [
        "## Epsilon decreasing greedy"
      ]
    },
    {
      "cell_type": "code",
      "metadata": {
        "id": "Wwluzms4f_S7",
        "colab": {
          "base_uri": "https://localhost:8080/"
        },
        "outputId": "4c00d2f0-7d2c-4088-8fbd-8f60550c5b6f"
      },
      "source": [
        "### Inicializamos el vector Q\n",
        "Q = init_Q(n_maquinas)\n",
        "epsilon_vec = np.exp(-5 * np.linspace(0, 1, episodios))  # creamos el vector con un epsilon para cada episodio\n",
        "premio_acumulado = 0\n",
        "veces_maq = np.zeros(n_maquinas)      # guardaremos las veces que se ha jugado por máquina\n",
        "for episodio in range(1 ,episodios+1):\n",
        "    ε = epsilon_vec[episodio-1]  #epsilon decreciente\n",
        "    selec = selecciona_maquina_egd(n_maquinas, ε)\n",
        "    veces_maq[selec] += 1               # actualizamos las veces que se ha jugado x máquina\n",
        "    r = calcula_recompensa(selec)\n",
        "    Q = actualiza_Q(Q, selec, r, veces_maq)\n",
        "    premio_acumulado += r\n",
        "\n",
        "print(\"El premio acumulado es de: \", premio_acumulado)"
      ],
      "execution_count": 58,
      "outputs": [
        {
          "output_type": "stream",
          "name": "stdout",
          "text": [
            "El premio acumulado es de:  20748\n"
          ]
        }
      ]
    },
    {
      "cell_type": "code",
      "source": [
        "Q"
      ],
      "metadata": {
        "id": "bkgKQA26TcUE",
        "outputId": "3eaa28dd-96ee-499c-9aea-2589713fa4bd",
        "colab": {
          "base_uri": "https://localhost:8080/"
        }
      },
      "execution_count": 59,
      "outputs": [
        {
          "output_type": "execute_result",
          "data": {
            "text/plain": [
              "array([[ 0.62407407,  1.80412371,  2.82888078, -9.41631799]])"
            ]
          },
          "metadata": {},
          "execution_count": 59
        }
      ]
    },
    {
      "cell_type": "markdown",
      "metadata": {
        "id": "U9EM0mu3mB99"
      },
      "source": [
        "# Referencias:\n",
        "\n",
        "[1]A. Aristizabal, «Understanding Reinforcement Learning Hands-On: Multi-Armed Bandits», Medium, oct. 19, 2020. https://towardsdatascience.com/understanding-reinforcement-learning-hands-on-part-2-multi-armed-bandits-526592072bdc (accedido jul. 30, 2021).\n",
        "\n"
      ]
    }
  ]
}